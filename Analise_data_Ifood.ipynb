{
  "nbformat": 4,
  "nbformat_minor": 0,
  "metadata": {
    "colab": {
      "name": "Analise_data_Ifood",
      "provenance": [],
      "collapsed_sections": [
        "gPNwNJgCeFou"
      ],
      "authorship_tag": "ABX9TyPlRqRe+e6SjOsgOvYdXk8n",
      "include_colab_link": true
    },
    "kernelspec": {
      "name": "python3",
      "display_name": "Python 3"
    },
    "language_info": {
      "name": "python"
    }
  },
  "cells": [
    {
      "cell_type": "markdown",
      "metadata": {
        "id": "view-in-github",
        "colab_type": "text"
      },
      "source": [
        "<a href=\"https://colab.research.google.com/github/DavidTitoInfantas/ifood/blob/main/Analise_data_Ifood.ipynb\" target=\"_parent\"><img src=\"https://colab.research.google.com/assets/colab-badge.svg\" alt=\"Open In Colab\"/></a>"
      ]
    },
    {
      "cell_type": "markdown",
      "metadata": {
        "id": "DnE7fekV1xGb"
      },
      "source": [
        "#Analise to data ifood"
      ]
    },
    {
      "cell_type": "markdown",
      "metadata": {
        "id": "CckGxE9G56yK"
      },
      "source": [
        "##Uploading and explory data"
      ]
    },
    {
      "cell_type": "code",
      "metadata": {
        "id": "RMII751D2bA0"
      },
      "source": [
        "import pandas as pd\n",
        "import numpy as np\n",
        "import matplotlib.pyplot as plt\n",
        "import seaborn as sn"
      ],
      "execution_count": null,
      "outputs": []
    },
    {
      "cell_type": "code",
      "metadata": {
        "id": "20AD-qTD18sU"
      },
      "source": [
        "df = pd.read_csv('https://raw.githubusercontent.com/ifood/ifood-data-business-analyst-test/master/ml_project1_data.csv')"
      ],
      "execution_count": null,
      "outputs": []
    },
    {
      "cell_type": "code",
      "metadata": {
        "id": "IRHVnVJKTahH"
      },
      "source": [
        "df.rename(columns={\"AcceptedCmp3\":\"Campanha_3\",\"AcceptedCmp4\":\"Campanha_4\",\"AcceptedCmp5\":\"Campanha_5\",\"AcceptedCmp1\":\"Campanha_1\",\"AcceptedCmp2\":\"Campanha_2\"},inplace=True)"
      ],
      "execution_count": null,
      "outputs": []
    },
    {
      "cell_type": "code",
      "metadata": {
        "colab": {
          "base_uri": "https://localhost:8080/"
        },
        "id": "QL4CkVmK4GOU",
        "outputId": "f8615ccc-3bcc-4c45-9fe0-f5042e49cce5"
      },
      "source": [
        "print('-'*20, 'General information data of the data frame', '-'*20, '\\n')\n",
        "print('side of Data Frame = {}'.format(df.shape),'\\n')\n",
        "print('head of columns = {}'.format(df.columns.values))\n",
        "\n",
        "print('-'*20, 'Information of type for column', '-'*20, '\\n')\n",
        "print(df.info())"
      ],
      "execution_count": null,
      "outputs": [
        {
          "output_type": "stream",
          "name": "stdout",
          "text": [
            "-------------------- General information data of the data frame -------------------- \n",
            "\n",
            "side of Data Frame = (2240, 29) \n",
            "\n",
            "head of columns = ['ID' 'Year_Birth' 'Education' 'Marital_Status' 'Income' 'Kidhome'\n",
            " 'Teenhome' 'Dt_Customer' 'Recency' 'MntWines' 'MntFruits'\n",
            " 'MntMeatProducts' 'MntFishProducts' 'MntSweetProducts' 'MntGoldProds'\n",
            " 'NumDealsPurchases' 'NumWebPurchases' 'NumCatalogPurchases'\n",
            " 'NumStorePurchases' 'NumWebVisitsMonth' 'Campanha_3' 'Campanha_4'\n",
            " 'Campanha_5' 'Campanha_1' 'Campanha_2' 'Complain' 'Z_CostContact'\n",
            " 'Z_Revenue' 'Response']\n",
            "-------------------- Information of type for column -------------------- \n",
            "\n",
            "<class 'pandas.core.frame.DataFrame'>\n",
            "RangeIndex: 2240 entries, 0 to 2239\n",
            "Data columns (total 29 columns):\n",
            " #   Column               Non-Null Count  Dtype  \n",
            "---  ------               --------------  -----  \n",
            " 0   ID                   2240 non-null   int64  \n",
            " 1   Year_Birth           2240 non-null   int64  \n",
            " 2   Education            2240 non-null   object \n",
            " 3   Marital_Status       2240 non-null   object \n",
            " 4   Income               2216 non-null   float64\n",
            " 5   Kidhome              2240 non-null   int64  \n",
            " 6   Teenhome             2240 non-null   int64  \n",
            " 7   Dt_Customer          2240 non-null   object \n",
            " 8   Recency              2240 non-null   int64  \n",
            " 9   MntWines             2240 non-null   int64  \n",
            " 10  MntFruits            2240 non-null   int64  \n",
            " 11  MntMeatProducts      2240 non-null   int64  \n",
            " 12  MntFishProducts      2240 non-null   int64  \n",
            " 13  MntSweetProducts     2240 non-null   int64  \n",
            " 14  MntGoldProds         2240 non-null   int64  \n",
            " 15  NumDealsPurchases    2240 non-null   int64  \n",
            " 16  NumWebPurchases      2240 non-null   int64  \n",
            " 17  NumCatalogPurchases  2240 non-null   int64  \n",
            " 18  NumStorePurchases    2240 non-null   int64  \n",
            " 19  NumWebVisitsMonth    2240 non-null   int64  \n",
            " 20  Campanha_3           2240 non-null   int64  \n",
            " 21  Campanha_4           2240 non-null   int64  \n",
            " 22  Campanha_5           2240 non-null   int64  \n",
            " 23  Campanha_1           2240 non-null   int64  \n",
            " 24  Campanha_2           2240 non-null   int64  \n",
            " 25  Complain             2240 non-null   int64  \n",
            " 26  Z_CostContact        2240 non-null   int64  \n",
            " 27  Z_Revenue            2240 non-null   int64  \n",
            " 28  Response             2240 non-null   int64  \n",
            "dtypes: float64(1), int64(25), object(3)\n",
            "memory usage: 507.6+ KB\n",
            "None\n"
          ]
        }
      ]
    },
    {
      "cell_type": "markdown",
      "metadata": {
        "id": "wL7U0H5y6Vjy"
      },
      "source": [
        "\n",
        "##Analise columns with nulls"
      ]
    },
    {
      "cell_type": "code",
      "metadata": {
        "colab": {
          "base_uri": "https://localhost:8080/"
        },
        "id": "E9T6rB604Fc4",
        "outputId": "11bf3440-ae29-4927-cb81-a896018c459c"
      },
      "source": [
        "df.isnull().sum()/df.count()"
      ],
      "execution_count": null,
      "outputs": [
        {
          "output_type": "execute_result",
          "data": {
            "text/plain": [
              "ID                     0.00000\n",
              "Year_Birth             0.00000\n",
              "Education              0.00000\n",
              "Marital_Status         0.00000\n",
              "Income                 0.01083\n",
              "Kidhome                0.00000\n",
              "Teenhome               0.00000\n",
              "Dt_Customer            0.00000\n",
              "Recency                0.00000\n",
              "MntWines               0.00000\n",
              "MntFruits              0.00000\n",
              "MntMeatProducts        0.00000\n",
              "MntFishProducts        0.00000\n",
              "MntSweetProducts       0.00000\n",
              "MntGoldProds           0.00000\n",
              "NumDealsPurchases      0.00000\n",
              "NumWebPurchases        0.00000\n",
              "NumCatalogPurchases    0.00000\n",
              "NumStorePurchases      0.00000\n",
              "NumWebVisitsMonth      0.00000\n",
              "Campanha_3             0.00000\n",
              "Campanha_4             0.00000\n",
              "Campanha_5             0.00000\n",
              "Campanha_1             0.00000\n",
              "Campanha_2             0.00000\n",
              "Complain               0.00000\n",
              "Z_CostContact          0.00000\n",
              "Z_Revenue              0.00000\n",
              "Response               0.00000\n",
              "dtype: float64"
            ]
          },
          "metadata": {},
          "execution_count": 643
        }
      ]
    },
    {
      "cell_type": "markdown",
      "metadata": {
        "id": "bJ9q9oJq_as8"
      },
      "source": [
        "####Change the NA for Icome's median "
      ]
    },
    {
      "cell_type": "code",
      "metadata": {
        "id": "aMbggB6i4sE2"
      },
      "source": [
        "##df['Income'].median()\n",
        "df['Income'].fillna(df['Income'].median(),inplace=True)"
      ],
      "execution_count": null,
      "outputs": []
    },
    {
      "cell_type": "markdown",
      "metadata": {
        "id": "HeRQ-qH2ABRg"
      },
      "source": [
        "###Filtro de DF con 1 variable por canal de venta"
      ]
    },
    {
      "cell_type": "code",
      "metadata": {
        "colab": {
          "base_uri": "https://localhost:8080/"
        },
        "id": "REg6rSkF4r67",
        "outputId": "7281789b-1b3d-41be-d9d9-ee5998dbaca6"
      },
      "source": [
        "LF = df[(df['NumStorePurchases']>0)&(df['NumCatalogPurchases']==0)&(df['NumWebPurchases']==0)]\n",
        "CT = df[(df['NumStorePurchases']==0)&(df['NumCatalogPurchases']>0)&(df['NumWebPurchases']==0)]\n",
        "ST = df[(df['NumStorePurchases']==0)&(df['NumCatalogPurchases']==0)&(df['NumWebPurchases']>0)]\n",
        "LF_CT = df[(df['NumStorePurchases']>0)&(df['NumCatalogPurchases']>0)&(df['NumWebPurchases']==0)]\n",
        "LF_ST = df[(df['NumStorePurchases']>0)&(df['NumCatalogPurchases']==0)&(df['NumWebPurchases']>0)]\n",
        "CT_ST = df[(df['NumStorePurchases']==0)&(df['NumCatalogPurchases']>0)&(df['NumWebPurchases']>0)]\n",
        "LF_CT_ST = df[(df['NumStorePurchases']>0)&(df['NumCatalogPurchases']>0)&(df['NumWebPurchases']>0)]\n",
        "NA = df[(df['NumStorePurchases']==0)&(df['NumCatalogPurchases']==0)&(df['NumWebPurchases']==0)]\n",
        "##index = LF.index\n",
        "##print(len(index))\n",
        "print('='*15,'Filtro de DF con 1 variable','='*15,'\\n')\n",
        "print('Persoas que compraron solamente Loja Fisica',' '*5,len(LF),'->',round((len(LF)/len(df))*100,2),'%')\n",
        "print('-'*50)\n",
        "print('Persoas que compraron solamente por Catalogo',' '*5,len(CT),'->',round((len(CT)/len(df))*100,2),'%')\n",
        "print('-'*50)\n",
        "print('Persoas que compraron solamente por Site Web',' '*5,len(ST),'->',round((len(ST)/len(df))*100,2),'%')\n",
        "print('-'*50)\n",
        "print('Persoas que compraron por Loja Fisica y Catalogo',' '*5,len(LF_CT),'->',round((len(LF_CT)/len(df))*100,2),'%')\n",
        "print('-'*50)\n",
        "print('Persoas que compraron por Loja Fisica y Site Web',' '*5,len(LF_ST),'->',round((len(LF_ST)/len(df))*100,2),'%')\n",
        "print('-'*50)\n",
        "print('Persoas que compraron por Catalogo y site web',' '*5,len(CT_ST),'->',round((len(CT_ST)/len(df))*100,2),'%')\n",
        "print('-'*50)\n",
        "print('Persoas que compraron por Loja Fisica, Catalogo y site web',' '*5,len(LF_CT_ST),'->',round((len(LF_CT_ST)/len(df))*100,2),'%')\n",
        "print('-'*50)\n",
        "print('Persoas que NO utilizaron ningun canal',' '*10,len(NA),'->',round((len(NA)/len(df))*100,2),'%')\n"
      ],
      "execution_count": null,
      "outputs": [
        {
          "output_type": "stream",
          "name": "stdout",
          "text": [
            "=============== Filtro de DF con 1 variable =============== \n",
            "\n",
            "Persoas que compraron solamente Loja Fisica       31 -> 1.38 %\n",
            "--------------------------------------------------\n",
            "Persoas que compraron solamente por Catalogo       4 -> 0.18 %\n",
            "--------------------------------------------------\n",
            "Persoas que compraron solamente por Site Web       5 -> 0.22 %\n",
            "--------------------------------------------------\n",
            "Persoas que compraron por Loja Fisica y Catalogo       8 -> 0.36 %\n",
            "--------------------------------------------------\n",
            "Persoas que compraron por Loja Fisica y Site Web       544 -> 24.29 %\n",
            "--------------------------------------------------\n",
            "Persoas que compraron por Catalogo y site web       0 -> 0.0 %\n",
            "--------------------------------------------------\n",
            "Persoas que compraron por Loja Fisica, Catalogo y site web       1642 -> 73.3 %\n",
            "--------------------------------------------------\n",
            "Persoas que NO utilizaron ningun canal            6 -> 0.27 %\n"
          ]
        }
      ]
    },
    {
      "cell_type": "markdown",
      "metadata": {
        "id": "arAm_uJmx3hH"
      },
      "source": [
        "Depois de fazer o filtro, se observou que tein um mayor volumen de persoas que compran por os treis canais que tein a empresa en un mismo periodo do tempo, tanbem se observa un volumen menor mas consideravel de persoas que solamente comprarom em la loja fìsica y o site web, con isso vamos vendo certas tendencias a preferir os caneles da Loja Fisica e Site web."
      ]
    },
    {
      "cell_type": "code",
      "metadata": {
        "colab": {
          "base_uri": "https://localhost:8080/"
        },
        "id": "Lvo5lC0qvm5p",
        "outputId": "420cd4e0-058f-4d39-fc02-7d3b42023721"
      },
      "source": [
        "print('='*5,'Análise das pessoas que compram nos 3 canais','='*5,'\\n')\n",
        "print('Quantidade de compras feitas pelo site     ',round(LF_CT_ST['NumWebPurchases'].sum()/LF_CT_ST[['NumWebPurchases','NumCatalogPurchases','NumStorePurchases']].sum().sum()*100,2),'%')\n",
        "print('Quantidade de compras feitas pelo catalogo ',round(LF_CT_ST['NumCatalogPurchases'].sum()/LF_CT_ST[['NumWebPurchases','NumCatalogPurchases','NumStorePurchases']].sum().sum()*100,2),'%')\n",
        "print('Quantidade de compras feitas pela Store    ',round(LF_CT_ST['NumStorePurchases'].sum()/LF_CT_ST[['NumWebPurchases','NumCatalogPurchases','NumStorePurchases']].sum().sum()*100,2),'%')"
      ],
      "execution_count": null,
      "outputs": [
        {
          "output_type": "stream",
          "name": "stdout",
          "text": [
            "===== Análise das pessoas que compram nos 3 canais ===== \n",
            "\n",
            "Quantidade de compras feitas pelo site      32.18 %\n",
            "Quantidade de compras feitas pelo catalogo  23.22 %\n",
            "Quantidade de compras feitas pela Store     44.59 %\n"
          ]
        }
      ]
    },
    {
      "cell_type": "markdown",
      "metadata": {
        "id": "Hk6JQuLl0ouZ"
      },
      "source": [
        "Com este análise, evaluamos las proporciones de compra de las personas que compraron por os 3 canais en el mismo perodo de tempo, obtuvendo como resultado el reforzo da idea de as persoas preferen comprar muito mais em canais da Loja Fisica e Site web. "
      ]
    },
    {
      "cell_type": "markdown",
      "metadata": {
        "id": "vn8X6aDfU3KZ"
      },
      "source": [
        "###Cantidade que o cliente gasta por produto"
      ]
    },
    {
      "cell_type": "code",
      "metadata": {
        "colab": {
          "base_uri": "https://localhost:8080/"
        },
        "id": "-2U948WcW4ps",
        "outputId": "86208ba0-60f5-4cd5-faeb-23f85f863d5d"
      },
      "source": [
        "lista = ['MntWines',\t'MntFruits','MntMeatProducts',\t'MntFishProducts',\t'MntSweetProducts',\t'MntGoldProds']\n",
        "np.round(df[lista].sum()/df[lista].sum().sum()*100,2).sort_values(ascending=False)"
      ],
      "execution_count": null,
      "outputs": [
        {
          "output_type": "execute_result",
          "data": {
            "text/plain": [
              "MntWines            50.17\n",
              "MntMeatProducts     27.56\n",
              "MntGoldProds         7.27\n",
              "MntFishProducts      6.19\n",
              "MntSweetProducts     4.47\n",
              "MntFruits            4.34\n",
              "dtype: float64"
            ]
          },
          "metadata": {},
          "execution_count": 647
        }
      ]
    },
    {
      "cell_type": "markdown",
      "metadata": {
        "id": "pdQKnK_PcIWL"
      },
      "source": [
        "Temos uma grande diferencia em as vendas dos productos Wine e Meat a diferencia dos demais produtos, sendo a mitad das vendas realizadas em wines e cuasi um cuarto del total em Meat."
      ]
    },
    {
      "cell_type": "markdown",
      "metadata": {
        "id": "r96HS9usb_2G"
      },
      "source": [
        ""
      ]
    },
    {
      "cell_type": "markdown",
      "metadata": {
        "id": "zHuIc6H3AvjE"
      },
      "source": [
        "###Filtro de DF com 1 variable por tipo de produto"
      ]
    },
    {
      "cell_type": "code",
      "metadata": {
        "id": "JFFLJ-lp4r15"
      },
      "source": [
        "###LF_PO = LF[(LF['MntGoldProds']>0)]\n",
        "###LF_PR = LF[(LF['NumDealsPurchases']>0)]\n",
        "###CT_PO = CT[(CT['MntGoldProds']>0)]\n",
        "###CT_PR = CT[(CT['NumDealsPurchases']>0)]\n",
        "###ST_PO = ST[(ST['MntGoldProds']>0)]\n",
        "###ST_PR = ST[(ST['NumDealsPurchases']>0)]\n",
        "###\n",
        "###print('='*10,'Filtro de DF con 2 variables','='*10,'\\n')\n",
        "###print('Compra en Tienda Fisica el producto oro','\\n',' '*10, len(LF_PO),'->',round((len(LF_PO)/len(df))*100,2),'%')\n",
        "###print('-'*50)\n",
        "###print('Compra en Tienda Fisica el producto regular','\\n', ' '*10,len(LF_PR),'->',round((len(LF_PR)/len(df))*100,2),'%')\n",
        "###print('-'*50)\n",
        "###print('Compra en Catalogo el producto oro','\\n', ' '*10,len(CT_PO),'->',round((len(CT_PO)/len(df))*100,2),'%')\n",
        "###print('-'*50)\n",
        "###print('Compra en Catalogo el producto regular','\\n', ' '*10,len(CT_PR),'->',round((len(CT_PR)/len(df))*100,2),'%')\n",
        "###print('-'*50)\n",
        "###print('Compra en Site de Empresa fisica el producto oro','\\n', ' '*10,len(ST_PO),'->',round((len(ST_PO)/len(df))*100,2),'%')\n",
        "###print('-'*50)\n",
        "###print('Compra en Site de Empresa el producto regular','\\n', ' '*10,len(ST_PR),'->',round((len(ST_PR)/len(df))*100,2),'%')"
      ],
      "execution_count": null,
      "outputs": []
    },
    {
      "cell_type": "markdown",
      "metadata": {
        "id": "NQsMplkGIswm"
      },
      "source": [
        "###Tirando Outliers"
      ]
    },
    {
      "cell_type": "code",
      "metadata": {
        "id": "Ji_FGG2Z4rwr"
      },
      "source": [
        "df['Year2']= 2021-df.Year_Birth\n",
        "df['Year2'].fillna(df['Year2'].median(),inplace=True)"
      ],
      "execution_count": null,
      "outputs": []
    },
    {
      "cell_type": "code",
      "metadata": {
        "id": "wYjFkXTIBZhV"
      },
      "source": [
        "#FAIXAS = 30\n",
        "#pd.cut(['Year_Birth'], bins=FAIXAS)\n",
        "#pd.qcut(x=df.Year2, q=FAIXAS).sort_values().unique()\n",
        "#fix,ax = plt.subplots(figsize=(15,7))\n",
        "#pd.qcut(x=df['Year2'], q=FAIXAS).value_counts().plot(kind='bar')"
      ],
      "execution_count": null,
      "outputs": []
    },
    {
      "cell_type": "code",
      "metadata": {
        "colab": {
          "base_uri": "https://localhost:8080/"
        },
        "id": "fk0tngXGBZYw",
        "outputId": "67307e2f-7611-40ab-e17e-eb46252c0434"
      },
      "source": [
        "#Tirando Outliers\n",
        "IQT = df['Year2'].describe()[-2]-df['Year2'].describe()[-4]\n",
        "out_inferior = df['Year2'].describe()[-4] -1.5*IQT \n",
        "out_superior = df['Year2'].describe()[-2] +1.5*IQT\n",
        "print('valor min :', out_inferior)\n",
        "print('valor max :', out_superior)"
      ],
      "execution_count": null,
      "outputs": [
        {
          "output_type": "stream",
          "name": "stdout",
          "text": [
            "valor min : 17.0\n",
            "valor max : 89.0\n"
          ]
        }
      ]
    },
    {
      "cell_type": "code",
      "metadata": {
        "id": "nBNLHP_-BZP6"
      },
      "source": [
        "df = df[(df['Year2']<= out_superior)&(df['Year2']>= out_inferior)]"
      ],
      "execution_count": null,
      "outputs": []
    },
    {
      "cell_type": "markdown",
      "metadata": {
        "id": "A5mFkXDKQ17P"
      },
      "source": [
        "####Change the values in Kidhome and Teenhome for only values [0,1]"
      ]
    },
    {
      "cell_type": "code",
      "metadata": {
        "id": "yyUwhHstQ4_2"
      },
      "source": [
        "df['Kidhome'].replace(2,1,inplace=True)\n",
        "df['Teenhome'].replace(2,1,inplace=True)"
      ],
      "execution_count": null,
      "outputs": []
    },
    {
      "cell_type": "markdown",
      "metadata": {
        "id": "94NpqGX4vqq7"
      },
      "source": [
        "####Change the values in Education for the values [1,2,3,4,5]"
      ]
    },
    {
      "cell_type": "code",
      "metadata": {
        "id": "V2AzYlKBy8qH"
      },
      "source": [
        "df['Education'].replace({'Basic': 1, 'Graduation': 2,'2n Cycle':3, 'Master': 4, 'PhD': 5},inplace=True)"
      ],
      "execution_count": null,
      "outputs": []
    },
    {
      "cell_type": "markdown",
      "metadata": {
        "id": "Ud_jWfUA1e2S"
      },
      "source": [
        "####Change the values in Marital_Status for the values [1,2,3,4,5]"
      ]
    },
    {
      "cell_type": "code",
      "metadata": {
        "id": "ytuBes1vy8ge"
      },
      "source": [
        "df['Marital_Status'].replace({'Single':1,\n",
        "                              'Together':2,\n",
        "                              'Married':3, \n",
        "                              'Divorced':4, \n",
        "                              'Widow':5, \n",
        "                              'Alone':5, \n",
        "                              'Absurd':5,\n",
        "                              'YOLO':5},inplace=True)"
      ],
      "execution_count": null,
      "outputs": []
    },
    {
      "cell_type": "markdown",
      "metadata": {
        "id": "RHyVnhWXgmXp"
      },
      "source": [
        "###Create new column of range to ages [1,2,3,4,5]"
      ]
    },
    {
      "cell_type": "code",
      "metadata": {
        "id": "t5djOFBoglqG"
      },
      "source": [
        "bins = [0,36,47,58,69,81]\n",
        "labels = [1,\n",
        "          2,\n",
        "          3,\n",
        "          4,\n",
        "          5]"
      ],
      "execution_count": null,
      "outputs": []
    },
    {
      "cell_type": "code",
      "metadata": {
        "id": "Yz6PAncRq_VK",
        "colab": {
          "base_uri": "https://localhost:8080/"
        },
        "outputId": "dccf6bba-1daf-44e1-a1ab-e4e6551dace0"
      },
      "source": [
        "df['Age_Category'] = pd.cut(df['Year2'],bins,labels =labels)\n",
        "pd.cut(df['Year2'],bins).value_counts(normalize=True).sort_values()*100"
      ],
      "execution_count": null,
      "outputs": [
        {
          "output_type": "execute_result",
          "data": {
            "text/plain": [
              "(69, 81]     8.001788\n",
              "(0, 36]      9.879303\n",
              "(58, 69]    23.111310\n",
              "(36, 47]    27.983907\n",
              "(47, 58]    31.023692\n",
              "Name: Year2, dtype: float64"
            ]
          },
          "metadata": {},
          "execution_count": 657
        }
      ]
    },
    {
      "cell_type": "code",
      "metadata": {
        "colab": {
          "base_uri": "https://localhost:8080/"
        },
        "id": "Wb3fXAQ5qHDi",
        "outputId": "822d46e2-b2d1-434e-fa00-31d3d396bee1"
      },
      "source": [
        "pd.cut(df['Year2'],bins).unique().sort_values()"
      ],
      "execution_count": null,
      "outputs": [
        {
          "output_type": "execute_result",
          "data": {
            "text/plain": [
              "[(0, 36], (36, 47], (47, 58], (58, 69], (69, 81]]\n",
              "Categories (5, interval[int64]): [(0, 36] < (36, 47] < (47, 58] < (58, 69] < (69, 81]]"
            ]
          },
          "metadata": {},
          "execution_count": 658
        }
      ]
    },
    {
      "cell_type": "markdown",
      "metadata": {
        "id": "RCRjfB_L4WNU"
      },
      "source": [
        "##Creat a column: Sensibility of campaing"
      ]
    },
    {
      "cell_type": "code",
      "metadata": {
        "id": "OJydfd0EUnYt"
      },
      "source": [
        "df[\"sensibilidade_campanhas\"] = df[[\"Campanha_3\",\n",
        "                                    \"Campanha_4\",\n",
        "                                    \"Campanha_5\",\n",
        "                                    \"Campanha_2\",\n",
        "                                    \"Campanha_1\"\n",
        "                                    ]].sum(axis=1)/df[[\"Campanha_3\",\n",
        "                                                       \"Campanha_4\",\n",
        "                                                       \"Campanha_5\",\n",
        "                                                       \"Campanha_2\",\n",
        "                                                       \"Campanha_1\"\n",
        "                                                       ]].count(axis=1)"
      ],
      "execution_count": null,
      "outputs": []
    },
    {
      "cell_type": "code",
      "metadata": {
        "colab": {
          "base_uri": "https://localhost:8080/",
          "height": 422
        },
        "id": "Sq8gQU3VUnWd",
        "outputId": "da2f4c01-1ee8-4ee8-f4bb-2988ae3ba51f"
      },
      "source": [
        "df[[\"Campanha_3\",\"Campanha_4\",\"Campanha_5\",\"Campanha_2\",\"Campanha_1\",\"sensibilidade_campanhas\"]]"
      ],
      "execution_count": null,
      "outputs": [
        {
          "output_type": "execute_result",
          "data": {
            "text/html": [
              "<div>\n",
              "<style scoped>\n",
              "    .dataframe tbody tr th:only-of-type {\n",
              "        vertical-align: middle;\n",
              "    }\n",
              "\n",
              "    .dataframe tbody tr th {\n",
              "        vertical-align: top;\n",
              "    }\n",
              "\n",
              "    .dataframe thead th {\n",
              "        text-align: right;\n",
              "    }\n",
              "</style>\n",
              "<table border=\"1\" class=\"dataframe\">\n",
              "  <thead>\n",
              "    <tr style=\"text-align: right;\">\n",
              "      <th></th>\n",
              "      <th>Campanha_3</th>\n",
              "      <th>Campanha_4</th>\n",
              "      <th>Campanha_5</th>\n",
              "      <th>Campanha_2</th>\n",
              "      <th>Campanha_1</th>\n",
              "      <th>sensibilidade_campanhas</th>\n",
              "    </tr>\n",
              "  </thead>\n",
              "  <tbody>\n",
              "    <tr>\n",
              "      <th>0</th>\n",
              "      <td>0</td>\n",
              "      <td>0</td>\n",
              "      <td>0</td>\n",
              "      <td>0</td>\n",
              "      <td>0</td>\n",
              "      <td>0.0</td>\n",
              "    </tr>\n",
              "    <tr>\n",
              "      <th>1</th>\n",
              "      <td>0</td>\n",
              "      <td>0</td>\n",
              "      <td>0</td>\n",
              "      <td>0</td>\n",
              "      <td>0</td>\n",
              "      <td>0.0</td>\n",
              "    </tr>\n",
              "    <tr>\n",
              "      <th>2</th>\n",
              "      <td>0</td>\n",
              "      <td>0</td>\n",
              "      <td>0</td>\n",
              "      <td>0</td>\n",
              "      <td>0</td>\n",
              "      <td>0.0</td>\n",
              "    </tr>\n",
              "    <tr>\n",
              "      <th>3</th>\n",
              "      <td>0</td>\n",
              "      <td>0</td>\n",
              "      <td>0</td>\n",
              "      <td>0</td>\n",
              "      <td>0</td>\n",
              "      <td>0.0</td>\n",
              "    </tr>\n",
              "    <tr>\n",
              "      <th>4</th>\n",
              "      <td>0</td>\n",
              "      <td>0</td>\n",
              "      <td>0</td>\n",
              "      <td>0</td>\n",
              "      <td>0</td>\n",
              "      <td>0.0</td>\n",
              "    </tr>\n",
              "    <tr>\n",
              "      <th>...</th>\n",
              "      <td>...</td>\n",
              "      <td>...</td>\n",
              "      <td>...</td>\n",
              "      <td>...</td>\n",
              "      <td>...</td>\n",
              "      <td>...</td>\n",
              "    </tr>\n",
              "    <tr>\n",
              "      <th>2235</th>\n",
              "      <td>0</td>\n",
              "      <td>0</td>\n",
              "      <td>0</td>\n",
              "      <td>0</td>\n",
              "      <td>0</td>\n",
              "      <td>0.0</td>\n",
              "    </tr>\n",
              "    <tr>\n",
              "      <th>2236</th>\n",
              "      <td>0</td>\n",
              "      <td>0</td>\n",
              "      <td>0</td>\n",
              "      <td>0</td>\n",
              "      <td>1</td>\n",
              "      <td>0.2</td>\n",
              "    </tr>\n",
              "    <tr>\n",
              "      <th>2237</th>\n",
              "      <td>0</td>\n",
              "      <td>1</td>\n",
              "      <td>0</td>\n",
              "      <td>0</td>\n",
              "      <td>0</td>\n",
              "      <td>0.2</td>\n",
              "    </tr>\n",
              "    <tr>\n",
              "      <th>2238</th>\n",
              "      <td>0</td>\n",
              "      <td>0</td>\n",
              "      <td>0</td>\n",
              "      <td>0</td>\n",
              "      <td>0</td>\n",
              "      <td>0.0</td>\n",
              "    </tr>\n",
              "    <tr>\n",
              "      <th>2239</th>\n",
              "      <td>0</td>\n",
              "      <td>0</td>\n",
              "      <td>0</td>\n",
              "      <td>0</td>\n",
              "      <td>0</td>\n",
              "      <td>0.0</td>\n",
              "    </tr>\n",
              "  </tbody>\n",
              "</table>\n",
              "<p>2237 rows × 6 columns</p>\n",
              "</div>"
            ],
            "text/plain": [
              "      Campanha_3  Campanha_4  ...  Campanha_1  sensibilidade_campanhas\n",
              "0              0           0  ...           0                      0.0\n",
              "1              0           0  ...           0                      0.0\n",
              "2              0           0  ...           0                      0.0\n",
              "3              0           0  ...           0                      0.0\n",
              "4              0           0  ...           0                      0.0\n",
              "...          ...         ...  ...         ...                      ...\n",
              "2235           0           0  ...           0                      0.0\n",
              "2236           0           0  ...           1                      0.2\n",
              "2237           0           1  ...           0                      0.2\n",
              "2238           0           0  ...           0                      0.0\n",
              "2239           0           0  ...           0                      0.0\n",
              "\n",
              "[2237 rows x 6 columns]"
            ]
          },
          "metadata": {},
          "execution_count": 660
        }
      ]
    },
    {
      "cell_type": "markdown",
      "metadata": {
        "id": "Tz5kl8de5e1f"
      },
      "source": [
        "##Analise corrrelation the column Sensibility of campaing with target"
      ]
    },
    {
      "cell_type": "code",
      "metadata": {
        "colab": {
          "base_uri": "https://localhost:8080/",
          "height": 112
        },
        "id": "JzbV15FlUnSz",
        "outputId": "fd4294fd-7f5b-4fea-c968-feee743c5f3b"
      },
      "source": [
        "df[[\"Response\",\"sensibilidade_campanhas\"]].corr(method=\"spearman\")"
      ],
      "execution_count": null,
      "outputs": [
        {
          "output_type": "execute_result",
          "data": {
            "text/html": [
              "<div>\n",
              "<style scoped>\n",
              "    .dataframe tbody tr th:only-of-type {\n",
              "        vertical-align: middle;\n",
              "    }\n",
              "\n",
              "    .dataframe tbody tr th {\n",
              "        vertical-align: top;\n",
              "    }\n",
              "\n",
              "    .dataframe thead th {\n",
              "        text-align: right;\n",
              "    }\n",
              "</style>\n",
              "<table border=\"1\" class=\"dataframe\">\n",
              "  <thead>\n",
              "    <tr style=\"text-align: right;\">\n",
              "      <th></th>\n",
              "      <th>Response</th>\n",
              "      <th>sensibilidade_campanhas</th>\n",
              "    </tr>\n",
              "  </thead>\n",
              "  <tbody>\n",
              "    <tr>\n",
              "      <th>Response</th>\n",
              "      <td>1.000000</td>\n",
              "      <td>0.388324</td>\n",
              "    </tr>\n",
              "    <tr>\n",
              "      <th>sensibilidade_campanhas</th>\n",
              "      <td>0.388324</td>\n",
              "      <td>1.000000</td>\n",
              "    </tr>\n",
              "  </tbody>\n",
              "</table>\n",
              "</div>"
            ],
            "text/plain": [
              "                         Response  sensibilidade_campanhas\n",
              "Response                 1.000000                 0.388324\n",
              "sensibilidade_campanhas  0.388324                 1.000000"
            ]
          },
          "metadata": {},
          "execution_count": 661
        }
      ]
    },
    {
      "cell_type": "code",
      "metadata": {
        "colab": {
          "base_uri": "https://localhost:8080/",
          "height": 112
        },
        "id": "gyrwUFtv4KEs",
        "outputId": "936e0fe3-3975-4dfa-a0ba-b304e9ba3ee7"
      },
      "source": [
        "df[[\"Response\",\"sensibilidade_campanhas\"]].corr()"
      ],
      "execution_count": null,
      "outputs": [
        {
          "output_type": "execute_result",
          "data": {
            "text/html": [
              "<div>\n",
              "<style scoped>\n",
              "    .dataframe tbody tr th:only-of-type {\n",
              "        vertical-align: middle;\n",
              "    }\n",
              "\n",
              "    .dataframe tbody tr th {\n",
              "        vertical-align: top;\n",
              "    }\n",
              "\n",
              "    .dataframe thead th {\n",
              "        text-align: right;\n",
              "    }\n",
              "</style>\n",
              "<table border=\"1\" class=\"dataframe\">\n",
              "  <thead>\n",
              "    <tr style=\"text-align: right;\">\n",
              "      <th></th>\n",
              "      <th>Response</th>\n",
              "      <th>sensibilidade_campanhas</th>\n",
              "    </tr>\n",
              "  </thead>\n",
              "  <tbody>\n",
              "    <tr>\n",
              "      <th>Response</th>\n",
              "      <td>1.000000</td>\n",
              "      <td>0.426253</td>\n",
              "    </tr>\n",
              "    <tr>\n",
              "      <th>sensibilidade_campanhas</th>\n",
              "      <td>0.426253</td>\n",
              "      <td>1.000000</td>\n",
              "    </tr>\n",
              "  </tbody>\n",
              "</table>\n",
              "</div>"
            ],
            "text/plain": [
              "                         Response  sensibilidade_campanhas\n",
              "Response                 1.000000                 0.426253\n",
              "sensibilidade_campanhas  0.426253                 1.000000"
            ]
          },
          "metadata": {},
          "execution_count": 662
        }
      ]
    },
    {
      "cell_type": "markdown",
      "metadata": {
        "id": "DtsholiGKkms"
      },
      "source": [
        "##Create column sensibility of purchases in the site web"
      ]
    },
    {
      "cell_type": "code",
      "metadata": {
        "colab": {
          "base_uri": "https://localhost:8080/",
          "height": 422
        },
        "id": "geW1eUiCLGGa",
        "outputId": "04fef03e-5d90-42bf-a50e-9d61dfd945d2"
      },
      "source": [
        "df['sensibility_site web'] = round(df['NumWebPurchases']/df['NumWebVisitsMonth'],2)\n",
        "df[['NumWebPurchases','NumWebVisitsMonth','sensibility_site web']]"
      ],
      "execution_count": null,
      "outputs": [
        {
          "output_type": "execute_result",
          "data": {
            "text/html": [
              "<div>\n",
              "<style scoped>\n",
              "    .dataframe tbody tr th:only-of-type {\n",
              "        vertical-align: middle;\n",
              "    }\n",
              "\n",
              "    .dataframe tbody tr th {\n",
              "        vertical-align: top;\n",
              "    }\n",
              "\n",
              "    .dataframe thead th {\n",
              "        text-align: right;\n",
              "    }\n",
              "</style>\n",
              "<table border=\"1\" class=\"dataframe\">\n",
              "  <thead>\n",
              "    <tr style=\"text-align: right;\">\n",
              "      <th></th>\n",
              "      <th>NumWebPurchases</th>\n",
              "      <th>NumWebVisitsMonth</th>\n",
              "      <th>sensibility_site web</th>\n",
              "    </tr>\n",
              "  </thead>\n",
              "  <tbody>\n",
              "    <tr>\n",
              "      <th>0</th>\n",
              "      <td>8</td>\n",
              "      <td>7</td>\n",
              "      <td>1.14</td>\n",
              "    </tr>\n",
              "    <tr>\n",
              "      <th>1</th>\n",
              "      <td>1</td>\n",
              "      <td>5</td>\n",
              "      <td>0.20</td>\n",
              "    </tr>\n",
              "    <tr>\n",
              "      <th>2</th>\n",
              "      <td>8</td>\n",
              "      <td>4</td>\n",
              "      <td>2.00</td>\n",
              "    </tr>\n",
              "    <tr>\n",
              "      <th>3</th>\n",
              "      <td>2</td>\n",
              "      <td>6</td>\n",
              "      <td>0.33</td>\n",
              "    </tr>\n",
              "    <tr>\n",
              "      <th>4</th>\n",
              "      <td>5</td>\n",
              "      <td>5</td>\n",
              "      <td>1.00</td>\n",
              "    </tr>\n",
              "    <tr>\n",
              "      <th>...</th>\n",
              "      <td>...</td>\n",
              "      <td>...</td>\n",
              "      <td>...</td>\n",
              "    </tr>\n",
              "    <tr>\n",
              "      <th>2235</th>\n",
              "      <td>9</td>\n",
              "      <td>5</td>\n",
              "      <td>1.80</td>\n",
              "    </tr>\n",
              "    <tr>\n",
              "      <th>2236</th>\n",
              "      <td>8</td>\n",
              "      <td>7</td>\n",
              "      <td>1.14</td>\n",
              "    </tr>\n",
              "    <tr>\n",
              "      <th>2237</th>\n",
              "      <td>2</td>\n",
              "      <td>6</td>\n",
              "      <td>0.33</td>\n",
              "    </tr>\n",
              "    <tr>\n",
              "      <th>2238</th>\n",
              "      <td>6</td>\n",
              "      <td>3</td>\n",
              "      <td>2.00</td>\n",
              "    </tr>\n",
              "    <tr>\n",
              "      <th>2239</th>\n",
              "      <td>3</td>\n",
              "      <td>7</td>\n",
              "      <td>0.43</td>\n",
              "    </tr>\n",
              "  </tbody>\n",
              "</table>\n",
              "<p>2237 rows × 3 columns</p>\n",
              "</div>"
            ],
            "text/plain": [
              "      NumWebPurchases  NumWebVisitsMonth  sensibility_site web\n",
              "0                   8                  7                  1.14\n",
              "1                   1                  5                  0.20\n",
              "2                   8                  4                  2.00\n",
              "3                   2                  6                  0.33\n",
              "4                   5                  5                  1.00\n",
              "...               ...                ...                   ...\n",
              "2235                9                  5                  1.80\n",
              "2236                8                  7                  1.14\n",
              "2237                2                  6                  0.33\n",
              "2238                6                  3                  2.00\n",
              "2239                3                  7                  0.43\n",
              "\n",
              "[2237 rows x 3 columns]"
            ]
          },
          "metadata": {},
          "execution_count": 663
        }
      ]
    },
    {
      "cell_type": "code",
      "metadata": {
        "colab": {
          "base_uri": "https://localhost:8080/",
          "height": 112
        },
        "id": "N8x2Lhz9RFOw",
        "outputId": "3a56584f-6c57-418b-f92e-e83ea29e9191"
      },
      "source": [
        "df[['sensibility_site web','Response' ]].corr()"
      ],
      "execution_count": null,
      "outputs": [
        {
          "output_type": "execute_result",
          "data": {
            "text/html": [
              "<div>\n",
              "<style scoped>\n",
              "    .dataframe tbody tr th:only-of-type {\n",
              "        vertical-align: middle;\n",
              "    }\n",
              "\n",
              "    .dataframe tbody tr th {\n",
              "        vertical-align: top;\n",
              "    }\n",
              "\n",
              "    .dataframe thead th {\n",
              "        text-align: right;\n",
              "    }\n",
              "</style>\n",
              "<table border=\"1\" class=\"dataframe\">\n",
              "  <thead>\n",
              "    <tr style=\"text-align: right;\">\n",
              "      <th></th>\n",
              "      <th>sensibility_site web</th>\n",
              "      <th>Response</th>\n",
              "    </tr>\n",
              "  </thead>\n",
              "  <tbody>\n",
              "    <tr>\n",
              "      <th>sensibility_site web</th>\n",
              "      <td>1.000000</td>\n",
              "      <td>0.094571</td>\n",
              "    </tr>\n",
              "    <tr>\n",
              "      <th>Response</th>\n",
              "      <td>0.094571</td>\n",
              "      <td>1.000000</td>\n",
              "    </tr>\n",
              "  </tbody>\n",
              "</table>\n",
              "</div>"
            ],
            "text/plain": [
              "                      sensibility_site web  Response\n",
              "sensibility_site web              1.000000  0.094571\n",
              "Response                          0.094571  1.000000"
            ]
          },
          "metadata": {},
          "execution_count": 664
        }
      ]
    },
    {
      "cell_type": "code",
      "metadata": {
        "colab": {
          "base_uri": "https://localhost:8080/",
          "height": 422
        },
        "id": "9iG2w8etRbva",
        "outputId": "d77f0a3c-c547-42a9-bb00-01b4b7cb67bb"
      },
      "source": [
        "df['sensibility_site web_2'] = round(df[['NumWebPurchases',\n",
        "                                         'NumCatalogPurchases',\n",
        "                                         'NumStorePurchases'\n",
        "                                         ]].sum(axis=1)/df['NumWebVisitsMonth'],2)\n",
        "df[['NumWebPurchases','NumWebVisitsMonth','sensibility_site web_2']]"
      ],
      "execution_count": null,
      "outputs": [
        {
          "output_type": "execute_result",
          "data": {
            "text/html": [
              "<div>\n",
              "<style scoped>\n",
              "    .dataframe tbody tr th:only-of-type {\n",
              "        vertical-align: middle;\n",
              "    }\n",
              "\n",
              "    .dataframe tbody tr th {\n",
              "        vertical-align: top;\n",
              "    }\n",
              "\n",
              "    .dataframe thead th {\n",
              "        text-align: right;\n",
              "    }\n",
              "</style>\n",
              "<table border=\"1\" class=\"dataframe\">\n",
              "  <thead>\n",
              "    <tr style=\"text-align: right;\">\n",
              "      <th></th>\n",
              "      <th>NumWebPurchases</th>\n",
              "      <th>NumWebVisitsMonth</th>\n",
              "      <th>sensibility_site web_2</th>\n",
              "    </tr>\n",
              "  </thead>\n",
              "  <tbody>\n",
              "    <tr>\n",
              "      <th>0</th>\n",
              "      <td>8</td>\n",
              "      <td>7</td>\n",
              "      <td>3.14</td>\n",
              "    </tr>\n",
              "    <tr>\n",
              "      <th>1</th>\n",
              "      <td>1</td>\n",
              "      <td>5</td>\n",
              "      <td>0.80</td>\n",
              "    </tr>\n",
              "    <tr>\n",
              "      <th>2</th>\n",
              "      <td>8</td>\n",
              "      <td>4</td>\n",
              "      <td>5.00</td>\n",
              "    </tr>\n",
              "    <tr>\n",
              "      <th>3</th>\n",
              "      <td>2</td>\n",
              "      <td>6</td>\n",
              "      <td>1.00</td>\n",
              "    </tr>\n",
              "    <tr>\n",
              "      <th>4</th>\n",
              "      <td>5</td>\n",
              "      <td>5</td>\n",
              "      <td>2.80</td>\n",
              "    </tr>\n",
              "    <tr>\n",
              "      <th>...</th>\n",
              "      <td>...</td>\n",
              "      <td>...</td>\n",
              "      <td>...</td>\n",
              "    </tr>\n",
              "    <tr>\n",
              "      <th>2235</th>\n",
              "      <td>9</td>\n",
              "      <td>5</td>\n",
              "      <td>3.20</td>\n",
              "    </tr>\n",
              "    <tr>\n",
              "      <th>2236</th>\n",
              "      <td>8</td>\n",
              "      <td>7</td>\n",
              "      <td>2.14</td>\n",
              "    </tr>\n",
              "    <tr>\n",
              "      <th>2237</th>\n",
              "      <td>2</td>\n",
              "      <td>6</td>\n",
              "      <td>3.00</td>\n",
              "    </tr>\n",
              "    <tr>\n",
              "      <th>2238</th>\n",
              "      <td>6</td>\n",
              "      <td>3</td>\n",
              "      <td>7.00</td>\n",
              "    </tr>\n",
              "    <tr>\n",
              "      <th>2239</th>\n",
              "      <td>3</td>\n",
              "      <td>7</td>\n",
              "      <td>1.14</td>\n",
              "    </tr>\n",
              "  </tbody>\n",
              "</table>\n",
              "<p>2237 rows × 3 columns</p>\n",
              "</div>"
            ],
            "text/plain": [
              "      NumWebPurchases  NumWebVisitsMonth  sensibility_site web_2\n",
              "0                   8                  7                    3.14\n",
              "1                   1                  5                    0.80\n",
              "2                   8                  4                    5.00\n",
              "3                   2                  6                    1.00\n",
              "4                   5                  5                    2.80\n",
              "...               ...                ...                     ...\n",
              "2235                9                  5                    3.20\n",
              "2236                8                  7                    2.14\n",
              "2237                2                  6                    3.00\n",
              "2238                6                  3                    7.00\n",
              "2239                3                  7                    1.14\n",
              "\n",
              "[2237 rows x 3 columns]"
            ]
          },
          "metadata": {},
          "execution_count": 665
        }
      ]
    },
    {
      "cell_type": "code",
      "metadata": {
        "colab": {
          "base_uri": "https://localhost:8080/",
          "height": 112
        },
        "id": "603cCON5SI7A",
        "outputId": "b1a3f1bb-db63-4fdf-a0eb-0b0abf8be28a"
      },
      "source": [
        "df[['sensibility_site web_2','Response' ]].corr()"
      ],
      "execution_count": null,
      "outputs": [
        {
          "output_type": "execute_result",
          "data": {
            "text/html": [
              "<div>\n",
              "<style scoped>\n",
              "    .dataframe tbody tr th:only-of-type {\n",
              "        vertical-align: middle;\n",
              "    }\n",
              "\n",
              "    .dataframe tbody tr th {\n",
              "        vertical-align: top;\n",
              "    }\n",
              "\n",
              "    .dataframe thead th {\n",
              "        text-align: right;\n",
              "    }\n",
              "</style>\n",
              "<table border=\"1\" class=\"dataframe\">\n",
              "  <thead>\n",
              "    <tr style=\"text-align: right;\">\n",
              "      <th></th>\n",
              "      <th>sensibility_site web_2</th>\n",
              "      <th>Response</th>\n",
              "    </tr>\n",
              "  </thead>\n",
              "  <tbody>\n",
              "    <tr>\n",
              "      <th>sensibility_site web_2</th>\n",
              "      <td>1.000000</td>\n",
              "      <td>0.097608</td>\n",
              "    </tr>\n",
              "    <tr>\n",
              "      <th>Response</th>\n",
              "      <td>0.097608</td>\n",
              "      <td>1.000000</td>\n",
              "    </tr>\n",
              "  </tbody>\n",
              "</table>\n",
              "</div>"
            ],
            "text/plain": [
              "                        sensibility_site web_2  Response\n",
              "sensibility_site web_2                1.000000  0.097608\n",
              "Response                              0.097608  1.000000"
            ]
          },
          "metadata": {},
          "execution_count": 666
        }
      ]
    },
    {
      "cell_type": "code",
      "metadata": {
        "id": "CPeSlpJqEZuX"
      },
      "source": [
        "df['sensibility_site web'].fillna(0,inplace=True)\n",
        "df['sensibility_site web_2'].fillna(0,inplace=True)\n"
      ],
      "execution_count": null,
      "outputs": []
    },
    {
      "cell_type": "code",
      "metadata": {
        "colab": {
          "base_uri": "https://localhost:8080/"
        },
        "id": "ACRzHh1qGeBa",
        "outputId": "59bcdf25-a039-4e00-adec-0856950691b2"
      },
      "source": [
        "df.info()"
      ],
      "execution_count": null,
      "outputs": [
        {
          "output_type": "stream",
          "name": "stdout",
          "text": [
            "<class 'pandas.core.frame.DataFrame'>\n",
            "Int64Index: 2237 entries, 0 to 2239\n",
            "Data columns (total 34 columns):\n",
            " #   Column                   Non-Null Count  Dtype   \n",
            "---  ------                   --------------  -----   \n",
            " 0   ID                       2237 non-null   int64   \n",
            " 1   Year_Birth               2237 non-null   int64   \n",
            " 2   Education                2237 non-null   int64   \n",
            " 3   Marital_Status           2237 non-null   int64   \n",
            " 4   Income                   2237 non-null   float64 \n",
            " 5   Kidhome                  2237 non-null   int64   \n",
            " 6   Teenhome                 2237 non-null   int64   \n",
            " 7   Dt_Customer              2237 non-null   object  \n",
            " 8   Recency                  2237 non-null   int64   \n",
            " 9   MntWines                 2237 non-null   int64   \n",
            " 10  MntFruits                2237 non-null   int64   \n",
            " 11  MntMeatProducts          2237 non-null   int64   \n",
            " 12  MntFishProducts          2237 non-null   int64   \n",
            " 13  MntSweetProducts         2237 non-null   int64   \n",
            " 14  MntGoldProds             2237 non-null   int64   \n",
            " 15  NumDealsPurchases        2237 non-null   int64   \n",
            " 16  NumWebPurchases          2237 non-null   int64   \n",
            " 17  NumCatalogPurchases      2237 non-null   int64   \n",
            " 18  NumStorePurchases        2237 non-null   int64   \n",
            " 19  NumWebVisitsMonth        2237 non-null   int64   \n",
            " 20  Campanha_3               2237 non-null   int64   \n",
            " 21  Campanha_4               2237 non-null   int64   \n",
            " 22  Campanha_5               2237 non-null   int64   \n",
            " 23  Campanha_1               2237 non-null   int64   \n",
            " 24  Campanha_2               2237 non-null   int64   \n",
            " 25  Complain                 2237 non-null   int64   \n",
            " 26  Z_CostContact            2237 non-null   int64   \n",
            " 27  Z_Revenue                2237 non-null   int64   \n",
            " 28  Response                 2237 non-null   int64   \n",
            " 29  Year2                    2237 non-null   int64   \n",
            " 30  Age_Category             2237 non-null   category\n",
            " 31  sensibilidade_campanhas  2237 non-null   float64 \n",
            " 32  sensibility_site web     2237 non-null   float64 \n",
            " 33  sensibility_site web_2   2237 non-null   float64 \n",
            "dtypes: category(1), float64(4), int64(28), object(1)\n",
            "memory usage: 596.6+ KB\n"
          ]
        }
      ]
    },
    {
      "cell_type": "markdown",
      "metadata": {
        "id": "kJajB93TeYrU"
      },
      "source": [
        "## Balance the variables for exclusion "
      ]
    },
    {
      "cell_type": "code",
      "metadata": {
        "colab": {
          "base_uri": "https://localhost:8080/"
        },
        "id": "lpWsSM2xpXDy",
        "outputId": "2c499c83-1ec4-483e-cd1c-7f3ccb02d480"
      },
      "source": [
        "df['Response'].value_counts(normalize=True)*100"
      ],
      "execution_count": null,
      "outputs": [
        {
          "output_type": "execute_result",
          "data": {
            "text/plain": [
              "0    85.069289\n",
              "1    14.930711\n",
              "Name: Response, dtype: float64"
            ]
          },
          "metadata": {},
          "execution_count": 669
        }
      ]
    },
    {
      "cell_type": "code",
      "metadata": {
        "colab": {
          "base_uri": "https://localhost:8080/"
        },
        "id": "tmkcYQduh_W0",
        "outputId": "643b52a6-3b9a-4166-fc6f-8db441787b38"
      },
      "source": [
        "df['Marital_Status'].value_counts(normalize=True)*100"
      ],
      "execution_count": null,
      "outputs": [
        {
          "output_type": "execute_result",
          "data": {
            "text/plain": [
              "3    38.623156\n",
              "2    25.882879\n",
              "1    21.412606\n",
              "4    10.326330\n",
              "5     3.755029\n",
              "Name: Marital_Status, dtype: float64"
            ]
          },
          "metadata": {},
          "execution_count": 670
        }
      ]
    },
    {
      "cell_type": "code",
      "metadata": {
        "colab": {
          "base_uri": "https://localhost:8080/"
        },
        "id": "AksO2lYyhwZo",
        "outputId": "d3053e51-2003-41fb-e3e7-c2c9dba40c47"
      },
      "source": [
        "df['Complain'].value_counts(normalize=True)*100"
      ],
      "execution_count": null,
      "outputs": [
        {
          "output_type": "execute_result",
          "data": {
            "text/plain": [
              "0    99.105945\n",
              "1     0.894055\n",
              "Name: Complain, dtype: float64"
            ]
          },
          "metadata": {},
          "execution_count": 671
        }
      ]
    },
    {
      "cell_type": "code",
      "metadata": {
        "colab": {
          "base_uri": "https://localhost:8080/"
        },
        "id": "rITZWrtTW2kM",
        "outputId": "c978f8ac-3ac2-465e-f244-ba3620089dd7"
      },
      "source": [
        "df['NumDealsPurchases'].value_counts(normalize=True)*100"
      ],
      "execution_count": null,
      "outputs": [
        {
          "output_type": "execute_result",
          "data": {
            "text/plain": [
              "1     43.227537\n",
              "2     22.217255\n",
              "3     13.276710\n",
              "4      8.448815\n",
              "5      4.202056\n",
              "6      2.726866\n",
              "0      2.056325\n",
              "7      1.788109\n",
              "8      0.625838\n",
              "9      0.357622\n",
              "15     0.312919\n",
              "11     0.223514\n",
              "10     0.223514\n",
              "12     0.178811\n",
              "13     0.134108\n",
              "Name: NumDealsPurchases, dtype: float64"
            ]
          },
          "metadata": {},
          "execution_count": 672
        }
      ]
    },
    {
      "cell_type": "code",
      "metadata": {
        "colab": {
          "base_uri": "https://localhost:8080/"
        },
        "id": "Rr1iXY5ud9Z2",
        "outputId": "a775cb86-d273-4888-dd0b-671f72669c3c"
      },
      "source": [
        "df['Kidhome'].value_counts(normalize=True)*100"
      ],
      "execution_count": null,
      "outputs": [
        {
          "output_type": "execute_result",
          "data": {
            "text/plain": [
              "0    57.71122\n",
              "1    42.28878\n",
              "Name: Kidhome, dtype: float64"
            ]
          },
          "metadata": {},
          "execution_count": 673
        }
      ]
    },
    {
      "cell_type": "code",
      "metadata": {
        "colab": {
          "base_uri": "https://localhost:8080/"
        },
        "id": "QTlASVSDeI2H",
        "outputId": "2368cf3e-aa54-40d1-fb65-473f99481597"
      },
      "source": [
        "df['Teenhome'].value_counts(normalize=True)*100"
      ],
      "execution_count": null,
      "outputs": [
        {
          "output_type": "execute_result",
          "data": {
            "text/plain": [
              "0    51.676352\n",
              "1    48.323648\n",
              "Name: Teenhome, dtype: float64"
            ]
          },
          "metadata": {},
          "execution_count": 674
        }
      ]
    },
    {
      "cell_type": "code",
      "metadata": {
        "colab": {
          "base_uri": "https://localhost:8080/"
        },
        "id": "IQH3nOKyssQw",
        "outputId": "e7b1fec1-8eb1-4981-d036-c0869acc867c"
      },
      "source": [
        "df['Recency'].value_counts(normalize=True)*100"
      ],
      "execution_count": null,
      "outputs": [
        {
          "output_type": "execute_result",
          "data": {
            "text/plain": [
              "56    1.654001\n",
              "54    1.430487\n",
              "30    1.430487\n",
              "46    1.385785\n",
              "49    1.341082\n",
              "        ...   \n",
              "58    0.670541\n",
              "59    0.625838\n",
              "22    0.581135\n",
              "7     0.536433\n",
              "44    0.491730\n",
              "Name: Recency, Length: 100, dtype: float64"
            ]
          },
          "metadata": {},
          "execution_count": 675
        }
      ]
    },
    {
      "cell_type": "code",
      "metadata": {
        "colab": {
          "base_uri": "https://localhost:8080/"
        },
        "id": "TJpYQb-Ls3MX",
        "outputId": "866eb194-9a2d-4603-8af6-7c824d7210e9"
      },
      "source": [
        "df['Recency'].describe()"
      ],
      "execution_count": null,
      "outputs": [
        {
          "output_type": "execute_result",
          "data": {
            "text/plain": [
              "count    2237.000000\n",
              "mean       49.104604\n",
              "std        28.956073\n",
              "min         0.000000\n",
              "25%        24.000000\n",
              "50%        49.000000\n",
              "75%        74.000000\n",
              "max        99.000000\n",
              "Name: Recency, dtype: float64"
            ]
          },
          "metadata": {},
          "execution_count": 676
        }
      ]
    },
    {
      "cell_type": "markdown",
      "metadata": {
        "id": "Mnq1JShJ1gBN"
      },
      "source": [
        "##Create the df without innecesary columns"
      ]
    },
    {
      "cell_type": "code",
      "metadata": {
        "id": "e2oLniWP1vw1"
      },
      "source": [
        "df_drop = df.drop(columns = ['ID', 'Year_Birth','Dt_Customer','Complain',\t'Z_CostContact',\t'Z_Revenue','sensibility_site web_2','sensibility_site web','Year2','sensibilidade_campanhas'])"
      ],
      "execution_count": null,
      "outputs": []
    },
    {
      "cell_type": "code",
      "metadata": {
        "id": "tsqJETXq48CW",
        "colab": {
          "base_uri": "https://localhost:8080/",
          "height": 163
        },
        "outputId": "dd9544eb-0229-41ec-b0b2-e8a6489036a4"
      },
      "source": [
        "df_drop.sample(3)"
      ],
      "execution_count": null,
      "outputs": [
        {
          "output_type": "execute_result",
          "data": {
            "text/html": [
              "<div>\n",
              "<style scoped>\n",
              "    .dataframe tbody tr th:only-of-type {\n",
              "        vertical-align: middle;\n",
              "    }\n",
              "\n",
              "    .dataframe tbody tr th {\n",
              "        vertical-align: top;\n",
              "    }\n",
              "\n",
              "    .dataframe thead th {\n",
              "        text-align: right;\n",
              "    }\n",
              "</style>\n",
              "<table border=\"1\" class=\"dataframe\">\n",
              "  <thead>\n",
              "    <tr style=\"text-align: right;\">\n",
              "      <th></th>\n",
              "      <th>Education</th>\n",
              "      <th>Marital_Status</th>\n",
              "      <th>Income</th>\n",
              "      <th>Kidhome</th>\n",
              "      <th>Teenhome</th>\n",
              "      <th>Recency</th>\n",
              "      <th>MntWines</th>\n",
              "      <th>MntFruits</th>\n",
              "      <th>MntMeatProducts</th>\n",
              "      <th>MntFishProducts</th>\n",
              "      <th>MntSweetProducts</th>\n",
              "      <th>MntGoldProds</th>\n",
              "      <th>NumDealsPurchases</th>\n",
              "      <th>NumWebPurchases</th>\n",
              "      <th>NumCatalogPurchases</th>\n",
              "      <th>NumStorePurchases</th>\n",
              "      <th>NumWebVisitsMonth</th>\n",
              "      <th>Campanha_3</th>\n",
              "      <th>Campanha_4</th>\n",
              "      <th>Campanha_5</th>\n",
              "      <th>Campanha_1</th>\n",
              "      <th>Campanha_2</th>\n",
              "      <th>Response</th>\n",
              "      <th>Age_Category</th>\n",
              "    </tr>\n",
              "  </thead>\n",
              "  <tbody>\n",
              "    <tr>\n",
              "      <th>1738</th>\n",
              "      <td>2</td>\n",
              "      <td>3</td>\n",
              "      <td>54984.0</td>\n",
              "      <td>0</td>\n",
              "      <td>1</td>\n",
              "      <td>51</td>\n",
              "      <td>173</td>\n",
              "      <td>13</td>\n",
              "      <td>131</td>\n",
              "      <td>32</td>\n",
              "      <td>3</td>\n",
              "      <td>6</td>\n",
              "      <td>4</td>\n",
              "      <td>6</td>\n",
              "      <td>1</td>\n",
              "      <td>6</td>\n",
              "      <td>7</td>\n",
              "      <td>0</td>\n",
              "      <td>0</td>\n",
              "      <td>0</td>\n",
              "      <td>1</td>\n",
              "      <td>0</td>\n",
              "      <td>0</td>\n",
              "      <td>4</td>\n",
              "    </tr>\n",
              "    <tr>\n",
              "      <th>1887</th>\n",
              "      <td>5</td>\n",
              "      <td>4</td>\n",
              "      <td>86979.0</td>\n",
              "      <td>0</td>\n",
              "      <td>0</td>\n",
              "      <td>67</td>\n",
              "      <td>584</td>\n",
              "      <td>100</td>\n",
              "      <td>835</td>\n",
              "      <td>65</td>\n",
              "      <td>83</td>\n",
              "      <td>35</td>\n",
              "      <td>1</td>\n",
              "      <td>5</td>\n",
              "      <td>5</td>\n",
              "      <td>5</td>\n",
              "      <td>2</td>\n",
              "      <td>1</td>\n",
              "      <td>0</td>\n",
              "      <td>0</td>\n",
              "      <td>0</td>\n",
              "      <td>0</td>\n",
              "      <td>1</td>\n",
              "      <td>3</td>\n",
              "    </tr>\n",
              "    <tr>\n",
              "      <th>438</th>\n",
              "      <td>5</td>\n",
              "      <td>3</td>\n",
              "      <td>32011.0</td>\n",
              "      <td>1</td>\n",
              "      <td>0</td>\n",
              "      <td>89</td>\n",
              "      <td>99</td>\n",
              "      <td>0</td>\n",
              "      <td>15</td>\n",
              "      <td>2</td>\n",
              "      <td>1</td>\n",
              "      <td>5</td>\n",
              "      <td>3</td>\n",
              "      <td>2</td>\n",
              "      <td>1</td>\n",
              "      <td>4</td>\n",
              "      <td>7</td>\n",
              "      <td>0</td>\n",
              "      <td>0</td>\n",
              "      <td>0</td>\n",
              "      <td>0</td>\n",
              "      <td>0</td>\n",
              "      <td>0</td>\n",
              "      <td>3</td>\n",
              "    </tr>\n",
              "  </tbody>\n",
              "</table>\n",
              "</div>"
            ],
            "text/plain": [
              "      Education  Marital_Status   Income  ...  Campanha_2  Response  Age_Category\n",
              "1738          2               3  54984.0  ...           0         0             4\n",
              "1887          5               4  86979.0  ...           0         1             3\n",
              "438           5               3  32011.0  ...           0         0             3\n",
              "\n",
              "[3 rows x 24 columns]"
            ]
          },
          "metadata": {},
          "execution_count": 678
        }
      ]
    },
    {
      "cell_type": "code",
      "metadata": {
        "colab": {
          "base_uri": "https://localhost:8080/"
        },
        "id": "_XWX3mR8A0lb",
        "outputId": "2723191b-2e23-4bbf-faf7-c7f7188bea5a"
      },
      "source": [
        "df_drop.shape"
      ],
      "execution_count": null,
      "outputs": [
        {
          "output_type": "execute_result",
          "data": {
            "text/plain": [
              "(2237, 24)"
            ]
          },
          "metadata": {},
          "execution_count": 679
        }
      ]
    },
    {
      "cell_type": "code",
      "metadata": {
        "colab": {
          "base_uri": "https://localhost:8080/"
        },
        "id": "mYoOCPRCD1_B",
        "outputId": "ab0c5ebc-05e1-442b-c0fb-27411a0c7689"
      },
      "source": [
        "df_drop.columns"
      ],
      "execution_count": null,
      "outputs": [
        {
          "output_type": "execute_result",
          "data": {
            "text/plain": [
              "Index(['Education', 'Marital_Status', 'Income', 'Kidhome', 'Teenhome',\n",
              "       'Recency', 'MntWines', 'MntFruits', 'MntMeatProducts',\n",
              "       'MntFishProducts', 'MntSweetProducts', 'MntGoldProds',\n",
              "       'NumDealsPurchases', 'NumWebPurchases', 'NumCatalogPurchases',\n",
              "       'NumStorePurchases', 'NumWebVisitsMonth', 'Campanha_3', 'Campanha_4',\n",
              "       'Campanha_5', 'Campanha_1', 'Campanha_2', 'Response', 'Age_Category'],\n",
              "      dtype='object')"
            ]
          },
          "metadata": {},
          "execution_count": 680
        }
      ]
    },
    {
      "cell_type": "code",
      "metadata": {
        "id": "AhRDiayz-heY"
      },
      "source": [
        "df_drop['Mn_prod_Total'] = df_drop.loc[:,['MntWines', 'MntFruits', 'MntMeatProducts', 'MntFishProducts', 'MntSweetProducts', 'MntGoldProds']].sum(axis= 1)\n",
        "df_drop['Num_compr_3canais_Total'] = df_drop.loc[:,['NumWebPurchases', 'NumCatalogPurchases', 'NumStorePurchases']].sum(axis= 1)"
      ],
      "execution_count": null,
      "outputs": []
    },
    {
      "cell_type": "markdown",
      "metadata": {
        "id": "-j_dlXYNqOeA"
      },
      "source": [
        "##analysis of the correlation between features"
      ]
    },
    {
      "cell_type": "code",
      "metadata": {
        "colab": {
          "base_uri": "https://localhost:8080/",
          "height": 945
        },
        "id": "5Y5Dpvn97KgR",
        "outputId": "4e58753f-4dcd-4f80-e324-1a582732f803"
      },
      "source": [
        "###f = plt.figure(figsize=(18, 15))\n",
        "###plt.matshow(df_drop.corr(), fignum=f.number)\n",
        "###plt.xticks(range(df_drop.select_dtypes(['number']).shape[1]), df_drop.select_dtypes(['number']).columns, fontsize=14, rotation=45)\n",
        "###plt.yticks(range(df_drop.select_dtypes(['number']).shape[1]), df_drop.select_dtypes(['number']).columns, fontsize=14)\n",
        "###cb = plt.colorbar()\n",
        "###cb.ax.tick_params(labelsize=14)\n",
        "###plt.title('\\n Correlation Matrix  \\n \\n \\n \\n \\n \\n', fontsize=16);\n",
        "\n",
        "\n",
        "corrMatrix = df_drop.corr()\n",
        "plt.figure(figsize=(25, 20))\n",
        "sn.heatmap(corrMatrix, annot=True)\n",
        "plt.show()"
      ],
      "execution_count": null,
      "outputs": [
        {
          "output_type": "display_data",
          "data": {
            "image/png": "[encoded data removed]",
            "text/plain": [
              "<Figure size 1800x1440 with 2 Axes>"
            ]
          },
          "metadata": {
            "needs_background": "light"
          }
        }
      ]
    },
    {
      "cell_type": "markdown",
      "metadata": {
        "id": "p9oSqLOlp0gi"
      },
      "source": [
        "##Segment analysis"
      ]
    },
    {
      "cell_type": "code",
      "metadata": {
        "id": "dy6YnZoAPOg2"
      },
      "source": [
        "Segm = df_drop[\n",
        "        (df_drop['NumStorePurchases']>0)&\n",
        "        (df_drop['NumCatalogPurchases']>0)&\n",
        "        (df_drop['NumWebPurchases']>0)&\n",
        "        (df_drop['Age_Category']>=3)&\n",
        "        (df_drop['MntWines']>0)&\n",
        "        (df_drop['MntMeatProducts']>0)\n",
        "        ]"
      ],
      "execution_count": null,
      "outputs": []
    },
    {
      "cell_type": "code",
      "metadata": {
        "colab": {
          "base_uri": "https://localhost:8080/"
        },
        "id": "G1COxLakSs3W",
        "outputId": "69e7d241-6113-48fb-b6b6-fb5a6a49f793"
      },
      "source": [
        "Segm['Education2'] = Segm['Education'].copy()\n",
        "Segm['Marital_Status2'] = Segm['Marital_Status'].copy()\n",
        "Segm['Kidhome2'] = Segm['Kidhome'].copy()\n",
        "Segm['Teenhome2'] = Segm['Teenhome'].copy()\n",
        "\n",
        "print(Segm.groupby(['Age_Category','Education']).count()['Education2'])\n",
        "print(Segm.groupby(['Age_Category','Marital_Status']).count()['Marital_Status2'])\n",
        "print(Segm.groupby(['Age_Category','Kidhome']).count()['Kidhome2'])\n",
        "print(Segm.groupby(['Age_Category','Teenhome']).count()['Teenhome2'])\n",
        "print(Segm.groupby(['Age_Category','Teenhome']).median()['Income'])"
      ],
      "execution_count": null,
      "outputs": [
        {
          "output_type": "stream",
          "name": "stdout",
          "text": [
            "Age_Category  Education\n",
            "1             1              NaN\n",
            "              2              NaN\n",
            "              3              NaN\n",
            "              4              NaN\n",
            "              5              NaN\n",
            "2             1              NaN\n",
            "              2              NaN\n",
            "              3              NaN\n",
            "              4              NaN\n",
            "              5              NaN\n",
            "3             1              5.0\n",
            "              2            250.0\n",
            "              3             35.0\n",
            "              4             95.0\n",
            "              5            120.0\n",
            "4             1              2.0\n",
            "              2            229.0\n",
            "              3             33.0\n",
            "              4             76.0\n",
            "              5             91.0\n",
            "5             1              1.0\n",
            "              2             54.0\n",
            "              3              5.0\n",
            "              4             36.0\n",
            "              5             60.0\n",
            "Name: Education2, dtype: float64\n",
            "Age_Category  Marital_Status\n",
            "1             1                   NaN\n",
            "              2                   NaN\n",
            "              3                   NaN\n",
            "              4                   NaN\n",
            "              5                   NaN\n",
            "2             1                   NaN\n",
            "              2                   NaN\n",
            "              3                   NaN\n",
            "              4                   NaN\n",
            "              5                   NaN\n",
            "3             1                  95.0\n",
            "              2                 118.0\n",
            "              3                 203.0\n",
            "              4                  68.0\n",
            "              5                  21.0\n",
            "4             1                  81.0\n",
            "              2                 127.0\n",
            "              3                 146.0\n",
            "              4                  54.0\n",
            "              5                  23.0\n",
            "5             1                  18.0\n",
            "              2                  47.0\n",
            "              3                  56.0\n",
            "              4                  11.0\n",
            "              5                  24.0\n",
            "Name: Marital_Status2, dtype: float64\n",
            "Age_Category  Kidhome\n",
            "1             0            NaN\n",
            "              1            NaN\n",
            "2             0            NaN\n",
            "              1            NaN\n",
            "3             0          335.0\n",
            "              1          170.0\n",
            "4             0          362.0\n",
            "              1           69.0\n",
            "5             0          137.0\n",
            "              1           19.0\n",
            "Name: Kidhome2, dtype: float64\n",
            "Age_Category  Teenhome\n",
            "1             0             NaN\n",
            "              1             NaN\n",
            "2             0             NaN\n",
            "              1             NaN\n",
            "3             0           197.0\n",
            "              1           308.0\n",
            "4             0           142.0\n",
            "              1           289.0\n",
            "5             0            83.0\n",
            "              1            73.0\n",
            "Name: Teenhome2, dtype: float64\n",
            "Age_Category  Teenhome\n",
            "1             0               NaN\n",
            "              1               NaN\n",
            "2             0               NaN\n",
            "              1               NaN\n",
            "3             0           66825.0\n",
            "              1           56962.0\n",
            "4             0           75194.0\n",
            "              1           57247.0\n",
            "5             0           72025.0\n",
            "              1           56551.0\n",
            "Name: Income, dtype: float64\n"
          ]
        },
        {
          "output_type": "stream",
          "name": "stderr",
          "text": [
            "/usr/local/lib/python3.7/dist-packages/ipykernel_launcher.py:1: SettingWithCopyWarning: \n",
            "A value is trying to be set on a copy of a slice from a DataFrame.\n",
            "Try using .loc[row_indexer,col_indexer] = value instead\n",
            "\n",
            "See the caveats in the documentation: https://pandas.pydata.org/pandas-docs/stable/user_guide/indexing.html#returning-a-view-versus-a-copy\n",
            "  \"\"\"Entry point for launching an IPython kernel.\n",
            "/usr/local/lib/python3.7/dist-packages/ipykernel_launcher.py:2: SettingWithCopyWarning: \n",
            "A value is trying to be set on a copy of a slice from a DataFrame.\n",
            "Try using .loc[row_indexer,col_indexer] = value instead\n",
            "\n",
            "See the caveats in the documentation: https://pandas.pydata.org/pandas-docs/stable/user_guide/indexing.html#returning-a-view-versus-a-copy\n",
            "  \n",
            "/usr/local/lib/python3.7/dist-packages/ipykernel_launcher.py:3: SettingWithCopyWarning: \n",
            "A value is trying to be set on a copy of a slice from a DataFrame.\n",
            "Try using .loc[row_indexer,col_indexer] = value instead\n",
            "\n",
            "See the caveats in the documentation: https://pandas.pydata.org/pandas-docs/stable/user_guide/indexing.html#returning-a-view-versus-a-copy\n",
            "  This is separate from the ipykernel package so we can avoid doing imports until\n",
            "/usr/local/lib/python3.7/dist-packages/ipykernel_launcher.py:4: SettingWithCopyWarning: \n",
            "A value is trying to be set on a copy of a slice from a DataFrame.\n",
            "Try using .loc[row_indexer,col_indexer] = value instead\n",
            "\n",
            "See the caveats in the documentation: https://pandas.pydata.org/pandas-docs/stable/user_guide/indexing.html#returning-a-view-versus-a-copy\n",
            "  after removing the cwd from sys.path.\n"
          ]
        }
      ]
    },
    {
      "cell_type": "markdown",
      "metadata": {
        "id": "JiVIWlCn9t6j"
      },
      "source": [
        "##Data split"
      ]
    },
    {
      "cell_type": "code",
      "metadata": {
        "id": "YPK9N-sH479w"
      },
      "source": [
        "X = df_drop.drop(columns=['Response'])\n",
        "y = df_drop['Response']\n",
        "\n",
        "from sklearn.model_selection import train_test_split\n",
        "X_train, X_test, y_train, y_test = train_test_split(X, y, test_size=0.3, random_state=42)\n",
        "\n",
        "#X = df_drop.iloc[[:, 0:10],[:, 1:10]]\n",
        "#y = df_drop.iloc[:, 0]\n",
        "\n",
        "#from sklearn.model_selection import train_test_split\n",
        "#X_train, X_test, y_train, y_test = train_test_split(X, y, test_size=0.3, random_state=42)"
      ],
      "execution_count": null,
      "outputs": []
    },
    {
      "cell_type": "markdown",
      "metadata": {
        "id": "WpY0XmXDB599"
      },
      "source": [
        "##Algoritmo's trainer"
      ]
    },
    {
      "cell_type": "markdown",
      "metadata": {
        "id": "MiTnQpgACRGK"
      },
      "source": [
        "###Model 1 Logic Regression"
      ]
    },
    {
      "cell_type": "code",
      "metadata": {
        "id": "3EvvWAx1gblS",
        "colab": {
          "base_uri": "https://localhost:8080/"
        },
        "outputId": "ae5c53d8-dd30-4aa1-c97c-5a8845cacd5a"
      },
      "source": [
        "from sklearn.linear_model import LogisticRegression\n",
        "\n",
        "reg1 = LogisticRegression()\n",
        "reg1.fit(X_train, y_train) \n"
      ],
      "execution_count": null,
      "outputs": [
        {
          "output_type": "stream",
          "name": "stderr",
          "text": [
            "/usr/local/lib/python3.7/dist-packages/sklearn/linear_model/_logistic.py:940: ConvergenceWarning: lbfgs failed to converge (status=1):\n",
            "STOP: TOTAL NO. of ITERATIONS REACHED LIMIT.\n",
            "\n",
            "Increase the number of iterations (max_iter) or scale the data as shown in:\n",
            "    https://scikit-learn.org/stable/modules/preprocessing.html\n",
            "Please also refer to the documentation for alternative solver options:\n",
            "    https://scikit-learn.org/stable/modules/linear_model.html#logistic-regression\n",
            "  extra_warning_msg=_LOGISTIC_SOLVER_CONVERGENCE_MSG)\n"
          ]
        },
        {
          "output_type": "execute_result",
          "data": {
            "text/plain": [
              "LogisticRegression(C=1.0, class_weight=None, dual=False, fit_intercept=True,\n",
              "                   intercept_scaling=1, l1_ratio=None, max_iter=100,\n",
              "                   multi_class='auto', n_jobs=None, penalty='l2',\n",
              "                   random_state=None, solver='lbfgs', tol=0.0001, verbose=0,\n",
              "                   warm_start=False)"
            ]
          },
          "metadata": {},
          "execution_count": 687
        }
      ]
    },
    {
      "cell_type": "markdown",
      "metadata": {
        "id": "VOZ5lt_jI4Cu"
      },
      "source": [
        "Model 2 Random Forest\n"
      ]
    },
    {
      "cell_type": "code",
      "metadata": {
        "id": "uz_s05C4GCyO",
        "colab": {
          "base_uri": "https://localhost:8080/"
        },
        "outputId": "651bc8bb-ce79-4f33-84b7-aa6029bd3c47"
      },
      "source": [
        "from sklearn.ensemble import RandomForestClassifier\n",
        "\n",
        "rf = RandomForestClassifier(n_estimators = 1000, random_state = 42)\n",
        "rf.fit(X_train, y_train)\n"
      ],
      "execution_count": null,
      "outputs": [
        {
          "output_type": "execute_result",
          "data": {
            "text/plain": [
              "RandomForestClassifier(bootstrap=True, ccp_alpha=0.0, class_weight=None,\n",
              "                       criterion='gini', max_depth=None, max_features='auto',\n",
              "                       max_leaf_nodes=None, max_samples=None,\n",
              "                       min_impurity_decrease=0.0, min_impurity_split=None,\n",
              "                       min_samples_leaf=1, min_samples_split=2,\n",
              "                       min_weight_fraction_leaf=0.0, n_estimators=1000,\n",
              "                       n_jobs=None, oob_score=False, random_state=42, verbose=0,\n",
              "                       warm_start=False)"
            ]
          },
          "metadata": {},
          "execution_count": 688
        }
      ]
    },
    {
      "cell_type": "markdown",
      "metadata": {
        "id": "MRjP5GAkJSnd"
      },
      "source": [
        "#Predictions"
      ]
    },
    {
      "cell_type": "markdown",
      "metadata": {
        "id": "5LVqRfBLJYti"
      },
      "source": [
        "####Model 1"
      ]
    },
    {
      "cell_type": "code",
      "metadata": {
        "id": "hgmedOeQIfGf",
        "colab": {
          "base_uri": "https://localhost:8080/"
        },
        "outputId": "5f6c61d9-8824-4155-9016-4febdb2e2d11"
      },
      "source": [
        "reg1.predict(X_test)"
      ],
      "execution_count": null,
      "outputs": [
        {
          "output_type": "execute_result",
          "data": {
            "text/plain": [
              "array([0, 0, 0, 0, 0, 0, 0, 0, 0, 0, 0, 0, 0, 0, 0, 0, 0, 0, 0, 0, 0, 0,\n",
              "       0, 0, 0, 0, 0, 0, 1, 0, 0, 0, 0, 0, 0, 0, 0, 0, 1, 0, 0, 0, 0, 0,\n",
              "       0, 0, 0, 0, 0, 0, 0, 0, 0, 0, 0, 0, 0, 0, 0, 0, 0, 0, 0, 0, 0, 0,\n",
              "       1, 1, 0, 0, 1, 0, 0, 0, 0, 0, 0, 0, 0, 0, 0, 0, 0, 0, 0, 0, 1, 0,\n",
              "       0, 0, 0, 1, 0, 0, 0, 0, 0, 0, 0, 0, 0, 0, 0, 0, 0, 0, 1, 0, 0, 0,\n",
              "       0, 0, 0, 0, 0, 0, 0, 0, 0, 0, 0, 0, 0, 0, 0, 0, 0, 0, 0, 0, 0, 0,\n",
              "       1, 0, 0, 0, 0, 1, 0, 0, 0, 0, 0, 0, 0, 0, 0, 0, 0, 0, 0, 0, 0, 0,\n",
              "       0, 0, 0, 0, 0, 1, 0, 0, 0, 0, 0, 0, 0, 0, 0, 0, 0, 0, 0, 0, 0, 0,\n",
              "       0, 0, 0, 0, 0, 0, 0, 0, 0, 0, 0, 0, 0, 0, 0, 0, 0, 0, 0, 0, 1, 0,\n",
              "       0, 0, 0, 0, 0, 0, 0, 0, 0, 0, 0, 0, 0, 0, 0, 0, 0, 0, 1, 0, 0, 0,\n",
              "       1, 0, 1, 0, 0, 0, 0, 1, 0, 0, 0, 0, 0, 0, 0, 0, 0, 0, 0, 0, 0, 1,\n",
              "       0, 0, 0, 0, 0, 0, 0, 0, 0, 0, 0, 0, 0, 0, 0, 0, 0, 0, 0, 0, 1, 0,\n",
              "       0, 1, 1, 0, 0, 0, 0, 0, 0, 0, 0, 0, 0, 0, 0, 0, 0, 0, 0, 0, 0, 0,\n",
              "       0, 0, 0, 0, 1, 0, 0, 0, 0, 0, 0, 0, 0, 1, 0, 0, 0, 0, 0, 0, 0, 0,\n",
              "       0, 0, 0, 0, 0, 1, 0, 0, 0, 0, 0, 0, 0, 0, 0, 0, 1, 0, 0, 0, 0, 0,\n",
              "       0, 0, 0, 0, 0, 0, 0, 0, 0, 0, 1, 0, 0, 0, 0, 0, 0, 0, 0, 0, 0, 0,\n",
              "       0, 0, 0, 0, 0, 0, 0, 0, 0, 0, 0, 0, 0, 1, 0, 0, 0, 0, 0, 0, 0, 0,\n",
              "       0, 0, 0, 0, 0, 1, 0, 1, 0, 0, 0, 0, 0, 0, 0, 0, 0, 0, 0, 0, 0, 0,\n",
              "       0, 0, 0, 0, 0, 0, 0, 0, 1, 0, 0, 0, 0, 0, 0, 0, 0, 0, 0, 0, 0, 0,\n",
              "       0, 1, 0, 0, 0, 0, 0, 0, 0, 0, 0, 0, 0, 0, 0, 0, 0, 0, 0, 0, 0, 0,\n",
              "       0, 0, 0, 0, 0, 0, 1, 0, 0, 0, 0, 0, 0, 0, 0, 0, 0, 0, 0, 0, 0, 0,\n",
              "       0, 0, 0, 0, 0, 0, 0, 0, 0, 0, 0, 0, 0, 0, 0, 0, 0, 0, 0, 0, 0, 0,\n",
              "       0, 0, 0, 0, 0, 0, 0, 0, 0, 0, 1, 0, 0, 0, 0, 0, 0, 0, 0, 0, 0, 0,\n",
              "       0, 0, 0, 0, 0, 0, 0, 0, 0, 0, 0, 0, 0, 0, 0, 0, 0, 0, 0, 0, 0, 0,\n",
              "       0, 0, 0, 0, 0, 0, 0, 0, 0, 0, 0, 0, 0, 0, 0, 0, 0, 0, 0, 0, 0, 0,\n",
              "       0, 0, 0, 0, 0, 0, 0, 0, 0, 0, 0, 0, 0, 0, 0, 0, 0, 0, 0, 0, 0, 0,\n",
              "       0, 0, 0, 0, 0, 0, 0, 0, 0, 0, 0, 0, 0, 0, 0, 0, 0, 0, 0, 0, 0, 0,\n",
              "       0, 0, 0, 0, 0, 0, 0, 0, 0, 0, 0, 0, 0, 0, 0, 0, 0, 0, 0, 0, 1, 0,\n",
              "       0, 0, 0, 0, 0, 0, 0, 1, 0, 0, 0, 0, 0, 0, 0, 0, 0, 0, 0, 0, 0, 0,\n",
              "       0, 0, 0, 0, 0, 0, 0, 1, 0, 0, 0, 0, 0, 0, 0, 0, 0, 0, 0, 0, 0, 0,\n",
              "       0, 0, 0, 0, 0, 0, 0, 0, 0, 0, 0, 0])"
            ]
          },
          "metadata": {},
          "execution_count": 689
        }
      ]
    },
    {
      "cell_type": "code",
      "metadata": {
        "id": "97L4rvAhMXas"
      },
      "source": [
        "Prob_reg = reg1.predict_proba(X_test)[:,1]*1000\n"
      ],
      "execution_count": null,
      "outputs": []
    },
    {
      "cell_type": "markdown",
      "metadata": {
        "id": "KSZGp-HnKIWg"
      },
      "source": [
        "####Model 2"
      ]
    },
    {
      "cell_type": "code",
      "metadata": {
        "id": "N63K-JbfIfgc",
        "colab": {
          "base_uri": "https://localhost:8080/"
        },
        "outputId": "a184c455-a177-49fb-d1eb-bf1451446222"
      },
      "source": [
        "rf.predict(X_test)"
      ],
      "execution_count": null,
      "outputs": [
        {
          "output_type": "execute_result",
          "data": {
            "text/plain": [
              "array([0, 0, 0, 1, 0, 0, 0, 0, 0, 0, 1, 0, 0, 0, 0, 0, 0, 0, 0, 0, 0, 0,\n",
              "       0, 0, 0, 0, 0, 0, 0, 0, 0, 0, 0, 0, 0, 0, 0, 0, 1, 0, 0, 0, 0, 0,\n",
              "       0, 0, 0, 0, 0, 0, 0, 0, 0, 0, 0, 0, 0, 0, 0, 0, 0, 0, 0, 0, 0, 0,\n",
              "       0, 0, 0, 0, 1, 0, 0, 0, 0, 0, 0, 0, 0, 0, 0, 0, 0, 0, 0, 0, 0, 0,\n",
              "       0, 0, 1, 0, 0, 0, 0, 0, 0, 0, 0, 0, 0, 0, 1, 0, 0, 0, 0, 0, 0, 0,\n",
              "       0, 0, 0, 1, 0, 0, 0, 0, 0, 0, 0, 0, 0, 0, 1, 0, 0, 0, 0, 0, 0, 0,\n",
              "       0, 0, 0, 0, 0, 0, 0, 0, 0, 0, 0, 0, 0, 0, 0, 0, 0, 0, 0, 1, 1, 0,\n",
              "       0, 0, 0, 0, 0, 0, 0, 0, 0, 0, 0, 0, 0, 0, 0, 0, 0, 0, 0, 0, 1, 0,\n",
              "       0, 0, 0, 1, 0, 0, 0, 0, 0, 0, 0, 0, 0, 0, 0, 0, 0, 0, 0, 0, 0, 0,\n",
              "       0, 0, 0, 0, 0, 0, 0, 0, 0, 0, 0, 0, 0, 0, 0, 0, 0, 0, 1, 0, 0, 0,\n",
              "       0, 0, 0, 0, 0, 0, 0, 0, 0, 0, 0, 1, 0, 0, 0, 0, 0, 1, 0, 0, 0, 1,\n",
              "       0, 0, 0, 0, 0, 0, 0, 0, 0, 0, 0, 0, 0, 0, 0, 0, 0, 0, 0, 1, 0, 0,\n",
              "       0, 1, 1, 1, 0, 0, 0, 0, 0, 0, 0, 0, 0, 0, 0, 0, 0, 0, 0, 0, 0, 0,\n",
              "       0, 0, 0, 0, 1, 0, 1, 0, 0, 0, 0, 1, 0, 0, 0, 0, 0, 0, 0, 0, 0, 0,\n",
              "       0, 0, 0, 0, 0, 1, 0, 0, 0, 1, 0, 0, 0, 0, 0, 0, 1, 0, 0, 0, 0, 0,\n",
              "       0, 0, 0, 0, 0, 0, 0, 0, 0, 0, 0, 0, 0, 1, 0, 0, 0, 0, 0, 0, 0, 0,\n",
              "       0, 0, 0, 0, 0, 0, 0, 0, 0, 0, 0, 0, 0, 0, 0, 0, 0, 0, 0, 1, 0, 0,\n",
              "       0, 0, 1, 0, 0, 0, 0, 1, 0, 0, 0, 0, 0, 0, 0, 0, 0, 0, 0, 0, 0, 0,\n",
              "       0, 0, 0, 0, 0, 0, 0, 0, 0, 0, 0, 0, 0, 0, 0, 0, 0, 0, 0, 0, 0, 0,\n",
              "       0, 0, 0, 0, 0, 0, 0, 0, 0, 0, 0, 1, 0, 0, 0, 0, 0, 0, 0, 0, 0, 0,\n",
              "       0, 0, 0, 1, 0, 0, 1, 0, 0, 0, 0, 0, 1, 0, 0, 0, 0, 0, 0, 0, 0, 0,\n",
              "       0, 0, 0, 0, 0, 0, 0, 0, 1, 0, 0, 0, 0, 0, 0, 0, 0, 0, 0, 0, 0, 0,\n",
              "       0, 0, 0, 0, 0, 0, 0, 0, 0, 0, 1, 0, 0, 0, 0, 0, 0, 0, 0, 0, 0, 0,\n",
              "       0, 0, 0, 0, 0, 1, 1, 0, 0, 0, 0, 0, 0, 0, 0, 0, 0, 0, 1, 0, 0, 0,\n",
              "       0, 0, 0, 0, 0, 0, 0, 1, 0, 1, 0, 0, 0, 0, 0, 0, 0, 0, 0, 0, 0, 0,\n",
              "       0, 0, 0, 0, 0, 0, 0, 0, 0, 1, 0, 0, 0, 1, 0, 0, 0, 0, 0, 0, 0, 0,\n",
              "       0, 0, 0, 0, 0, 0, 0, 1, 0, 0, 0, 0, 0, 0, 0, 0, 0, 0, 0, 0, 0, 0,\n",
              "       0, 0, 0, 0, 0, 0, 0, 0, 0, 0, 0, 0, 1, 0, 0, 0, 0, 0, 0, 0, 1, 0,\n",
              "       0, 0, 0, 0, 0, 0, 0, 0, 1, 0, 0, 1, 0, 0, 0, 0, 1, 0, 0, 0, 0, 0,\n",
              "       0, 0, 0, 0, 0, 0, 0, 1, 0, 1, 0, 0, 0, 0, 0, 0, 0, 0, 0, 0, 0, 0,\n",
              "       0, 0, 0, 0, 0, 0, 0, 0, 0, 0, 0, 1])"
            ]
          },
          "metadata": {},
          "execution_count": 691
        }
      ]
    },
    {
      "cell_type": "code",
      "metadata": {
        "id": "aSMPPN28IfcU"
      },
      "source": [
        "Prob_rf = rf.predict_proba(X_test)[:,1]"
      ],
      "execution_count": null,
      "outputs": []
    },
    {
      "cell_type": "markdown",
      "metadata": {
        "id": "xY5GjVMxKee1"
      },
      "source": [
        "#Model's Validation"
      ]
    },
    {
      "cell_type": "markdown",
      "metadata": {
        "id": "Lsxy7fueKuhq"
      },
      "source": [
        "#### Acurancia model 1\n",
        "\n"
      ]
    },
    {
      "cell_type": "code",
      "metadata": {
        "colab": {
          "base_uri": "https://localhost:8080/"
        },
        "id": "HXtZy97zKavc",
        "outputId": "374870ca-f826-498e-b5a6-d3b0695de126"
      },
      "source": [
        "from sklearn.metrics import accuracy_score\n",
        "\n",
        "print(accuracy_score(y_test, reg1.predict(X_test)))"
      ],
      "execution_count": null,
      "outputs": [
        {
          "output_type": "stream",
          "name": "stdout",
          "text": [
            "0.8348214285714286\n"
          ]
        }
      ]
    },
    {
      "cell_type": "markdown",
      "metadata": {
        "id": "AXC7XLgai5vU"
      },
      "source": [
        "#### Acurancia model 2"
      ]
    },
    {
      "cell_type": "code",
      "metadata": {
        "colab": {
          "base_uri": "https://localhost:8080/"
        },
        "id": "981ToXM6Katx",
        "outputId": "03c93539-7ac6-46ca-ee17-9f743a0c4537"
      },
      "source": [
        "print(accuracy_score(y_test,rf.predict(X_test)))"
      ],
      "execution_count": null,
      "outputs": [
        {
          "output_type": "stream",
          "name": "stdout",
          "text": [
            "0.8630952380952381\n"
          ]
        }
      ]
    },
    {
      "cell_type": "markdown",
      "metadata": {
        "id": "M17lo2trjNnM"
      },
      "source": [
        "####F1 model 1"
      ]
    },
    {
      "cell_type": "code",
      "metadata": {
        "colab": {
          "base_uri": "https://localhost:8080/"
        },
        "id": "52JsWbxxjNQr",
        "outputId": "be85bf22-e9ac-4de4-d8d9-bf77896acea2"
      },
      "source": [
        "from sklearn.metrics import classification_report\n",
        "\n",
        "target_names = ['No Acept', 'Acept']\n",
        "print(classification_report(y_test, reg1.predict(X_test), target_names=target_names))"
      ],
      "execution_count": null,
      "outputs": [
        {
          "output_type": "stream",
          "name": "stdout",
          "text": [
            "              precision    recall  f1-score   support\n",
            "\n",
            "    No Acept       0.85      0.97      0.91       558\n",
            "       Acept       0.54      0.17      0.26       114\n",
            "\n",
            "    accuracy                           0.83       672\n",
            "   macro avg       0.70      0.57      0.58       672\n",
            "weighted avg       0.80      0.83      0.80       672\n",
            "\n"
          ]
        }
      ]
    },
    {
      "cell_type": "markdown",
      "metadata": {
        "id": "o0UX8Ajwnoit"
      },
      "source": [
        "####F1 model 2"
      ]
    },
    {
      "cell_type": "code",
      "metadata": {
        "colab": {
          "base_uri": "https://localhost:8080/"
        },
        "id": "_DQPcbilKarX",
        "outputId": "9011b987-0baf-4bf1-91bb-8cc4bb0c1e64"
      },
      "source": [
        "print(classification_report(y_test, rf.predict(X_test), target_names=target_names))"
      ],
      "execution_count": null,
      "outputs": [
        {
          "output_type": "stream",
          "name": "stdout",
          "text": [
            "              precision    recall  f1-score   support\n",
            "\n",
            "    No Acept       0.88      0.97      0.92       558\n",
            "       Acept       0.71      0.32      0.45       114\n",
            "\n",
            "    accuracy                           0.86       672\n",
            "   macro avg       0.79      0.65      0.68       672\n",
            "weighted avg       0.85      0.86      0.84       672\n",
            "\n"
          ]
        }
      ]
    },
    {
      "cell_type": "markdown",
      "metadata": {
        "id": "OGvNekMKDc3T"
      },
      "source": [
        "##Curva ROC"
      ]
    },
    {
      "cell_type": "markdown",
      "metadata": {
        "id": "BkleIbAoO2kw"
      },
      "source": [
        "####Model 1"
      ]
    },
    {
      "cell_type": "code",
      "metadata": {
        "id": "69jeclO5DVA9"
      },
      "source": [
        "from sklearn.metrics import roc_curve\n",
        "fpr_mod1, tpr_mod1,thresholds_mod1 = roc_curve(y_test,Prob_reg)\n"
      ],
      "execution_count": null,
      "outputs": []
    },
    {
      "cell_type": "code",
      "metadata": {
        "colab": {
          "base_uri": "https://localhost:8080/",
          "height": 265
        },
        "id": "Nq-axE4HKapQ",
        "outputId": "e66be3b9-b8c0-4e1e-ebb8-65df5d2a73ca"
      },
      "source": [
        "\n",
        "plt.scatter(fpr_mod1, tpr_mod1)\n",
        "plt.show()"
      ],
      "execution_count": null,
      "outputs": [
        {
          "output_type": "display_data",
          "data": {
            "image/png": "[encoded data removed]",
            "text/plain": [
              "<Figure size 432x288 with 1 Axes>"
            ]
          },
          "metadata": {
            "needs_background": "light"
          }
        }
      ]
    },
    {
      "cell_type": "markdown",
      "metadata": {
        "id": "jdnacT85SJtP"
      },
      "source": [
        "####Model 2"
      ]
    },
    {
      "cell_type": "code",
      "metadata": {
        "id": "Dm0rBhBzKajP"
      },
      "source": [
        "fpr_mod2, tpr_mod2,thresholds_mod2 = roc_curve(y_test,Prob_rf)\n"
      ],
      "execution_count": null,
      "outputs": []
    },
    {
      "cell_type": "code",
      "metadata": {
        "colab": {
          "base_uri": "https://localhost:8080/",
          "height": 265
        },
        "id": "EbhERp7FKagp",
        "outputId": "25ac4366-b125-46ff-d313-25b4db0732a9"
      },
      "source": [
        "plt.scatter(fpr_mod2, tpr_mod2)\n",
        "plt.show()"
      ],
      "execution_count": null,
      "outputs": [
        {
          "output_type": "display_data",
          "data": {
            "image/png": "[encoded data removed]",
            "text/plain": [
              "<Figure size 432x288 with 1 Axes>"
            ]
          },
          "metadata": {
            "needs_background": "light"
          }
        }
      ]
    },
    {
      "cell_type": "markdown",
      "metadata": {
        "id": "r7ber2CFU0IZ"
      },
      "source": [
        "##Determination AUC"
      ]
    },
    {
      "cell_type": "markdown",
      "metadata": {
        "id": "OmILwAW7VLQA"
      },
      "source": [
        "####Model 1"
      ]
    },
    {
      "cell_type": "code",
      "metadata": {
        "colab": {
          "base_uri": "https://localhost:8080/"
        },
        "id": "bDuPlIOiVONo",
        "outputId": "91048406-071c-4c24-c0d6-7314d02b1e23"
      },
      "source": [
        "from sklearn.metrics import roc_auc_score\n",
        "roc_auc_score(y_test,Prob_reg)"
      ],
      "execution_count": null,
      "outputs": [
        {
          "output_type": "execute_result",
          "data": {
            "text/plain": [
              "0.7608155693894234"
            ]
          },
          "metadata": {},
          "execution_count": 701
        }
      ]
    },
    {
      "cell_type": "markdown",
      "metadata": {
        "id": "PdqQB6jqVsxU"
      },
      "source": [
        "####Model 2"
      ]
    },
    {
      "cell_type": "code",
      "metadata": {
        "colab": {
          "base_uri": "https://localhost:8080/"
        },
        "id": "0CCLylD8Kaag",
        "outputId": "19e41c87-33ba-47f5-b1e8-32bc64684ee6"
      },
      "source": [
        "roc_auc_score(y_test,Prob_rf)"
      ],
      "execution_count": null,
      "outputs": [
        {
          "output_type": "execute_result",
          "data": {
            "text/plain": [
              "0.8730899830220713"
            ]
          },
          "metadata": {},
          "execution_count": 702
        }
      ]
    },
    {
      "cell_type": "markdown",
      "metadata": {
        "id": "jt33V4Rd8g7w"
      },
      "source": [
        "##Normalization the features for use KNeighbors "
      ]
    },
    {
      "cell_type": "code",
      "metadata": {
        "id": "rG9MbrZ19ET_"
      },
      "source": [
        "from sklearn.preprocessing import MinMaxScaler\n",
        "normalizador = MinMaxScaler(feature_range = (0,1))\n",
        "X_normal = normalizador.fit_transform(X)"
      ],
      "execution_count": null,
      "outputs": []
    },
    {
      "cell_type": "markdown",
      "metadata": {
        "id": "7_lKXTyZAQZA"
      },
      "source": [
        "####Split for Kneighbors"
      ]
    },
    {
      "cell_type": "code",
      "metadata": {
        "id": "mKj-s8R7_nvi"
      },
      "source": [
        "X_Kntrain, X_Kntest, y_Kntrain,  y_Kntest = train_test_split(X_normal,y,test_size = 0.3,random_state = 42)"
      ],
      "execution_count": null,
      "outputs": []
    },
    {
      "cell_type": "markdown",
      "metadata": {
        "id": "9Gw4eWycBd-A"
      },
      "source": [
        "####Model 3 Kneighbors"
      ]
    },
    {
      "cell_type": "code",
      "metadata": {
        "colab": {
          "base_uri": "https://localhost:8080/"
        },
        "id": "XrI5Quj79XND",
        "outputId": "3deef7ce-1d4b-45ab-b516-e99a9bfa9867"
      },
      "source": [
        "from sklearn.neighbors import KNeighborsClassifier\n",
        "KNN = KNeighborsClassifier(n_neighbors = 11)\n",
        "KNN.fit(X_Kntrain, y_Kntrain)"
      ],
      "execution_count": null,
      "outputs": [
        {
          "output_type": "execute_result",
          "data": {
            "text/plain": [
              "KNeighborsClassifier(algorithm='auto', leaf_size=30, metric='minkowski',\n",
              "                     metric_params=None, n_jobs=None, n_neighbors=11, p=2,\n",
              "                     weights='uniform')"
            ]
          },
          "metadata": {},
          "execution_count": 705
        }
      ]
    },
    {
      "cell_type": "code",
      "metadata": {
        "colab": {
          "base_uri": "https://localhost:8080/"
        },
        "id": "4g5FIF6WdJG5",
        "outputId": "5f03dd64-559a-4927-a6bc-29e47ac0a3f4"
      },
      "source": [
        "KNN.predict(X_Kntest)"
      ],
      "execution_count": null,
      "outputs": [
        {
          "output_type": "execute_result",
          "data": {
            "text/plain": [
              "array([0, 0, 0, 0, 0, 0, 0, 0, 0, 0, 1, 0, 0, 0, 0, 0, 0, 0, 0, 0, 0, 0,\n",
              "       0, 0, 0, 0, 0, 0, 1, 0, 0, 0, 0, 0, 0, 0, 0, 0, 1, 0, 1, 0, 0, 0,\n",
              "       0, 0, 0, 0, 0, 0, 0, 0, 0, 0, 0, 0, 0, 0, 0, 0, 0, 0, 0, 0, 0, 0,\n",
              "       0, 0, 0, 0, 1, 0, 0, 0, 0, 0, 0, 0, 1, 0, 0, 0, 0, 0, 0, 0, 0, 0,\n",
              "       0, 0, 0, 0, 0, 0, 0, 0, 0, 0, 0, 0, 0, 0, 1, 0, 0, 0, 0, 0, 0, 0,\n",
              "       0, 0, 0, 0, 0, 0, 0, 0, 0, 0, 0, 0, 0, 0, 0, 0, 0, 0, 0, 0, 0, 0,\n",
              "       0, 0, 0, 0, 0, 0, 0, 0, 0, 0, 0, 0, 0, 0, 0, 0, 0, 0, 0, 1, 0, 0,\n",
              "       0, 0, 0, 0, 0, 0, 0, 0, 0, 0, 0, 0, 0, 0, 0, 0, 0, 0, 0, 0, 0, 0,\n",
              "       0, 0, 0, 0, 0, 0, 0, 0, 0, 0, 0, 0, 0, 0, 0, 0, 0, 0, 0, 0, 0, 0,\n",
              "       0, 0, 0, 0, 0, 0, 0, 0, 0, 0, 0, 0, 0, 0, 0, 0, 0, 0, 0, 0, 1, 0,\n",
              "       0, 0, 0, 0, 0, 0, 0, 0, 0, 0, 0, 1, 0, 0, 0, 0, 0, 0, 0, 0, 0, 0,\n",
              "       0, 0, 0, 0, 0, 0, 0, 0, 0, 0, 0, 0, 0, 0, 0, 0, 0, 0, 0, 0, 0, 0,\n",
              "       0, 1, 1, 1, 0, 0, 0, 0, 0, 0, 0, 0, 0, 0, 0, 0, 0, 0, 0, 0, 0, 0,\n",
              "       0, 0, 0, 0, 1, 0, 1, 0, 0, 0, 0, 0, 0, 0, 0, 0, 0, 0, 0, 0, 0, 0,\n",
              "       0, 0, 0, 0, 0, 1, 0, 0, 0, 1, 0, 0, 0, 0, 0, 0, 1, 0, 0, 0, 0, 0,\n",
              "       0, 0, 0, 0, 0, 0, 0, 0, 0, 1, 0, 0, 0, 1, 0, 0, 1, 0, 0, 0, 0, 0,\n",
              "       0, 0, 0, 0, 0, 0, 0, 0, 0, 0, 0, 0, 0, 0, 0, 0, 0, 0, 0, 1, 0, 0,\n",
              "       0, 0, 0, 0, 0, 0, 0, 1, 0, 0, 0, 0, 0, 0, 0, 0, 0, 0, 0, 0, 0, 0,\n",
              "       0, 0, 0, 0, 0, 0, 0, 0, 0, 0, 0, 0, 0, 0, 0, 0, 0, 0, 1, 0, 0, 0,\n",
              "       0, 0, 0, 0, 0, 0, 0, 0, 0, 0, 0, 1, 0, 0, 0, 0, 0, 0, 0, 0, 0, 0,\n",
              "       0, 0, 0, 0, 0, 0, 1, 0, 1, 0, 0, 0, 0, 0, 0, 0, 0, 0, 0, 0, 0, 0,\n",
              "       0, 1, 0, 0, 0, 0, 0, 0, 0, 0, 0, 0, 0, 0, 0, 0, 0, 0, 0, 0, 0, 0,\n",
              "       0, 0, 0, 0, 0, 0, 0, 0, 0, 0, 1, 0, 0, 0, 0, 0, 0, 0, 0, 0, 0, 0,\n",
              "       0, 0, 0, 0, 0, 0, 1, 0, 0, 0, 0, 0, 0, 0, 0, 0, 0, 0, 0, 0, 0, 0,\n",
              "       0, 0, 0, 0, 0, 0, 0, 1, 0, 0, 0, 0, 0, 0, 0, 0, 0, 0, 0, 0, 0, 0,\n",
              "       0, 0, 0, 0, 0, 0, 0, 1, 0, 0, 0, 0, 0, 0, 0, 0, 0, 0, 0, 0, 0, 0,\n",
              "       0, 0, 0, 0, 0, 0, 0, 0, 0, 0, 0, 0, 0, 0, 0, 0, 0, 0, 0, 0, 0, 0,\n",
              "       0, 0, 1, 0, 0, 0, 0, 0, 0, 0, 0, 0, 1, 0, 0, 0, 0, 0, 0, 0, 0, 0,\n",
              "       0, 0, 0, 0, 0, 0, 0, 0, 0, 0, 0, 0, 0, 1, 0, 0, 0, 0, 0, 0, 0, 0,\n",
              "       0, 0, 0, 0, 0, 0, 0, 0, 0, 1, 0, 0, 0, 0, 0, 0, 0, 0, 0, 0, 0, 0,\n",
              "       0, 0, 0, 0, 0, 0, 0, 0, 0, 0, 0, 1])"
            ]
          },
          "metadata": {},
          "execution_count": 706
        }
      ]
    },
    {
      "cell_type": "code",
      "metadata": {
        "id": "HfXeUbA8dwzT"
      },
      "source": [
        "Prob_KNN = KNN.predict_proba(X_Kntest)[:,1]*1000\n",
        "##rf.predict_proba(X_test)[:,1]"
      ],
      "execution_count": null,
      "outputs": []
    },
    {
      "cell_type": "code",
      "metadata": {
        "colab": {
          "base_uri": "https://localhost:8080/"
        },
        "id": "dPoBJh4DgcQk",
        "outputId": "0687b0d6-cb3f-4ca1-e2b2-8dff64236f5e"
      },
      "source": [
        "Prob_KNN"
      ],
      "execution_count": null,
      "outputs": [
        {
          "output_type": "execute_result",
          "data": {
            "text/plain": [
              "array([ 90.90909091,   0.        , 363.63636364, 363.63636364,\n",
              "       272.72727273,   0.        , 181.81818182, 181.81818182,\n",
              "        90.90909091,   0.        , 636.36363636,   0.        ,\n",
              "       181.81818182, 272.72727273,   0.        ,   0.        ,\n",
              "         0.        ,   0.        , 181.81818182,  90.90909091,\n",
              "         0.        ,  90.90909091, 181.81818182,  90.90909091,\n",
              "         0.        ,  90.90909091,   0.        , 272.72727273,\n",
              "       545.45454545,   0.        ,  90.90909091, 454.54545455,\n",
              "         0.        ,  90.90909091,   0.        ,  90.90909091,\n",
              "         0.        , 272.72727273, 727.27272727,  90.90909091,\n",
              "       636.36363636,   0.        ,  90.90909091,   0.        ,\n",
              "         0.        ,  90.90909091,   0.        ,   0.        ,\n",
              "         0.        , 181.81818182,  90.90909091,   0.        ,\n",
              "       272.72727273,   0.        ,   0.        ,  90.90909091,\n",
              "        90.90909091,   0.        ,  90.90909091, 181.81818182,\n",
              "         0.        ,   0.        ,   0.        ,   0.        ,\n",
              "        90.90909091, 363.63636364,   0.        , 272.72727273,\n",
              "        90.90909091,  90.90909091, 636.36363636, 181.81818182,\n",
              "         0.        ,   0.        ,  90.90909091,   0.        ,\n",
              "       181.81818182, 454.54545455, 818.18181818, 181.81818182,\n",
              "       272.72727273,  90.90909091,  90.90909091,   0.        ,\n",
              "         0.        ,  90.90909091, 272.72727273, 181.81818182,\n",
              "         0.        , 181.81818182, 454.54545455, 454.54545455,\n",
              "        90.90909091,   0.        ,   0.        , 454.54545455,\n",
              "        90.90909091, 363.63636364,   0.        , 363.63636364,\n",
              "        90.90909091,  90.90909091, 545.45454545,  90.90909091,\n",
              "         0.        ,   0.        , 272.72727273,  90.90909091,\n",
              "        90.90909091, 181.81818182,   0.        , 272.72727273,\n",
              "         0.        , 363.63636364,   0.        ,   0.        ,\n",
              "        90.90909091,   0.        ,   0.        , 272.72727273,\n",
              "        90.90909091, 363.63636364,   0.        ,  90.90909091,\n",
              "       454.54545455, 363.63636364,  90.90909091,  90.90909091,\n",
              "        90.90909091, 454.54545455,   0.        ,   0.        ,\n",
              "       272.72727273,   0.        ,   0.        ,   0.        ,\n",
              "         0.        , 181.81818182,   0.        , 363.63636364,\n",
              "        90.90909091, 181.81818182, 181.81818182,   0.        ,\n",
              "         0.        ,   0.        , 181.81818182,   0.        ,\n",
              "         0.        ,   0.        ,   0.        , 909.09090909,\n",
              "       454.54545455,   0.        ,   0.        ,   0.        ,\n",
              "        90.90909091,  90.90909091,   0.        , 181.81818182,\n",
              "        90.90909091,   0.        ,   0.        ,   0.        ,\n",
              "       363.63636364,   0.        ,   0.        ,   0.        ,\n",
              "         0.        ,  90.90909091, 363.63636364,  90.90909091,\n",
              "         0.        ,   0.        , 272.72727273,   0.        ,\n",
              "        90.90909091, 272.72727273,   0.        ,  90.90909091,\n",
              "         0.        ,   0.        ,   0.        , 181.81818182,\n",
              "       181.81818182,   0.        , 272.72727273, 181.81818182,\n",
              "         0.        ,   0.        ,   0.        ,  90.90909091,\n",
              "       181.81818182,   0.        ,   0.        ,   0.        ,\n",
              "       181.81818182,  90.90909091,   0.        ,   0.        ,\n",
              "        90.90909091, 363.63636364,   0.        , 181.81818182,\n",
              "         0.        , 181.81818182,   0.        ,   0.        ,\n",
              "         0.        , 454.54545455,   0.        ,   0.        ,\n",
              "         0.        ,  90.90909091,   0.        ,   0.        ,\n",
              "       363.63636364,   0.        , 545.45454545,   0.        ,\n",
              "       363.63636364,  90.90909091, 181.81818182, 363.63636364,\n",
              "       272.72727273,  90.90909091,   0.        , 272.72727273,\n",
              "         0.        ,  90.90909091,   0.        , 545.45454545,\n",
              "         0.        ,   0.        ,   0.        ,  90.90909091,\n",
              "         0.        , 363.63636364,   0.        ,  90.90909091,\n",
              "        90.90909091, 454.54545455, 272.72727273,   0.        ,\n",
              "         0.        ,   0.        ,   0.        ,   0.        ,\n",
              "        90.90909091,   0.        , 181.81818182,  90.90909091,\n",
              "         0.        ,  90.90909091,  90.90909091, 181.81818182,\n",
              "         0.        , 181.81818182, 181.81818182,   0.        ,\n",
              "         0.        , 454.54545455, 454.54545455,  90.90909091,\n",
              "         0.        , 636.36363636, 636.36363636, 636.36363636,\n",
              "        90.90909091,  90.90909091, 181.81818182,   0.        ,\n",
              "         0.        ,  90.90909091,   0.        ,  90.90909091,\n",
              "        90.90909091,  90.90909091,   0.        ,   0.        ,\n",
              "        90.90909091,   0.        ,   0.        ,  90.90909091,\n",
              "         0.        ,  90.90909091,   0.        , 181.81818182,\n",
              "        90.90909091, 181.81818182, 727.27272727, 181.81818182,\n",
              "       727.27272727,   0.        ,   0.        ,  90.90909091,\n",
              "         0.        , 181.81818182, 272.72727273,  90.90909091,\n",
              "        90.90909091,   0.        ,   0.        ,   0.        ,\n",
              "       272.72727273,   0.        ,  90.90909091,   0.        ,\n",
              "       181.81818182,   0.        ,   0.        , 272.72727273,\n",
              "        90.90909091, 636.36363636,   0.        ,  90.90909091,\n",
              "       454.54545455, 727.27272727,   0.        ,  90.90909091,\n",
              "         0.        ,   0.        ,   0.        ,   0.        ,\n",
              "       818.18181818,   0.        , 181.81818182,   0.        ,\n",
              "         0.        ,   0.        ,  90.90909091, 272.72727273,\n",
              "         0.        ,   0.        ,   0.        , 181.81818182,\n",
              "       454.54545455,   0.        , 272.72727273, 545.45454545,\n",
              "       272.72727273,   0.        ,   0.        , 727.27272727,\n",
              "        90.90909091,   0.        , 727.27272727,  90.90909091,\n",
              "        90.90909091,   0.        , 181.81818182, 181.81818182,\n",
              "        90.90909091,   0.        , 181.81818182,   0.        ,\n",
              "         0.        ,   0.        ,   0.        ,  90.90909091,\n",
              "         0.        ,   0.        ,   0.        ,  90.90909091,\n",
              "         0.        ,  90.90909091, 363.63636364,  90.90909091,\n",
              "         0.        ,  90.90909091, 181.81818182, 636.36363636,\n",
              "       181.81818182,  90.90909091,   0.        ,   0.        ,\n",
              "       181.81818182, 272.72727273,   0.        , 181.81818182,\n",
              "         0.        , 727.27272727,  90.90909091,   0.        ,\n",
              "         0.        ,   0.        ,   0.        , 181.81818182,\n",
              "         0.        ,   0.        ,   0.        ,  90.90909091,\n",
              "         0.        ,   0.        ,  90.90909091,   0.        ,\n",
              "        90.90909091,   0.        ,  90.90909091,  90.90909091,\n",
              "        90.90909091,  90.90909091,  90.90909091,   0.        ,\n",
              "       272.72727273, 363.63636364,   0.        ,   0.        ,\n",
              "         0.        , 454.54545455, 181.81818182,  90.90909091,\n",
              "       272.72727273,  90.90909091, 545.45454545,  90.90909091,\n",
              "         0.        ,   0.        , 181.81818182, 272.72727273,\n",
              "       181.81818182,   0.        ,   0.        ,   0.        ,\n",
              "         0.        ,  90.90909091,   0.        ,   0.        ,\n",
              "        90.90909091, 727.27272727,   0.        ,   0.        ,\n",
              "         0.        , 181.81818182,   0.        ,   0.        ,\n",
              "         0.        ,   0.        ,   0.        ,   0.        ,\n",
              "       272.72727273, 181.81818182,   0.        , 272.72727273,\n",
              "         0.        ,   0.        , 818.18181818,   0.        ,\n",
              "       545.45454545,  90.90909091,  90.90909091,   0.        ,\n",
              "        90.90909091,   0.        ,  90.90909091, 363.63636364,\n",
              "        90.90909091,   0.        ,   0.        , 272.72727273,\n",
              "       363.63636364,  90.90909091,   0.        , 545.45454545,\n",
              "         0.        , 272.72727273, 181.81818182,  90.90909091,\n",
              "         0.        ,  90.90909091,  90.90909091, 363.63636364,\n",
              "       272.72727273,   0.        , 181.81818182,   0.        ,\n",
              "         0.        ,  90.90909091,   0.        , 181.81818182,\n",
              "        90.90909091,   0.        ,   0.        , 272.72727273,\n",
              "        90.90909091,  90.90909091,   0.        ,  90.90909091,\n",
              "         0.        , 272.72727273, 181.81818182, 454.54545455,\n",
              "        90.90909091, 272.72727273, 909.09090909,  90.90909091,\n",
              "         0.        ,  90.90909091, 272.72727273,  90.90909091,\n",
              "         0.        ,  90.90909091, 181.81818182,   0.        ,\n",
              "         0.        ,   0.        ,  90.90909091,   0.        ,\n",
              "         0.        ,   0.        ,  90.90909091, 272.72727273,\n",
              "       545.45454545, 272.72727273,   0.        ,   0.        ,\n",
              "         0.        ,   0.        ,   0.        ,   0.        ,\n",
              "         0.        ,   0.        ,   0.        ,  90.90909091,\n",
              "        90.90909091, 181.81818182,   0.        , 363.63636364,\n",
              "         0.        , 272.72727273,   0.        ,   0.        ,\n",
              "        90.90909091,   0.        ,  90.90909091, 818.18181818,\n",
              "         0.        , 181.81818182,   0.        ,   0.        ,\n",
              "         0.        ,   0.        ,  90.90909091,  90.90909091,\n",
              "         0.        ,   0.        ,   0.        ,  90.90909091,\n",
              "       181.81818182,   0.        ,   0.        ,   0.        ,\n",
              "       272.72727273,   0.        ,   0.        ,   0.        ,\n",
              "         0.        , 545.45454545,  90.90909091, 272.72727273,\n",
              "         0.        ,   0.        ,   0.        , 181.81818182,\n",
              "        90.90909091,   0.        ,   0.        ,   0.        ,\n",
              "        90.90909091,   0.        ,   0.        ,  90.90909091,\n",
              "         0.        ,   0.        ,   0.        , 181.81818182,\n",
              "         0.        ,   0.        ,   0.        , 454.54545455,\n",
              "         0.        ,   0.        ,   0.        ,  90.90909091,\n",
              "         0.        , 181.81818182,   0.        ,   0.        ,\n",
              "        90.90909091,   0.        ,   0.        ,  90.90909091,\n",
              "         0.        ,   0.        ,   0.        ,  90.90909091,\n",
              "       545.45454545,  90.90909091, 181.81818182,   0.        ,\n",
              "         0.        ,  90.90909091,   0.        , 181.81818182,\n",
              "         0.        , 181.81818182, 545.45454545, 363.63636364,\n",
              "       181.81818182, 181.81818182,  90.90909091,  90.90909091,\n",
              "        90.90909091,   0.        , 181.81818182,  90.90909091,\n",
              "        90.90909091, 454.54545455,   0.        ,   0.        ,\n",
              "         0.        ,  90.90909091, 454.54545455, 181.81818182,\n",
              "       363.63636364,   0.        ,   0.        , 454.54545455,\n",
              "        90.90909091, 636.36363636,   0.        , 363.63636364,\n",
              "       363.63636364,   0.        , 181.81818182,   0.        ,\n",
              "        90.90909091, 181.81818182,   0.        ,   0.        ,\n",
              "         0.        ,   0.        ,   0.        , 363.63636364,\n",
              "        90.90909091, 454.54545455,  90.90909091, 636.36363636,\n",
              "         0.        ,   0.        , 272.72727273,   0.        ,\n",
              "         0.        , 272.72727273,  90.90909091, 181.81818182,\n",
              "       363.63636364,   0.        ,   0.        , 272.72727273,\n",
              "         0.        , 454.54545455,   0.        , 272.72727273,\n",
              "        90.90909091,   0.        ,   0.        ,   0.        ,\n",
              "       272.72727273,  90.90909091,  90.90909091, 818.18181818])"
            ]
          },
          "metadata": {},
          "execution_count": 708
        }
      ]
    },
    {
      "cell_type": "code",
      "metadata": {
        "colab": {
          "base_uri": "https://localhost:8080/"
        },
        "id": "q5bzzpmaescS",
        "outputId": "412807be-87f1-48b8-91b2-9cac2085b803"
      },
      "source": [
        "print(accuracy_score(y_Kntest, KNN.predict(X_Kntest)))\n",
        "##TAMBEM SE PODE UTILIZAR PARA ACURACIAS = modelo.score(X_Kntest,y_Kntest ) "
      ],
      "execution_count": null,
      "outputs": [
        {
          "output_type": "stream",
          "name": "stdout",
          "text": [
            "0.8526785714285714\n"
          ]
        }
      ]
    },
    {
      "cell_type": "code",
      "metadata": {
        "colab": {
          "base_uri": "https://localhost:8080/"
        },
        "id": "TnugCo7mfW3v",
        "outputId": "a120ee1b-d82a-4ff5-9626-ba00c1ff605b"
      },
      "source": [
        "print(classification_report(y_Kntest, KNN.predict(X_Kntest), target_names=target_names))"
      ],
      "execution_count": null,
      "outputs": [
        {
          "output_type": "stream",
          "name": "stdout",
          "text": [
            "              precision    recall  f1-score   support\n",
            "\n",
            "    No Acept       0.86      0.98      0.92       558\n",
            "       Acept       0.70      0.23      0.34       114\n",
            "\n",
            "    accuracy                           0.85       672\n",
            "   macro avg       0.78      0.60      0.63       672\n",
            "weighted avg       0.83      0.85      0.82       672\n",
            "\n"
          ]
        }
      ]
    },
    {
      "cell_type": "code",
      "metadata": {
        "colab": {
          "base_uri": "https://localhost:8080/",
          "height": 265
        },
        "id": "AVS_WheQfdmN",
        "outputId": "cb672609-b41f-4919-fd72-b680a5f8392b"
      },
      "source": [
        "fpr_mod3, tpr_mod3,thresholds_mod3 = roc_curve(y_Kntest,Prob_KNN)\n",
        "plt.scatter(fpr_mod3, tpr_mod3)\n",
        "plt.show()\n"
      ],
      "execution_count": null,
      "outputs": [
        {
          "output_type": "display_data",
          "data": {
            "image/png": "[encoded data removed]",
            "text/plain": [
              "<Figure size 432x288 with 1 Axes>"
            ]
          },
          "metadata": {
            "needs_background": "light"
          }
        }
      ]
    },
    {
      "cell_type": "code",
      "metadata": {
        "colab": {
          "base_uri": "https://localhost:8080/"
        },
        "id": "3ec-r37TVR63",
        "outputId": "dcf94a8a-9781-4914-b116-61936025037d"
      },
      "source": [
        "roc_auc_score(y_test,Prob_KNN)"
      ],
      "execution_count": null,
      "outputs": [
        {
          "output_type": "execute_result",
          "data": {
            "text/plain": [
              "0.8265578821605986"
            ]
          },
          "metadata": {},
          "execution_count": 712
        }
      ]
    },
    {
      "cell_type": "markdown",
      "metadata": {
        "id": "ZxXpWdL24iqN"
      },
      "source": [
        "###KNN com ajuste de parâmetros"
      ]
    },
    {
      "cell_type": "code",
      "metadata": {
        "id": "ALtaF_g5gKHC"
      },
      "source": [
        "from sklearn.model_selection import GridSearchCV\n"
      ],
      "execution_count": null,
      "outputs": []
    },
    {
      "cell_type": "markdown",
      "metadata": {
        "id": "5B7TzUii5Rs4"
      },
      "source": [
        "####Definimos os valores que serão testados "
      ]
    },
    {
      "cell_type": "code",
      "metadata": {
        "id": "Ap2M0GMJ5Qrz"
      },
      "source": [
        "valores_K = np.array([3, 5, 7, 9, 11])\n",
        "calculo_distancia =['minkowski','chebyshev']\n",
        "valores_p = np.array([1,2,3,4])\n",
        "valores_grid = {'n_neighbors':valores_K, 'metric':calculo_distancia, 'p':valores_p}"
      ],
      "execution_count": null,
      "outputs": []
    },
    {
      "cell_type": "markdown",
      "metadata": {
        "id": "fjRYnWtt74lc"
      },
      "source": [
        "####Criação do modelo"
      ]
    },
    {
      "cell_type": "code",
      "metadata": {
        "id": "GfGEN4b_4_lI"
      },
      "source": [
        "modelo_ajustado_KNN = KNeighborsClassifier()"
      ],
      "execution_count": null,
      "outputs": []
    },
    {
      "cell_type": "markdown",
      "metadata": {
        "id": "cvMJD5f18JCG"
      },
      "source": [
        "####Criando os grids"
      ]
    },
    {
      "cell_type": "code",
      "metadata": {
        "id": "A8c6-1gW7U8z"
      },
      "source": [
        "gridKN = GridSearchCV(estimator = modelo_ajustado_KNN, param_grid = valores_grid, cv=5)\n"
      ],
      "execution_count": null,
      "outputs": []
    },
    {
      "cell_type": "code",
      "metadata": {
        "colab": {
          "base_uri": "https://localhost:8080/"
        },
        "id": "OquHrlfz-gH-",
        "outputId": "0f028acb-9ed5-4fd2-a4dd-a5d5460d0866"
      },
      "source": [
        "##gridKN.fit(X_Kntrain, y_Kntrain)\n",
        "gridKN.fit(X_Kntrain, y_Kntrain)"
      ],
      "execution_count": null,
      "outputs": [
        {
          "output_type": "execute_result",
          "data": {
            "text/plain": [
              "GridSearchCV(cv=5, error_score=nan,\n",
              "             estimator=KNeighborsClassifier(algorithm='auto', leaf_size=30,\n",
              "                                            metric='minkowski',\n",
              "                                            metric_params=None, n_jobs=None,\n",
              "                                            n_neighbors=5, p=2,\n",
              "                                            weights='uniform'),\n",
              "             iid='deprecated', n_jobs=None,\n",
              "             param_grid={'metric': ['minkowski', 'chebyshev'],\n",
              "                         'n_neighbors': array([ 3,  5,  7,  9, 11]),\n",
              "                         'p': array([1, 2, 3, 4])},\n",
              "             pre_dispatch='2*n_jobs', refit=True, return_train_score=False,\n",
              "             scoring=None, verbose=0)"
            ]
          },
          "metadata": {},
          "execution_count": 717
        }
      ]
    },
    {
      "cell_type": "code",
      "metadata": {
        "colab": {
          "base_uri": "https://localhost:8080/"
        },
        "id": "VK73DMAS9N0M",
        "outputId": "7e7f24e6-7c7e-4cae-99cd-70429d25a34f"
      },
      "source": [
        "print('Melhor acerácia:', gridKN.best_score_)\n",
        "print('Melhor K:', gridKN.best_estimator_.n_neighbors)\n",
        "print('Melhor distância:', gridKN.best_estimator_.metric)\n",
        "print('Melhor p:', gridKN.best_estimator_.p)"
      ],
      "execution_count": null,
      "outputs": [
        {
          "output_type": "stream",
          "name": "stdout",
          "text": [
            "Melhor acerácia: 0.8722044728434504\n",
            "Melhor K: 11\n",
            "Melhor distância: minkowski\n",
            "Melhor p: 1\n"
          ]
        }
      ]
    },
    {
      "cell_type": "code",
      "metadata": {
        "colab": {
          "base_uri": "https://localhost:8080/"
        },
        "id": "eLw7gI5VQ2vJ",
        "outputId": "29c4d618-4a92-4706-b91d-95e5db4b3eef"
      },
      "source": [
        "gridKN.predict(X_Kntest)"
      ],
      "execution_count": null,
      "outputs": [
        {
          "output_type": "execute_result",
          "data": {
            "text/plain": [
              "array([0, 0, 0, 0, 0, 0, 0, 0, 0, 0, 1, 0, 0, 0, 0, 0, 0, 0, 0, 0, 0, 0,\n",
              "       0, 0, 0, 0, 0, 0, 1, 0, 0, 1, 0, 0, 0, 0, 0, 0, 1, 0, 0, 0, 0, 0,\n",
              "       0, 0, 0, 0, 0, 0, 0, 0, 0, 0, 0, 0, 0, 0, 0, 0, 0, 0, 0, 0, 0, 0,\n",
              "       0, 0, 0, 0, 1, 0, 0, 0, 0, 0, 0, 0, 1, 0, 0, 0, 0, 0, 0, 0, 0, 0,\n",
              "       0, 0, 0, 0, 0, 0, 0, 0, 0, 0, 0, 0, 0, 0, 1, 0, 0, 0, 0, 0, 0, 0,\n",
              "       0, 0, 0, 0, 0, 0, 0, 0, 0, 0, 0, 0, 0, 0, 1, 0, 0, 0, 0, 0, 0, 0,\n",
              "       0, 0, 0, 0, 0, 0, 0, 0, 0, 0, 0, 0, 0, 0, 0, 0, 0, 0, 0, 1, 0, 0,\n",
              "       0, 0, 0, 0, 0, 0, 0, 0, 0, 0, 0, 0, 0, 0, 0, 0, 0, 0, 0, 0, 0, 0,\n",
              "       0, 0, 0, 0, 0, 0, 0, 0, 0, 0, 0, 0, 0, 0, 0, 0, 0, 0, 0, 0, 0, 0,\n",
              "       0, 0, 0, 0, 0, 0, 0, 0, 0, 0, 0, 0, 0, 0, 0, 0, 0, 0, 1, 0, 1, 0,\n",
              "       0, 0, 0, 0, 0, 0, 0, 0, 0, 0, 0, 1, 0, 0, 0, 0, 0, 0, 0, 0, 0, 0,\n",
              "       0, 0, 0, 0, 0, 0, 0, 0, 0, 0, 0, 0, 0, 0, 0, 0, 0, 0, 0, 0, 0, 0,\n",
              "       0, 1, 1, 1, 0, 0, 0, 0, 0, 0, 0, 0, 0, 0, 0, 0, 0, 0, 0, 0, 0, 0,\n",
              "       0, 0, 0, 0, 1, 0, 1, 0, 0, 0, 0, 0, 0, 0, 0, 0, 0, 0, 0, 0, 0, 0,\n",
              "       0, 0, 0, 0, 0, 1, 0, 0, 0, 1, 0, 0, 0, 0, 0, 0, 1, 0, 0, 0, 0, 0,\n",
              "       0, 0, 0, 0, 0, 0, 0, 0, 0, 1, 0, 0, 0, 1, 0, 0, 0, 0, 0, 0, 0, 0,\n",
              "       0, 0, 0, 0, 0, 0, 0, 0, 0, 0, 0, 0, 0, 0, 0, 0, 0, 0, 0, 1, 0, 0,\n",
              "       0, 0, 0, 0, 0, 0, 0, 0, 0, 0, 0, 0, 0, 0, 0, 0, 0, 0, 0, 0, 0, 0,\n",
              "       0, 0, 0, 0, 0, 0, 0, 0, 0, 0, 0, 0, 0, 1, 0, 0, 0, 0, 0, 0, 0, 0,\n",
              "       0, 0, 0, 0, 0, 0, 0, 0, 0, 0, 0, 1, 0, 0, 0, 0, 0, 0, 0, 0, 0, 0,\n",
              "       0, 0, 0, 0, 0, 0, 1, 0, 1, 0, 0, 0, 0, 0, 0, 0, 0, 0, 0, 0, 0, 0,\n",
              "       0, 0, 0, 0, 0, 0, 0, 0, 0, 0, 0, 0, 0, 0, 0, 0, 0, 0, 0, 0, 0, 0,\n",
              "       0, 0, 0, 0, 0, 0, 0, 0, 0, 0, 1, 0, 0, 0, 0, 0, 0, 0, 0, 0, 0, 0,\n",
              "       0, 0, 0, 0, 0, 0, 0, 0, 0, 0, 0, 0, 0, 0, 0, 0, 0, 0, 0, 0, 0, 1,\n",
              "       0, 0, 0, 0, 0, 0, 0, 1, 0, 0, 0, 0, 0, 0, 0, 0, 0, 0, 0, 0, 0, 0,\n",
              "       0, 0, 0, 0, 0, 0, 0, 0, 0, 0, 0, 0, 0, 0, 0, 0, 0, 0, 0, 0, 0, 0,\n",
              "       0, 0, 0, 0, 0, 0, 0, 0, 0, 0, 0, 0, 0, 0, 0, 0, 0, 0, 0, 0, 0, 0,\n",
              "       0, 0, 0, 0, 0, 0, 0, 0, 0, 0, 0, 0, 1, 0, 0, 0, 0, 0, 0, 0, 0, 0,\n",
              "       0, 1, 0, 0, 0, 0, 1, 0, 0, 0, 0, 0, 0, 0, 0, 0, 0, 0, 0, 0, 0, 0,\n",
              "       0, 0, 0, 0, 0, 0, 0, 0, 0, 1, 0, 0, 0, 0, 0, 0, 0, 0, 0, 0, 0, 0,\n",
              "       0, 0, 0, 0, 0, 0, 0, 0, 0, 0, 0, 1])"
            ]
          },
          "metadata": {},
          "execution_count": 719
        }
      ]
    },
    {
      "cell_type": "code",
      "metadata": {
        "id": "wvP7faE1S-qZ"
      },
      "source": [
        "Grid_KNN = gridKN.predict_proba(X_Kntest)[:,1]*1000"
      ],
      "execution_count": null,
      "outputs": []
    },
    {
      "cell_type": "code",
      "metadata": {
        "colab": {
          "base_uri": "https://localhost:8080/"
        },
        "id": "HslEqPemROKV",
        "outputId": "b8af8381-0636-47d3-b0fb-61b580d9804a"
      },
      "source": [
        "print(accuracy_score(y_Kntest, gridKN.predict(X_Kntest)))"
      ],
      "execution_count": null,
      "outputs": [
        {
          "output_type": "stream",
          "name": "stdout",
          "text": [
            "0.8586309523809523\n"
          ]
        }
      ]
    },
    {
      "cell_type": "code",
      "metadata": {
        "colab": {
          "base_uri": "https://localhost:8080/"
        },
        "id": "AKmfdR-hRAH1",
        "outputId": "3ee6a72a-38d4-4fda-c3aa-15b4f78ea4dc"
      },
      "source": [
        "print(classification_report(y_Kntest, gridKN.predict(X_Kntest), target_names=target_names))"
      ],
      "execution_count": null,
      "outputs": [
        {
          "output_type": "stream",
          "name": "stdout",
          "text": [
            "              precision    recall  f1-score   support\n",
            "\n",
            "    No Acept       0.86      0.99      0.92       558\n",
            "       Acept       0.77      0.24      0.36       114\n",
            "\n",
            "    accuracy                           0.86       672\n",
            "   macro avg       0.82      0.61      0.64       672\n",
            "weighted avg       0.85      0.86      0.83       672\n",
            "\n"
          ]
        }
      ]
    },
    {
      "cell_type": "code",
      "metadata": {
        "colab": {
          "base_uri": "https://localhost:8080/",
          "height": 265
        },
        "id": "ntAbHZtaSXoz",
        "outputId": "09395c68-42e3-4255-a6ab-c9cd8bbdb75b"
      },
      "source": [
        "fpr_mod4, tpr_mod4,thresholds_mod4 = roc_curve(y_Kntest,Grid_KNN)\n",
        "plt.scatter(fpr_mod4, tpr_mod4)\n",
        "plt.show()\n"
      ],
      "execution_count": null,
      "outputs": [
        {
          "output_type": "display_data",
          "data": {
            "image/png": "[encoded data removed]",
            "text/plain": [
              "<Figure size 432x288 with 1 Axes>"
            ]
          },
          "metadata": {
            "needs_background": "light"
          }
        }
      ]
    },
    {
      "cell_type": "code",
      "metadata": {
        "colab": {
          "base_uri": "https://localhost:8080/"
        },
        "id": "TBsae7NOVkig",
        "outputId": "d7d38713-1f19-4cfe-d062-fceccc2edb0e"
      },
      "source": [
        "roc_auc_score(y_test,Grid_KNN)"
      ],
      "execution_count": null,
      "outputs": [
        {
          "output_type": "execute_result",
          "data": {
            "text/plain": [
              "0.8395821543105074"
            ]
          },
          "metadata": {},
          "execution_count": 724
        }
      ]
    },
    {
      "cell_type": "markdown",
      "metadata": {
        "id": "MggXB51ERnyH"
      },
      "source": [
        "#Curva ROC comparation  of both models"
      ]
    },
    {
      "cell_type": "code",
      "metadata": {
        "colab": {
          "base_uri": "https://localhost:8080/",
          "height": 510
        },
        "id": "fsu7UtJ_Rmoh",
        "outputId": "22a96feb-d2fe-4547-fefa-6f9334d295c1"
      },
      "source": [
        "plt.figure(figsize=(10,8))\n",
        "plt.plot(fpr_mod1, tpr_mod1, linestyle='-', color=\"blue\", linewidth=2,label = 'Logistic Regression')\n",
        "plt.plot(fpr_mod2, tpr_mod2, linestyle='-', color=\"red\", linewidth=2,label = 'Randon Forest')\n",
        "plt.plot(fpr_mod4, tpr_mod4, linestyle='-', color=\"green\", linewidth=2,label = 'KNN Grids')\n",
        "##plt.axhline(y=p, color='r', linestyle='--', label = 'Valor teorico')\n",
        "plt.ylabel(\"True Positive Rate\", fontsize=20)\n",
        "plt.xlabel(\"False Positive Rate\", fontsize=20)\n",
        "plt.xlim([0.0, 1.0])\n",
        "plt.ylim([0.0, 1.0])\n",
        "plt.legend()\n",
        "plt.show(True) "
      ],
      "execution_count": null,
      "outputs": [
        {
          "output_type": "display_data",
          "data": {
            "image/png": "[encoded data removed]",
            "text/plain": [
              "<Figure size 720x576 with 1 Axes>"
            ]
          },
          "metadata": {
            "needs_background": "light"
          }
        }
      ]
    },
    {
      "cell_type": "markdown",
      "metadata": {
        "id": "qcsVwU8vR8Jp"
      },
      "source": [
        "Com este grafico consegimos escolher o melhor modelo para ser utilizado, el modelo preditivo escolhido esta feito como Random Forest otendo una acuracia del modelo de 87%"
      ]
    },
    {
      "cell_type": "markdown",
      "metadata": {
        "id": "ErCeuVbG1gVO"
      },
      "source": [
        "#Insight"
      ]
    },
    {
      "cell_type": "markdown",
      "metadata": {
        "id": "lMmPiRgt--yo"
      },
      "source": [
        "####Ticket promedio por compra"
      ]
    },
    {
      "cell_type": "code",
      "metadata": {
        "colab": {
          "base_uri": "https://localhost:8080/"
        },
        "id": "ILnYeK225VvI",
        "outputId": "7413be1d-ec00-4a86-851c-ad02a531a3b9"
      },
      "source": [
        "((df_drop.loc[:,['Mn_prod_Total']].sum(axis=1)).sum()/\n",
        " (df_drop.loc[:,['Num_compr_3canais_Total']].sum(axis=1)).sum()).round(2)"
      ],
      "execution_count": null,
      "outputs": [
        {
          "output_type": "execute_result",
          "data": {
            "text/plain": [
              "48.29"
            ]
          },
          "metadata": {},
          "execution_count": 752
        }
      ]
    },
    {
      "cell_type": "markdown",
      "metadata": {
        "id": "1fP48atcAQ7e"
      },
      "source": [
        "###Ticket promedio por cliente"
      ]
    },
    {
      "cell_type": "code",
      "metadata": {
        "colab": {
          "base_uri": "https://localhost:8080/"
        },
        "id": "cFHTB1PbB3jK",
        "outputId": "6af8bda0-d0ae-4954-d0d2-c3ed3c0e0c15"
      },
      "source": [
        "((df_drop.loc[:,['Mn_prod_Total']].sum(axis=1)).sum()/\n",
        " len(df_drop)).round(2)"
      ],
      "execution_count": null,
      "outputs": [
        {
          "output_type": "execute_result",
          "data": {
            "text/plain": [
              "605.74"
            ]
          },
          "metadata": {},
          "execution_count": 760
        }
      ]
    },
    {
      "cell_type": "markdown",
      "metadata": {
        "id": "X2N8WP8tE4S-"
      },
      "source": [
        "###Quantidade de compras tendo ou não filhos ou jovens em casa"
      ]
    },
    {
      "cell_type": "code",
      "metadata": {
        "colab": {
          "base_uri": "https://localhost:8080/"
        },
        "id": "XW0VxLgGDx-9",
        "outputId": "9b4919c3-c505-474b-84c5-81778ed3168f"
      },
      "source": [
        "df_drop.groupby(['Kidhome','Teenhome']).sum()['Mn_prod_Total']/df_drop['Mn_prod_Total'].sum()*100"
      ],
      "execution_count": null,
      "outputs": [
        {
          "output_type": "execute_result",
          "data": {
            "text/plain": [
              "Kidhome  Teenhome\n",
              "0        0           51.938677\n",
              "         1           33.922119\n",
              "1        0            7.125135\n",
              "         1            7.014069\n",
              "Name: Mn_prod_Total, dtype: float64"
            ]
          },
          "metadata": {},
          "execution_count": 773
        }
      ]
    },
    {
      "cell_type": "markdown",
      "metadata": {
        "id": "gPNwNJgCeFou"
      },
      "source": [
        "#A conclução do caso\n",
        "Depois de fazer o analize descriptivo, se detetó que a grande parte de os clientes compran mediante los tres canais en um mismo periodo de tempo, eso poderia demostrar certa fidelización, ademais se detectou que o canal Catalogo é el menos utilizado pelos clientes. Por outro lado, se analizou que o producto com mayor proporção de vendas é o vinho, abarcando um 50% del total de productos; em este mesmo contexto se analizou que o segundo produto com mas volumen de vendas é a carne, com um 27%.\n",
        "Em cuanto ao modelo que se precisa para clasificar a los clientes se realizo um teste com Regeção logistica, Randon Forest e K-neighbor, tendo um melhor resultado de validação de modelo com o Random forest e sendo comprobado empleando a Curva ROC a través do AUC. \n"
      ]
    }
  ]
}