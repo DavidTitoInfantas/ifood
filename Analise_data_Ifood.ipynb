{
  "nbformat": 4,
  "nbformat_minor": 0,
  "metadata": {
    "colab": {
      "name": "Analise_data_Ifood",
      "provenance": [],
      "collapsed_sections": [],
      "authorship_tag": "ABX9TyOG/poLfy3d05yApRxQyrU8",
      "include_colab_link": true
    },
    "kernelspec": {
      "name": "python3",
      "display_name": "Python 3"
    },
    "language_info": {
      "name": "python"
    }
  },
  "cells": [
    {
      "cell_type": "markdown",
      "metadata": {
        "id": "view-in-github",
        "colab_type": "text"
      },
      "source": [
        "<a href=\"https://colab.research.google.com/github/DavidTitoInfantas/ifood/blob/main/Analise_data_Ifood.ipynb\" target=\"_parent\"><img src=\"https://colab.research.google.com/assets/colab-badge.svg\" alt=\"Open In Colab\"/></a>"
      ]
    },
    {
      "cell_type": "markdown",
      "metadata": {
        "id": "DnE7fekV1xGb"
      },
      "source": [
        "#Analise to data ifood"
      ]
    },
    {
      "cell_type": "markdown",
      "metadata": {
        "id": "CckGxE9G56yK"
      },
      "source": [
        "##Uploading and explory data"
      ]
    },
    {
      "cell_type": "code",
      "metadata": {
        "id": "RMII751D2bA0"
      },
      "source": [
        "import pandas as pd\n",
        "import numpy as np\n",
        "import matplotlib.pyplot as plt\n",
        "import seaborn as sn"
      ],
      "execution_count": 2,
      "outputs": []
    },
    {
      "cell_type": "code",
      "metadata": {
        "id": "20AD-qTD18sU"
      },
      "source": [
        "df = pd.read_csv('https://raw.githubusercontent.com/ifood/ifood-data-business-analyst-test/master/ml_project1_data.csv')"
      ],
      "execution_count": 3,
      "outputs": []
    },
    {
      "cell_type": "code",
      "metadata": {
        "id": "IRHVnVJKTahH"
      },
      "source": [
        "df.rename(columns={\"AcceptedCmp3\":\"Campanha_3\",\"AcceptedCmp4\":\"Campanha_4\",\"AcceptedCmp5\":\"Campanha_5\",\"AcceptedCmp1\":\"Campanha_1\",\"AcceptedCmp2\":\"Campanha_2\"},inplace=True)"
      ],
      "execution_count": 4,
      "outputs": []
    },
    {
      "cell_type": "code",
      "metadata": {
        "colab": {
          "base_uri": "https://localhost:8080/"
        },
        "id": "QL4CkVmK4GOU",
        "outputId": "cd947ca4-2316-48b6-f2ca-b6efbee6cbf1"
      },
      "source": [
        "print('-'*20, 'General information data of the data frame', '-'*20, '\\n')\n",
        "print('side of Data Frame = {}'.format(df.shape),'\\n')\n",
        "print('head of columns = {}'.format(df.columns.values))\n",
        "\n",
        "print('-'*20, 'Information of type for column', '-'*20, '\\n')\n",
        "print(df.info())"
      ],
      "execution_count": 5,
      "outputs": [
        {
          "output_type": "stream",
          "name": "stdout",
          "text": [
            "-------------------- General information data of the data frame -------------------- \n",
            "\n",
            "side of Data Frame = (2240, 29) \n",
            "\n",
            "head of columns = ['ID' 'Year_Birth' 'Education' 'Marital_Status' 'Income' 'Kidhome'\n",
            " 'Teenhome' 'Dt_Customer' 'Recency' 'MntWines' 'MntFruits'\n",
            " 'MntMeatProducts' 'MntFishProducts' 'MntSweetProducts' 'MntGoldProds'\n",
            " 'NumDealsPurchases' 'NumWebPurchases' 'NumCatalogPurchases'\n",
            " 'NumStorePurchases' 'NumWebVisitsMonth' 'Campanha_3' 'Campanha_4'\n",
            " 'Campanha_5' 'Campanha_1' 'Campanha_2' 'Complain' 'Z_CostContact'\n",
            " 'Z_Revenue' 'Response']\n",
            "-------------------- Information of type for column -------------------- \n",
            "\n",
            "<class 'pandas.core.frame.DataFrame'>\n",
            "RangeIndex: 2240 entries, 0 to 2239\n",
            "Data columns (total 29 columns):\n",
            " #   Column               Non-Null Count  Dtype  \n",
            "---  ------               --------------  -----  \n",
            " 0   ID                   2240 non-null   int64  \n",
            " 1   Year_Birth           2240 non-null   int64  \n",
            " 2   Education            2240 non-null   object \n",
            " 3   Marital_Status       2240 non-null   object \n",
            " 4   Income               2216 non-null   float64\n",
            " 5   Kidhome              2240 non-null   int64  \n",
            " 6   Teenhome             2240 non-null   int64  \n",
            " 7   Dt_Customer          2240 non-null   object \n",
            " 8   Recency              2240 non-null   int64  \n",
            " 9   MntWines             2240 non-null   int64  \n",
            " 10  MntFruits            2240 non-null   int64  \n",
            " 11  MntMeatProducts      2240 non-null   int64  \n",
            " 12  MntFishProducts      2240 non-null   int64  \n",
            " 13  MntSweetProducts     2240 non-null   int64  \n",
            " 14  MntGoldProds         2240 non-null   int64  \n",
            " 15  NumDealsPurchases    2240 non-null   int64  \n",
            " 16  NumWebPurchases      2240 non-null   int64  \n",
            " 17  NumCatalogPurchases  2240 non-null   int64  \n",
            " 18  NumStorePurchases    2240 non-null   int64  \n",
            " 19  NumWebVisitsMonth    2240 non-null   int64  \n",
            " 20  Campanha_3           2240 non-null   int64  \n",
            " 21  Campanha_4           2240 non-null   int64  \n",
            " 22  Campanha_5           2240 non-null   int64  \n",
            " 23  Campanha_1           2240 non-null   int64  \n",
            " 24  Campanha_2           2240 non-null   int64  \n",
            " 25  Complain             2240 non-null   int64  \n",
            " 26  Z_CostContact        2240 non-null   int64  \n",
            " 27  Z_Revenue            2240 non-null   int64  \n",
            " 28  Response             2240 non-null   int64  \n",
            "dtypes: float64(1), int64(25), object(3)\n",
            "memory usage: 507.6+ KB\n",
            "None\n"
          ]
        }
      ]
    },
    {
      "cell_type": "markdown",
      "metadata": {
        "id": "wL7U0H5y6Vjy"
      },
      "source": [
        "\n",
        "##Analise columns with nulls"
      ]
    },
    {
      "cell_type": "code",
      "metadata": {
        "colab": {
          "base_uri": "https://localhost:8080/"
        },
        "id": "E9T6rB604Fc4",
        "outputId": "33ec0823-de31-4608-cf74-47bc76955114"
      },
      "source": [
        "df.isnull().sum()/df.count()"
      ],
      "execution_count": 6,
      "outputs": [
        {
          "output_type": "execute_result",
          "data": {
            "text/plain": [
              "ID                     0.00000\n",
              "Year_Birth             0.00000\n",
              "Education              0.00000\n",
              "Marital_Status         0.00000\n",
              "Income                 0.01083\n",
              "Kidhome                0.00000\n",
              "Teenhome               0.00000\n",
              "Dt_Customer            0.00000\n",
              "Recency                0.00000\n",
              "MntWines               0.00000\n",
              "MntFruits              0.00000\n",
              "MntMeatProducts        0.00000\n",
              "MntFishProducts        0.00000\n",
              "MntSweetProducts       0.00000\n",
              "MntGoldProds           0.00000\n",
              "NumDealsPurchases      0.00000\n",
              "NumWebPurchases        0.00000\n",
              "NumCatalogPurchases    0.00000\n",
              "NumStorePurchases      0.00000\n",
              "NumWebVisitsMonth      0.00000\n",
              "Campanha_3             0.00000\n",
              "Campanha_4             0.00000\n",
              "Campanha_5             0.00000\n",
              "Campanha_1             0.00000\n",
              "Campanha_2             0.00000\n",
              "Complain               0.00000\n",
              "Z_CostContact          0.00000\n",
              "Z_Revenue              0.00000\n",
              "Response               0.00000\n",
              "dtype: float64"
            ]
          },
          "metadata": {},
          "execution_count": 6
        }
      ]
    },
    {
      "cell_type": "markdown",
      "metadata": {
        "id": "bJ9q9oJq_as8"
      },
      "source": [
        "####Change the NA for Icome's median "
      ]
    },
    {
      "cell_type": "code",
      "metadata": {
        "id": "aMbggB6i4sE2"
      },
      "source": [
        "##df['Income'].median()\n",
        "df['Income'].fillna(df['Income'].median(),inplace=True)"
      ],
      "execution_count": 7,
      "outputs": []
    },
    {
      "cell_type": "markdown",
      "metadata": {
        "id": "HeRQ-qH2ABRg"
      },
      "source": [
        "###Filtro de DF con 1 variable por canal de venta"
      ]
    },
    {
      "cell_type": "code",
      "metadata": {
        "colab": {
          "base_uri": "https://localhost:8080/"
        },
        "id": "REg6rSkF4r67",
        "outputId": "65f93e31-64f1-49ea-ef15-9854e6eed28c"
      },
      "source": [
        "LF = df[(df['NumStorePurchases']>0)&(df['NumCatalogPurchases']==0)&(df['NumWebPurchases']==0)]\n",
        "CT = df[(df['NumStorePurchases']==0)&(df['NumCatalogPurchases']>0)&(df['NumWebPurchases']==0)]\n",
        "ST = df[(df['NumStorePurchases']==0)&(df['NumCatalogPurchases']==0)&(df['NumWebPurchases']>0)]\n",
        "LF_CT = df[(df['NumStorePurchases']>0)&(df['NumCatalogPurchases']>0)&(df['NumWebPurchases']==0)]\n",
        "LF_ST = df[(df['NumStorePurchases']>0)&(df['NumCatalogPurchases']==0)&(df['NumWebPurchases']>0)]\n",
        "CT_ST = df[(df['NumStorePurchases']==0)&(df['NumCatalogPurchases']>0)&(df['NumWebPurchases']>0)]\n",
        "LF_CT_ST = df[(df['NumStorePurchases']>0)&(df['NumCatalogPurchases']>0)&(df['NumWebPurchases']>0)]\n",
        "NA = df[(df['NumStorePurchases']==0)&(df['NumCatalogPurchases']==0)&(df['NumWebPurchases']==0)]\n",
        "##index = LF.index\n",
        "##print(len(index))\n",
        "print('='*15,'Filtro de DF con 1 variable','='*15,'\\n')\n",
        "print('Persoas que compraron solamente Loja Fisica',' '*5,len(LF),'->',round((len(LF)/len(df))*100,2),'%')\n",
        "print('-'*50)\n",
        "print('Persoas que compraron solamente por Catalogo',' '*5,len(CT),'->',round((len(CT)/len(df))*100,2),'%')\n",
        "print('-'*50)\n",
        "print('Persoas que compraron solamente por Site Web',' '*5,len(ST),'->',round((len(ST)/len(df))*100,2),'%')\n",
        "print('-'*50)\n",
        "print('Persoas que compraron por Loja Fisica y Catalogo',' '*5,len(LF_CT),'->',round((len(LF_CT)/len(df))*100,2),'%')\n",
        "print('-'*50)\n",
        "print('Persoas que compraron por Loja Fisica y Site Web',' '*5,len(LF_ST),'->',round((len(LF_ST)/len(df))*100,2),'%')\n",
        "print('-'*50)\n",
        "print('Persoas que compraron por Catalogo y site web',' '*5,len(CT_ST),'->',round((len(CT_ST)/len(df))*100,2),'%')\n",
        "print('-'*50)\n",
        "print('Persoas que compraron por Loja Fisica, Catalogo y site web',' '*5,len(LF_CT_ST),'->',round((len(LF_CT_ST)/len(df))*100,2),'%')\n",
        "print('-'*50)\n",
        "print('Persoas que NO utilizaron ningun canal',' '*10,len(NA),'->',round((len(NA)/len(df))*100,2),'%')\n"
      ],
      "execution_count": 8,
      "outputs": [
        {
          "output_type": "stream",
          "name": "stdout",
          "text": [
            "=============== Filtro de DF con 1 variable =============== \n",
            "\n",
            "Persoas que compraron solamente Loja Fisica       31 -> 1.38 %\n",
            "--------------------------------------------------\n",
            "Persoas que compraron solamente por Catalogo       4 -> 0.18 %\n",
            "--------------------------------------------------\n",
            "Persoas que compraron solamente por Site Web       5 -> 0.22 %\n",
            "--------------------------------------------------\n",
            "Persoas que compraron por Loja Fisica y Catalogo       8 -> 0.36 %\n",
            "--------------------------------------------------\n",
            "Persoas que compraron por Loja Fisica y Site Web       544 -> 24.29 %\n",
            "--------------------------------------------------\n",
            "Persoas que compraron por Catalogo y site web       0 -> 0.0 %\n",
            "--------------------------------------------------\n",
            "Persoas que compraron por Loja Fisica, Catalogo y site web       1642 -> 73.3 %\n",
            "--------------------------------------------------\n",
            "Persoas que NO utilizaron ningun canal            6 -> 0.27 %\n"
          ]
        }
      ]
    },
    {
      "cell_type": "markdown",
      "metadata": {
        "id": "arAm_uJmx3hH"
      },
      "source": [
        "Depois de fazer o filtro, se observou que tein um mayor volumen de persoas que compran por os treis canais que tein a empresa en un mismo periodo do tempo, tanbem se observa un volumen menor mas consideravel de persoas que solamente comprarom em la loja fìsica y o site web, con isso vamos vendo certas tendencias a preferir os caneles da Loja Fisica e Site web."
      ]
    },
    {
      "cell_type": "code",
      "metadata": {
        "colab": {
          "base_uri": "https://localhost:8080/"
        },
        "id": "Lvo5lC0qvm5p",
        "outputId": "6c66cc8e-7385-4304-bb4d-78cbb0398c1d"
      },
      "source": [
        "print('='*5,'Análise das pessoas que compram nos 3 canais','='*5,'\\n')\n",
        "print('Quantidade de compras feitas pelo site     ',round(LF_CT_ST['NumWebPurchases'].sum()/LF_CT_ST[['NumWebPurchases','NumCatalogPurchases','NumStorePurchases']].sum().sum()*100,2),'%')\n",
        "print('Quantidade de compras feitas pelo catalogo ',round(LF_CT_ST['NumCatalogPurchases'].sum()/LF_CT_ST[['NumWebPurchases','NumCatalogPurchases','NumStorePurchases']].sum().sum()*100,2),'%')\n",
        "print('Quantidade de compras feitas pela Store    ',round(LF_CT_ST['NumStorePurchases'].sum()/LF_CT_ST[['NumWebPurchases','NumCatalogPurchases','NumStorePurchases']].sum().sum()*100,2),'%')"
      ],
      "execution_count": 9,
      "outputs": [
        {
          "output_type": "stream",
          "name": "stdout",
          "text": [
            "===== Análise das pessoas que compram nos 3 canais ===== \n",
            "\n",
            "Quantidade de compras feitas pelo site      32.18 %\n",
            "Quantidade de compras feitas pelo catalogo  23.22 %\n",
            "Quantidade de compras feitas pela Store     44.59 %\n"
          ]
        }
      ]
    },
    {
      "cell_type": "markdown",
      "metadata": {
        "id": "Hk6JQuLl0ouZ"
      },
      "source": [
        "Com este análise, evaluamos las proporciones de compra de las personas que compraron por os 3 canais en el mismo perodo de tempo, obtuvendo como resultado el reforzo da idea de as persoas preferen comprar muito mais em canais da Loja Fisica e Site web. "
      ]
    },
    {
      "cell_type": "markdown",
      "metadata": {
        "id": "vn8X6aDfU3KZ"
      },
      "source": [
        "###Cantidade que o cliente gasta por produto"
      ]
    },
    {
      "cell_type": "code",
      "metadata": {
        "colab": {
          "base_uri": "https://localhost:8080/"
        },
        "id": "-2U948WcW4ps",
        "outputId": "b0a40a7e-778f-481d-accd-30b29484b556"
      },
      "source": [
        "lista = ['MntWines',\t'MntFruits','MntMeatProducts',\t'MntFishProducts',\t'MntSweetProducts',\t'MntGoldProds']\n",
        "np.round(df[lista].sum()/df[lista].sum().sum()*100,2).sort_values(ascending=False)"
      ],
      "execution_count": 93,
      "outputs": [
        {
          "output_type": "execute_result",
          "data": {
            "text/plain": [
              "MntWines            50.19\n",
              "MntMeatProducts     27.56\n",
              "MntGoldProds         7.26\n",
              "MntFishProducts      6.19\n",
              "MntSweetProducts     4.47\n",
              "MntFruits            4.34\n",
              "dtype: float64"
            ]
          },
          "metadata": {},
          "execution_count": 93
        }
      ]
    },
    {
      "cell_type": "markdown",
      "metadata": {
        "id": "pdQKnK_PcIWL"
      },
      "source": [
        "Temos uma grande diferencia em as vendas dos productos Wine e Meat a diferencia dos demais produtos, sendo a mitad das vendas realizadas em wines e cuasi um cuarto del total em Meat."
      ]
    },
    {
      "cell_type": "markdown",
      "metadata": {
        "id": "r96HS9usb_2G"
      },
      "source": [
        ""
      ]
    },
    {
      "cell_type": "markdown",
      "metadata": {
        "id": "zHuIc6H3AvjE"
      },
      "source": [
        "###Filtro de DF com 1 variable por tipo de produto"
      ]
    },
    {
      "cell_type": "code",
      "metadata": {
        "id": "JFFLJ-lp4r15"
      },
      "source": [
        "###LF_PO = LF[(LF['MntGoldProds']>0)]\n",
        "###LF_PR = LF[(LF['NumDealsPurchases']>0)]\n",
        "###CT_PO = CT[(CT['MntGoldProds']>0)]\n",
        "###CT_PR = CT[(CT['NumDealsPurchases']>0)]\n",
        "###ST_PO = ST[(ST['MntGoldProds']>0)]\n",
        "###ST_PR = ST[(ST['NumDealsPurchases']>0)]\n",
        "###\n",
        "###print('='*10,'Filtro de DF con 2 variables','='*10,'\\n')\n",
        "###print('Compra en Tienda Fisica el producto oro','\\n',' '*10, len(LF_PO),'->',round((len(LF_PO)/len(df))*100,2),'%')\n",
        "###print('-'*50)\n",
        "###print('Compra en Tienda Fisica el producto regular','\\n', ' '*10,len(LF_PR),'->',round((len(LF_PR)/len(df))*100,2),'%')\n",
        "###print('-'*50)\n",
        "###print('Compra en Catalogo el producto oro','\\n', ' '*10,len(CT_PO),'->',round((len(CT_PO)/len(df))*100,2),'%')\n",
        "###print('-'*50)\n",
        "###print('Compra en Catalogo el producto regular','\\n', ' '*10,len(CT_PR),'->',round((len(CT_PR)/len(df))*100,2),'%')\n",
        "###print('-'*50)\n",
        "###print('Compra en Site de Empresa fisica el producto oro','\\n', ' '*10,len(ST_PO),'->',round((len(ST_PO)/len(df))*100,2),'%')\n",
        "###print('-'*50)\n",
        "###print('Compra en Site de Empresa el producto regular','\\n', ' '*10,len(ST_PR),'->',round((len(ST_PR)/len(df))*100,2),'%')"
      ],
      "execution_count": 13,
      "outputs": []
    },
    {
      "cell_type": "markdown",
      "metadata": {
        "id": "NQsMplkGIswm"
      },
      "source": [
        "###Tirando Outliers"
      ]
    },
    {
      "cell_type": "code",
      "metadata": {
        "id": "Ji_FGG2Z4rwr"
      },
      "source": [
        "df['Year2']= 2021-df.Year_Birth"
      ],
      "execution_count": 14,
      "outputs": []
    },
    {
      "cell_type": "code",
      "metadata": {
        "id": "wYjFkXTIBZhV"
      },
      "source": [
        "#FAIXAS = 30\n",
        "#pd.cut(['Year_Birth'], bins=FAIXAS)\n",
        "#pd.qcut(x=df.Year2, q=FAIXAS).sort_values().unique()\n",
        "#fix,ax = plt.subplots(figsize=(15,7))\n",
        "#pd.qcut(x=df['Year2'], q=FAIXAS).value_counts().plot(kind='bar')"
      ],
      "execution_count": 15,
      "outputs": []
    },
    {
      "cell_type": "code",
      "metadata": {
        "colab": {
          "base_uri": "https://localhost:8080/"
        },
        "id": "fk0tngXGBZYw",
        "outputId": "bf073ab6-9c7e-4a19-e41f-030a5794c86f"
      },
      "source": [
        "#Tirando Outliers\n",
        "IQT = df['Year2'].describe()[-2]-df['Year2'].describe()[-4]\n",
        "out_inferior = df['Year2'].describe()[-4] -1.5*IQT \n",
        "out_superior = df['Year2'].describe()[-2] +1.5*IQT\n",
        "print('valor min :', out_inferior)\n",
        "print('valor max :', out_superior)"
      ],
      "execution_count": 16,
      "outputs": [
        {
          "output_type": "stream",
          "name": "stdout",
          "text": [
            "valor min : 17.0\n",
            "valor max : 89.0\n"
          ]
        }
      ]
    },
    {
      "cell_type": "code",
      "metadata": {
        "id": "nBNLHP_-BZP6"
      },
      "source": [
        "df = df[(df['Year2']<= out_superior)&(df['Year2']>= out_inferior)]"
      ],
      "execution_count": 17,
      "outputs": []
    },
    {
      "cell_type": "markdown",
      "metadata": {
        "id": "A5mFkXDKQ17P"
      },
      "source": [
        "####Change the values in Kidhome and Teenhome for only values [0,1]"
      ]
    },
    {
      "cell_type": "code",
      "metadata": {
        "id": "yyUwhHstQ4_2"
      },
      "source": [
        "df['Kidhome'].replace(2,1,inplace=True)\n",
        "df['Teenhome'].replace(2,1,inplace=True)"
      ],
      "execution_count": 18,
      "outputs": []
    },
    {
      "cell_type": "markdown",
      "metadata": {
        "id": "94NpqGX4vqq7"
      },
      "source": [
        "####Change the values in Education for the values [1,2,3,4,5]"
      ]
    },
    {
      "cell_type": "code",
      "metadata": {
        "id": "V2AzYlKBy8qH"
      },
      "source": [
        "df['Education'].replace({'Basic': 1, 'Graduation': 2,'2n Cycle':3, 'Master': 4, 'PhD': 5},inplace=True)"
      ],
      "execution_count": 19,
      "outputs": []
    },
    {
      "cell_type": "markdown",
      "metadata": {
        "id": "Ud_jWfUA1e2S"
      },
      "source": [
        "####Change the values in Marital_Status for the values [1,2,3,4,5]"
      ]
    },
    {
      "cell_type": "code",
      "metadata": {
        "id": "ytuBes1vy8ge"
      },
      "source": [
        "df['Marital_Status'].replace({'Single':1, 'Together':2,'Married':3, 'Divorced':4, 'Widow':5, 'Alone':5, 'Absurd':5, 'YOLO':5},inplace=True)"
      ],
      "execution_count": 20,
      "outputs": []
    },
    {
      "cell_type": "markdown",
      "metadata": {
        "id": "RHyVnhWXgmXp"
      },
      "source": [
        "###Create new column of range to ages [1,2,3,4,5]"
      ]
    },
    {
      "cell_type": "code",
      "metadata": {
        "id": "t5djOFBoglqG"
      },
      "source": [
        "bins = [0,36,47,59,70,81]\n",
        "labels = ['1',\n",
        "          '2',\n",
        "          '3',\n",
        "          '4',\n",
        "          '5']"
      ],
      "execution_count": 21,
      "outputs": []
    },
    {
      "cell_type": "code",
      "metadata": {
        "id": "Yz6PAncRq_VK",
        "colab": {
          "base_uri": "https://localhost:8080/"
        },
        "outputId": "766c4af9-8f36-4fb5-e4e7-1327474cbde8"
      },
      "source": [
        "df['Age_Category'] = pd.cut(df['Year2'],bins,labels =labels)\n",
        "pd.cut(df['Year2'],bins).value_counts(normalize=True).sort_values()*100"
      ],
      "execution_count": 22,
      "outputs": [
        {
          "output_type": "execute_result",
          "data": {
            "text/plain": [
              "(70, 81]     6.079571\n",
              "(0, 36]      9.879303\n",
              "(59, 70]    23.066607\n",
              "(36, 47]    27.983907\n",
              "(47, 59]    32.990612\n",
              "Name: Year2, dtype: float64"
            ]
          },
          "metadata": {},
          "execution_count": 22
        }
      ]
    },
    {
      "cell_type": "code",
      "metadata": {
        "colab": {
          "base_uri": "https://localhost:8080/"
        },
        "id": "Wb3fXAQ5qHDi",
        "outputId": "b37aa307-092c-445a-c607-15c29eb01a49"
      },
      "source": [
        "pd.cut(df['Year2'],bins).unique().sort_values()"
      ],
      "execution_count": 23,
      "outputs": [
        {
          "output_type": "execute_result",
          "data": {
            "text/plain": [
              "[(0, 36], (36, 47], (47, 59], (59, 70], (70, 81]]\n",
              "Categories (5, interval[int64]): [(0, 36] < (36, 47] < (47, 59] < (59, 70] < (70, 81]]"
            ]
          },
          "metadata": {},
          "execution_count": 23
        }
      ]
    },
    {
      "cell_type": "markdown",
      "metadata": {
        "id": "RCRjfB_L4WNU"
      },
      "source": [
        "##Creat a column: Sensibility of campaing"
      ]
    },
    {
      "cell_type": "code",
      "metadata": {
        "id": "OJydfd0EUnYt"
      },
      "source": [
        "df[\"sensibilidade_campanhas\"] = df[[\"Campanha_3\",\"Campanha_4\",\"Campanha_5\",\"Campanha_2\",\"Campanha_1\"]].sum(axis=1)/df[[\"Campanha_3\",\"Campanha_4\",\"Campanha_5\",\"Campanha_2\",\"Campanha_1\"]].count(axis=1)"
      ],
      "execution_count": 24,
      "outputs": []
    },
    {
      "cell_type": "code",
      "metadata": {
        "colab": {
          "base_uri": "https://localhost:8080/",
          "height": 415
        },
        "id": "Sq8gQU3VUnWd",
        "outputId": "57747753-aa49-4eac-f76d-b8559c5a7757"
      },
      "source": [
        "df[[\"Campanha_3\",\"Campanha_4\",\"Campanha_5\",\"Campanha_2\",\"Campanha_1\",\"sensibilidade_campanhas\"]]"
      ],
      "execution_count": 25,
      "outputs": [
        {
          "output_type": "execute_result",
          "data": {
            "text/html": [
              "<div>\n",
              "<style scoped>\n",
              "    .dataframe tbody tr th:only-of-type {\n",
              "        vertical-align: middle;\n",
              "    }\n",
              "\n",
              "    .dataframe tbody tr th {\n",
              "        vertical-align: top;\n",
              "    }\n",
              "\n",
              "    .dataframe thead th {\n",
              "        text-align: right;\n",
              "    }\n",
              "</style>\n",
              "<table border=\"1\" class=\"dataframe\">\n",
              "  <thead>\n",
              "    <tr style=\"text-align: right;\">\n",
              "      <th></th>\n",
              "      <th>Campanha_3</th>\n",
              "      <th>Campanha_4</th>\n",
              "      <th>Campanha_5</th>\n",
              "      <th>Campanha_2</th>\n",
              "      <th>Campanha_1</th>\n",
              "      <th>sensibilidade_campanhas</th>\n",
              "    </tr>\n",
              "  </thead>\n",
              "  <tbody>\n",
              "    <tr>\n",
              "      <th>0</th>\n",
              "      <td>0</td>\n",
              "      <td>0</td>\n",
              "      <td>0</td>\n",
              "      <td>0</td>\n",
              "      <td>0</td>\n",
              "      <td>0.0</td>\n",
              "    </tr>\n",
              "    <tr>\n",
              "      <th>1</th>\n",
              "      <td>0</td>\n",
              "      <td>0</td>\n",
              "      <td>0</td>\n",
              "      <td>0</td>\n",
              "      <td>0</td>\n",
              "      <td>0.0</td>\n",
              "    </tr>\n",
              "    <tr>\n",
              "      <th>2</th>\n",
              "      <td>0</td>\n",
              "      <td>0</td>\n",
              "      <td>0</td>\n",
              "      <td>0</td>\n",
              "      <td>0</td>\n",
              "      <td>0.0</td>\n",
              "    </tr>\n",
              "    <tr>\n",
              "      <th>3</th>\n",
              "      <td>0</td>\n",
              "      <td>0</td>\n",
              "      <td>0</td>\n",
              "      <td>0</td>\n",
              "      <td>0</td>\n",
              "      <td>0.0</td>\n",
              "    </tr>\n",
              "    <tr>\n",
              "      <th>4</th>\n",
              "      <td>0</td>\n",
              "      <td>0</td>\n",
              "      <td>0</td>\n",
              "      <td>0</td>\n",
              "      <td>0</td>\n",
              "      <td>0.0</td>\n",
              "    </tr>\n",
              "    <tr>\n",
              "      <th>...</th>\n",
              "      <td>...</td>\n",
              "      <td>...</td>\n",
              "      <td>...</td>\n",
              "      <td>...</td>\n",
              "      <td>...</td>\n",
              "      <td>...</td>\n",
              "    </tr>\n",
              "    <tr>\n",
              "      <th>2235</th>\n",
              "      <td>0</td>\n",
              "      <td>0</td>\n",
              "      <td>0</td>\n",
              "      <td>0</td>\n",
              "      <td>0</td>\n",
              "      <td>0.0</td>\n",
              "    </tr>\n",
              "    <tr>\n",
              "      <th>2236</th>\n",
              "      <td>0</td>\n",
              "      <td>0</td>\n",
              "      <td>0</td>\n",
              "      <td>0</td>\n",
              "      <td>1</td>\n",
              "      <td>0.2</td>\n",
              "    </tr>\n",
              "    <tr>\n",
              "      <th>2237</th>\n",
              "      <td>0</td>\n",
              "      <td>1</td>\n",
              "      <td>0</td>\n",
              "      <td>0</td>\n",
              "      <td>0</td>\n",
              "      <td>0.2</td>\n",
              "    </tr>\n",
              "    <tr>\n",
              "      <th>2238</th>\n",
              "      <td>0</td>\n",
              "      <td>0</td>\n",
              "      <td>0</td>\n",
              "      <td>0</td>\n",
              "      <td>0</td>\n",
              "      <td>0.0</td>\n",
              "    </tr>\n",
              "    <tr>\n",
              "      <th>2239</th>\n",
              "      <td>0</td>\n",
              "      <td>0</td>\n",
              "      <td>0</td>\n",
              "      <td>0</td>\n",
              "      <td>0</td>\n",
              "      <td>0.0</td>\n",
              "    </tr>\n",
              "  </tbody>\n",
              "</table>\n",
              "<p>2237 rows × 6 columns</p>\n",
              "</div>"
            ],
            "text/plain": [
              "      Campanha_3  Campanha_4  ...  Campanha_1  sensibilidade_campanhas\n",
              "0              0           0  ...           0                      0.0\n",
              "1              0           0  ...           0                      0.0\n",
              "2              0           0  ...           0                      0.0\n",
              "3              0           0  ...           0                      0.0\n",
              "4              0           0  ...           0                      0.0\n",
              "...          ...         ...  ...         ...                      ...\n",
              "2235           0           0  ...           0                      0.0\n",
              "2236           0           0  ...           1                      0.2\n",
              "2237           0           1  ...           0                      0.2\n",
              "2238           0           0  ...           0                      0.0\n",
              "2239           0           0  ...           0                      0.0\n",
              "\n",
              "[2237 rows x 6 columns]"
            ]
          },
          "metadata": {},
          "execution_count": 25
        }
      ]
    },
    {
      "cell_type": "markdown",
      "metadata": {
        "id": "Tz5kl8de5e1f"
      },
      "source": [
        "##Analise corrrelation the column Sensibility of campaing with target"
      ]
    },
    {
      "cell_type": "code",
      "metadata": {
        "colab": {
          "base_uri": "https://localhost:8080/",
          "height": 110
        },
        "id": "JzbV15FlUnSz",
        "outputId": "744f5986-4048-45d4-f392-092f6b5d09c9"
      },
      "source": [
        "df[[\"Response\",\"sensibilidade_campanhas\"]].corr(method=\"spearman\")"
      ],
      "execution_count": 26,
      "outputs": [
        {
          "output_type": "execute_result",
          "data": {
            "text/html": [
              "<div>\n",
              "<style scoped>\n",
              "    .dataframe tbody tr th:only-of-type {\n",
              "        vertical-align: middle;\n",
              "    }\n",
              "\n",
              "    .dataframe tbody tr th {\n",
              "        vertical-align: top;\n",
              "    }\n",
              "\n",
              "    .dataframe thead th {\n",
              "        text-align: right;\n",
              "    }\n",
              "</style>\n",
              "<table border=\"1\" class=\"dataframe\">\n",
              "  <thead>\n",
              "    <tr style=\"text-align: right;\">\n",
              "      <th></th>\n",
              "      <th>Response</th>\n",
              "      <th>sensibilidade_campanhas</th>\n",
              "    </tr>\n",
              "  </thead>\n",
              "  <tbody>\n",
              "    <tr>\n",
              "      <th>Response</th>\n",
              "      <td>1.000000</td>\n",
              "      <td>0.388324</td>\n",
              "    </tr>\n",
              "    <tr>\n",
              "      <th>sensibilidade_campanhas</th>\n",
              "      <td>0.388324</td>\n",
              "      <td>1.000000</td>\n",
              "    </tr>\n",
              "  </tbody>\n",
              "</table>\n",
              "</div>"
            ],
            "text/plain": [
              "                         Response  sensibilidade_campanhas\n",
              "Response                 1.000000                 0.388324\n",
              "sensibilidade_campanhas  0.388324                 1.000000"
            ]
          },
          "metadata": {},
          "execution_count": 26
        }
      ]
    },
    {
      "cell_type": "code",
      "metadata": {
        "colab": {
          "base_uri": "https://localhost:8080/",
          "height": 110
        },
        "id": "gyrwUFtv4KEs",
        "outputId": "ffbc7084-42d6-45f1-e466-0b57c03f6a22"
      },
      "source": [
        "df[[\"Response\",\"sensibilidade_campanhas\"]].corr()"
      ],
      "execution_count": 27,
      "outputs": [
        {
          "output_type": "execute_result",
          "data": {
            "text/html": [
              "<div>\n",
              "<style scoped>\n",
              "    .dataframe tbody tr th:only-of-type {\n",
              "        vertical-align: middle;\n",
              "    }\n",
              "\n",
              "    .dataframe tbody tr th {\n",
              "        vertical-align: top;\n",
              "    }\n",
              "\n",
              "    .dataframe thead th {\n",
              "        text-align: right;\n",
              "    }\n",
              "</style>\n",
              "<table border=\"1\" class=\"dataframe\">\n",
              "  <thead>\n",
              "    <tr style=\"text-align: right;\">\n",
              "      <th></th>\n",
              "      <th>Response</th>\n",
              "      <th>sensibilidade_campanhas</th>\n",
              "    </tr>\n",
              "  </thead>\n",
              "  <tbody>\n",
              "    <tr>\n",
              "      <th>Response</th>\n",
              "      <td>1.000000</td>\n",
              "      <td>0.426253</td>\n",
              "    </tr>\n",
              "    <tr>\n",
              "      <th>sensibilidade_campanhas</th>\n",
              "      <td>0.426253</td>\n",
              "      <td>1.000000</td>\n",
              "    </tr>\n",
              "  </tbody>\n",
              "</table>\n",
              "</div>"
            ],
            "text/plain": [
              "                         Response  sensibilidade_campanhas\n",
              "Response                 1.000000                 0.426253\n",
              "sensibilidade_campanhas  0.426253                 1.000000"
            ]
          },
          "metadata": {},
          "execution_count": 27
        }
      ]
    },
    {
      "cell_type": "markdown",
      "metadata": {
        "id": "DtsholiGKkms"
      },
      "source": [
        "##Create column sensibility of purchases in the site web"
      ]
    },
    {
      "cell_type": "code",
      "metadata": {
        "colab": {
          "base_uri": "https://localhost:8080/",
          "height": 415
        },
        "id": "geW1eUiCLGGa",
        "outputId": "8e7e322c-0f9d-4cd8-a1da-6109e4d16400"
      },
      "source": [
        "df['sensibility_site web'] = round(df['NumWebPurchases']/df['NumWebVisitsMonth'],2)\n",
        "df[['NumWebPurchases','NumWebVisitsMonth','sensibility_site web']]"
      ],
      "execution_count": 28,
      "outputs": [
        {
          "output_type": "execute_result",
          "data": {
            "text/html": [
              "<div>\n",
              "<style scoped>\n",
              "    .dataframe tbody tr th:only-of-type {\n",
              "        vertical-align: middle;\n",
              "    }\n",
              "\n",
              "    .dataframe tbody tr th {\n",
              "        vertical-align: top;\n",
              "    }\n",
              "\n",
              "    .dataframe thead th {\n",
              "        text-align: right;\n",
              "    }\n",
              "</style>\n",
              "<table border=\"1\" class=\"dataframe\">\n",
              "  <thead>\n",
              "    <tr style=\"text-align: right;\">\n",
              "      <th></th>\n",
              "      <th>NumWebPurchases</th>\n",
              "      <th>NumWebVisitsMonth</th>\n",
              "      <th>sensibility_site web</th>\n",
              "    </tr>\n",
              "  </thead>\n",
              "  <tbody>\n",
              "    <tr>\n",
              "      <th>0</th>\n",
              "      <td>8</td>\n",
              "      <td>7</td>\n",
              "      <td>1.14</td>\n",
              "    </tr>\n",
              "    <tr>\n",
              "      <th>1</th>\n",
              "      <td>1</td>\n",
              "      <td>5</td>\n",
              "      <td>0.20</td>\n",
              "    </tr>\n",
              "    <tr>\n",
              "      <th>2</th>\n",
              "      <td>8</td>\n",
              "      <td>4</td>\n",
              "      <td>2.00</td>\n",
              "    </tr>\n",
              "    <tr>\n",
              "      <th>3</th>\n",
              "      <td>2</td>\n",
              "      <td>6</td>\n",
              "      <td>0.33</td>\n",
              "    </tr>\n",
              "    <tr>\n",
              "      <th>4</th>\n",
              "      <td>5</td>\n",
              "      <td>5</td>\n",
              "      <td>1.00</td>\n",
              "    </tr>\n",
              "    <tr>\n",
              "      <th>...</th>\n",
              "      <td>...</td>\n",
              "      <td>...</td>\n",
              "      <td>...</td>\n",
              "    </tr>\n",
              "    <tr>\n",
              "      <th>2235</th>\n",
              "      <td>9</td>\n",
              "      <td>5</td>\n",
              "      <td>1.80</td>\n",
              "    </tr>\n",
              "    <tr>\n",
              "      <th>2236</th>\n",
              "      <td>8</td>\n",
              "      <td>7</td>\n",
              "      <td>1.14</td>\n",
              "    </tr>\n",
              "    <tr>\n",
              "      <th>2237</th>\n",
              "      <td>2</td>\n",
              "      <td>6</td>\n",
              "      <td>0.33</td>\n",
              "    </tr>\n",
              "    <tr>\n",
              "      <th>2238</th>\n",
              "      <td>6</td>\n",
              "      <td>3</td>\n",
              "      <td>2.00</td>\n",
              "    </tr>\n",
              "    <tr>\n",
              "      <th>2239</th>\n",
              "      <td>3</td>\n",
              "      <td>7</td>\n",
              "      <td>0.43</td>\n",
              "    </tr>\n",
              "  </tbody>\n",
              "</table>\n",
              "<p>2237 rows × 3 columns</p>\n",
              "</div>"
            ],
            "text/plain": [
              "      NumWebPurchases  NumWebVisitsMonth  sensibility_site web\n",
              "0                   8                  7                  1.14\n",
              "1                   1                  5                  0.20\n",
              "2                   8                  4                  2.00\n",
              "3                   2                  6                  0.33\n",
              "4                   5                  5                  1.00\n",
              "...               ...                ...                   ...\n",
              "2235                9                  5                  1.80\n",
              "2236                8                  7                  1.14\n",
              "2237                2                  6                  0.33\n",
              "2238                6                  3                  2.00\n",
              "2239                3                  7                  0.43\n",
              "\n",
              "[2237 rows x 3 columns]"
            ]
          },
          "metadata": {},
          "execution_count": 28
        }
      ]
    },
    {
      "cell_type": "code",
      "metadata": {
        "colab": {
          "base_uri": "https://localhost:8080/",
          "height": 110
        },
        "id": "N8x2Lhz9RFOw",
        "outputId": "84258e93-dda8-43a2-9286-85e1b96b1230"
      },
      "source": [
        "df[['sensibility_site web','Response' ]].corr()"
      ],
      "execution_count": 29,
      "outputs": [
        {
          "output_type": "execute_result",
          "data": {
            "text/html": [
              "<div>\n",
              "<style scoped>\n",
              "    .dataframe tbody tr th:only-of-type {\n",
              "        vertical-align: middle;\n",
              "    }\n",
              "\n",
              "    .dataframe tbody tr th {\n",
              "        vertical-align: top;\n",
              "    }\n",
              "\n",
              "    .dataframe thead th {\n",
              "        text-align: right;\n",
              "    }\n",
              "</style>\n",
              "<table border=\"1\" class=\"dataframe\">\n",
              "  <thead>\n",
              "    <tr style=\"text-align: right;\">\n",
              "      <th></th>\n",
              "      <th>sensibility_site web</th>\n",
              "      <th>Response</th>\n",
              "    </tr>\n",
              "  </thead>\n",
              "  <tbody>\n",
              "    <tr>\n",
              "      <th>sensibility_site web</th>\n",
              "      <td>1.000000</td>\n",
              "      <td>0.094571</td>\n",
              "    </tr>\n",
              "    <tr>\n",
              "      <th>Response</th>\n",
              "      <td>0.094571</td>\n",
              "      <td>1.000000</td>\n",
              "    </tr>\n",
              "  </tbody>\n",
              "</table>\n",
              "</div>"
            ],
            "text/plain": [
              "                      sensibility_site web  Response\n",
              "sensibility_site web              1.000000  0.094571\n",
              "Response                          0.094571  1.000000"
            ]
          },
          "metadata": {},
          "execution_count": 29
        }
      ]
    },
    {
      "cell_type": "code",
      "metadata": {
        "colab": {
          "base_uri": "https://localhost:8080/",
          "height": 415
        },
        "id": "9iG2w8etRbva",
        "outputId": "baec8660-6c64-43d6-88cc-7a0ca21d65a2"
      },
      "source": [
        "df['sensibility_site web_2'] = round(df[['NumWebPurchases','NumCatalogPurchases','NumStorePurchases']].sum(axis=1)/df['NumWebVisitsMonth'],2)\n",
        "df[['NumWebPurchases','NumWebVisitsMonth','sensibility_site web_2']]"
      ],
      "execution_count": 30,
      "outputs": [
        {
          "output_type": "execute_result",
          "data": {
            "text/html": [
              "<div>\n",
              "<style scoped>\n",
              "    .dataframe tbody tr th:only-of-type {\n",
              "        vertical-align: middle;\n",
              "    }\n",
              "\n",
              "    .dataframe tbody tr th {\n",
              "        vertical-align: top;\n",
              "    }\n",
              "\n",
              "    .dataframe thead th {\n",
              "        text-align: right;\n",
              "    }\n",
              "</style>\n",
              "<table border=\"1\" class=\"dataframe\">\n",
              "  <thead>\n",
              "    <tr style=\"text-align: right;\">\n",
              "      <th></th>\n",
              "      <th>NumWebPurchases</th>\n",
              "      <th>NumWebVisitsMonth</th>\n",
              "      <th>sensibility_site web_2</th>\n",
              "    </tr>\n",
              "  </thead>\n",
              "  <tbody>\n",
              "    <tr>\n",
              "      <th>0</th>\n",
              "      <td>8</td>\n",
              "      <td>7</td>\n",
              "      <td>3.14</td>\n",
              "    </tr>\n",
              "    <tr>\n",
              "      <th>1</th>\n",
              "      <td>1</td>\n",
              "      <td>5</td>\n",
              "      <td>0.80</td>\n",
              "    </tr>\n",
              "    <tr>\n",
              "      <th>2</th>\n",
              "      <td>8</td>\n",
              "      <td>4</td>\n",
              "      <td>5.00</td>\n",
              "    </tr>\n",
              "    <tr>\n",
              "      <th>3</th>\n",
              "      <td>2</td>\n",
              "      <td>6</td>\n",
              "      <td>1.00</td>\n",
              "    </tr>\n",
              "    <tr>\n",
              "      <th>4</th>\n",
              "      <td>5</td>\n",
              "      <td>5</td>\n",
              "      <td>2.80</td>\n",
              "    </tr>\n",
              "    <tr>\n",
              "      <th>...</th>\n",
              "      <td>...</td>\n",
              "      <td>...</td>\n",
              "      <td>...</td>\n",
              "    </tr>\n",
              "    <tr>\n",
              "      <th>2235</th>\n",
              "      <td>9</td>\n",
              "      <td>5</td>\n",
              "      <td>3.20</td>\n",
              "    </tr>\n",
              "    <tr>\n",
              "      <th>2236</th>\n",
              "      <td>8</td>\n",
              "      <td>7</td>\n",
              "      <td>2.14</td>\n",
              "    </tr>\n",
              "    <tr>\n",
              "      <th>2237</th>\n",
              "      <td>2</td>\n",
              "      <td>6</td>\n",
              "      <td>3.00</td>\n",
              "    </tr>\n",
              "    <tr>\n",
              "      <th>2238</th>\n",
              "      <td>6</td>\n",
              "      <td>3</td>\n",
              "      <td>7.00</td>\n",
              "    </tr>\n",
              "    <tr>\n",
              "      <th>2239</th>\n",
              "      <td>3</td>\n",
              "      <td>7</td>\n",
              "      <td>1.14</td>\n",
              "    </tr>\n",
              "  </tbody>\n",
              "</table>\n",
              "<p>2237 rows × 3 columns</p>\n",
              "</div>"
            ],
            "text/plain": [
              "      NumWebPurchases  NumWebVisitsMonth  sensibility_site web_2\n",
              "0                   8                  7                    3.14\n",
              "1                   1                  5                    0.80\n",
              "2                   8                  4                    5.00\n",
              "3                   2                  6                    1.00\n",
              "4                   5                  5                    2.80\n",
              "...               ...                ...                     ...\n",
              "2235                9                  5                    3.20\n",
              "2236                8                  7                    2.14\n",
              "2237                2                  6                    3.00\n",
              "2238                6                  3                    7.00\n",
              "2239                3                  7                    1.14\n",
              "\n",
              "[2237 rows x 3 columns]"
            ]
          },
          "metadata": {},
          "execution_count": 30
        }
      ]
    },
    {
      "cell_type": "code",
      "metadata": {
        "colab": {
          "base_uri": "https://localhost:8080/",
          "height": 110
        },
        "id": "603cCON5SI7A",
        "outputId": "d8bf0e4f-6106-4c39-e63a-7d575e3257d2"
      },
      "source": [
        "df[['sensibility_site web_2','Response' ]].corr()"
      ],
      "execution_count": 31,
      "outputs": [
        {
          "output_type": "execute_result",
          "data": {
            "text/html": [
              "<div>\n",
              "<style scoped>\n",
              "    .dataframe tbody tr th:only-of-type {\n",
              "        vertical-align: middle;\n",
              "    }\n",
              "\n",
              "    .dataframe tbody tr th {\n",
              "        vertical-align: top;\n",
              "    }\n",
              "\n",
              "    .dataframe thead th {\n",
              "        text-align: right;\n",
              "    }\n",
              "</style>\n",
              "<table border=\"1\" class=\"dataframe\">\n",
              "  <thead>\n",
              "    <tr style=\"text-align: right;\">\n",
              "      <th></th>\n",
              "      <th>sensibility_site web_2</th>\n",
              "      <th>Response</th>\n",
              "    </tr>\n",
              "  </thead>\n",
              "  <tbody>\n",
              "    <tr>\n",
              "      <th>sensibility_site web_2</th>\n",
              "      <td>1.000000</td>\n",
              "      <td>0.097608</td>\n",
              "    </tr>\n",
              "    <tr>\n",
              "      <th>Response</th>\n",
              "      <td>0.097608</td>\n",
              "      <td>1.000000</td>\n",
              "    </tr>\n",
              "  </tbody>\n",
              "</table>\n",
              "</div>"
            ],
            "text/plain": [
              "                        sensibility_site web_2  Response\n",
              "sensibility_site web_2                1.000000  0.097608\n",
              "Response                              0.097608  1.000000"
            ]
          },
          "metadata": {},
          "execution_count": 31
        }
      ]
    },
    {
      "cell_type": "code",
      "metadata": {
        "id": "CPeSlpJqEZuX"
      },
      "source": [
        "df['sensibility_site web'].fillna(0,inplace=True)\n",
        "df['sensibility_site web_2'].fillna(0,inplace=True)\n"
      ],
      "execution_count": 32,
      "outputs": []
    },
    {
      "cell_type": "code",
      "metadata": {
        "colab": {
          "base_uri": "https://localhost:8080/"
        },
        "id": "ACRzHh1qGeBa",
        "outputId": "04f2ce8b-55ba-4b36-efa5-890cabdd39b8"
      },
      "source": [
        "df.info()"
      ],
      "execution_count": 33,
      "outputs": [
        {
          "output_type": "stream",
          "name": "stdout",
          "text": [
            "<class 'pandas.core.frame.DataFrame'>\n",
            "Int64Index: 2237 entries, 0 to 2239\n",
            "Data columns (total 34 columns):\n",
            " #   Column                   Non-Null Count  Dtype   \n",
            "---  ------                   --------------  -----   \n",
            " 0   ID                       2237 non-null   int64   \n",
            " 1   Year_Birth               2237 non-null   int64   \n",
            " 2   Education                2237 non-null   int64   \n",
            " 3   Marital_Status           2237 non-null   int64   \n",
            " 4   Income                   2237 non-null   float64 \n",
            " 5   Kidhome                  2237 non-null   int64   \n",
            " 6   Teenhome                 2237 non-null   int64   \n",
            " 7   Dt_Customer              2237 non-null   object  \n",
            " 8   Recency                  2237 non-null   int64   \n",
            " 9   MntWines                 2237 non-null   int64   \n",
            " 10  MntFruits                2237 non-null   int64   \n",
            " 11  MntMeatProducts          2237 non-null   int64   \n",
            " 12  MntFishProducts          2237 non-null   int64   \n",
            " 13  MntSweetProducts         2237 non-null   int64   \n",
            " 14  MntGoldProds             2237 non-null   int64   \n",
            " 15  NumDealsPurchases        2237 non-null   int64   \n",
            " 16  NumWebPurchases          2237 non-null   int64   \n",
            " 17  NumCatalogPurchases      2237 non-null   int64   \n",
            " 18  NumStorePurchases        2237 non-null   int64   \n",
            " 19  NumWebVisitsMonth        2237 non-null   int64   \n",
            " 20  Campanha_3               2237 non-null   int64   \n",
            " 21  Campanha_4               2237 non-null   int64   \n",
            " 22  Campanha_5               2237 non-null   int64   \n",
            " 23  Campanha_1               2237 non-null   int64   \n",
            " 24  Campanha_2               2237 non-null   int64   \n",
            " 25  Complain                 2237 non-null   int64   \n",
            " 26  Z_CostContact            2237 non-null   int64   \n",
            " 27  Z_Revenue                2237 non-null   int64   \n",
            " 28  Response                 2237 non-null   int64   \n",
            " 29  Year2                    2237 non-null   int64   \n",
            " 30  Age_Category             2237 non-null   category\n",
            " 31  sensibilidade_campanhas  2237 non-null   float64 \n",
            " 32  sensibility_site web     2237 non-null   float64 \n",
            " 33  sensibility_site web_2   2237 non-null   float64 \n",
            "dtypes: category(1), float64(4), int64(28), object(1)\n",
            "memory usage: 596.6+ KB\n"
          ]
        }
      ]
    },
    {
      "cell_type": "markdown",
      "metadata": {
        "id": "kJajB93TeYrU"
      },
      "source": [
        "## Balance the variables for exclusion "
      ]
    },
    {
      "cell_type": "code",
      "metadata": {
        "colab": {
          "base_uri": "https://localhost:8080/"
        },
        "id": "lpWsSM2xpXDy",
        "outputId": "d54b51b4-480a-4b94-e5cc-5f0275534232"
      },
      "source": [
        "df['Response'].value_counts(normalize=True)*100"
      ],
      "execution_count": 34,
      "outputs": [
        {
          "output_type": "execute_result",
          "data": {
            "text/plain": [
              "0    85.069289\n",
              "1    14.930711\n",
              "Name: Response, dtype: float64"
            ]
          },
          "metadata": {},
          "execution_count": 34
        }
      ]
    },
    {
      "cell_type": "code",
      "metadata": {
        "colab": {
          "base_uri": "https://localhost:8080/"
        },
        "id": "tmkcYQduh_W0",
        "outputId": "3b68afd3-1cff-48e4-9e2c-cadfd9fe0d6f"
      },
      "source": [
        "df['Marital_Status'].value_counts(normalize=True)*100"
      ],
      "execution_count": 35,
      "outputs": [
        {
          "output_type": "execute_result",
          "data": {
            "text/plain": [
              "3    38.623156\n",
              "2    25.882879\n",
              "1    21.412606\n",
              "4    10.326330\n",
              "5     3.755029\n",
              "Name: Marital_Status, dtype: float64"
            ]
          },
          "metadata": {},
          "execution_count": 35
        }
      ]
    },
    {
      "cell_type": "code",
      "metadata": {
        "colab": {
          "base_uri": "https://localhost:8080/"
        },
        "id": "AksO2lYyhwZo",
        "outputId": "4afcdc97-c625-4a5e-dc92-b4766a1f1299"
      },
      "source": [
        "df['Complain'].value_counts(normalize=True)*100"
      ],
      "execution_count": 36,
      "outputs": [
        {
          "output_type": "execute_result",
          "data": {
            "text/plain": [
              "0    99.105945\n",
              "1     0.894055\n",
              "Name: Complain, dtype: float64"
            ]
          },
          "metadata": {},
          "execution_count": 36
        }
      ]
    },
    {
      "cell_type": "code",
      "metadata": {
        "colab": {
          "base_uri": "https://localhost:8080/"
        },
        "id": "rITZWrtTW2kM",
        "outputId": "83a3fbfd-7ae3-4f1c-970c-00d841b70258"
      },
      "source": [
        "df['NumDealsPurchases'].value_counts(normalize=True)*100"
      ],
      "execution_count": 37,
      "outputs": [
        {
          "output_type": "execute_result",
          "data": {
            "text/plain": [
              "1     43.227537\n",
              "2     22.217255\n",
              "3     13.276710\n",
              "4      8.448815\n",
              "5      4.202056\n",
              "6      2.726866\n",
              "0      2.056325\n",
              "7      1.788109\n",
              "8      0.625838\n",
              "9      0.357622\n",
              "15     0.312919\n",
              "11     0.223514\n",
              "10     0.223514\n",
              "12     0.178811\n",
              "13     0.134108\n",
              "Name: NumDealsPurchases, dtype: float64"
            ]
          },
          "metadata": {},
          "execution_count": 37
        }
      ]
    },
    {
      "cell_type": "code",
      "metadata": {
        "colab": {
          "base_uri": "https://localhost:8080/"
        },
        "id": "Rr1iXY5ud9Z2",
        "outputId": "106dab8c-7d3c-4f29-a61b-9627a821f142"
      },
      "source": [
        "df['Kidhome'].value_counts(normalize=True)*100"
      ],
      "execution_count": 38,
      "outputs": [
        {
          "output_type": "execute_result",
          "data": {
            "text/plain": [
              "0    57.71122\n",
              "1    42.28878\n",
              "Name: Kidhome, dtype: float64"
            ]
          },
          "metadata": {},
          "execution_count": 38
        }
      ]
    },
    {
      "cell_type": "code",
      "metadata": {
        "colab": {
          "base_uri": "https://localhost:8080/"
        },
        "id": "QTlASVSDeI2H",
        "outputId": "3ff423fa-84bc-49a6-f153-7b96fd54acf8"
      },
      "source": [
        "df['Teenhome'].value_counts(normalize=True)*100"
      ],
      "execution_count": 39,
      "outputs": [
        {
          "output_type": "execute_result",
          "data": {
            "text/plain": [
              "0    51.676352\n",
              "1    48.323648\n",
              "Name: Teenhome, dtype: float64"
            ]
          },
          "metadata": {},
          "execution_count": 39
        }
      ]
    },
    {
      "cell_type": "code",
      "metadata": {
        "colab": {
          "base_uri": "https://localhost:8080/"
        },
        "id": "IQH3nOKyssQw",
        "outputId": "79ff734a-4671-4a70-efbb-3f791c3dd4f4"
      },
      "source": [
        "df['Recency'].value_counts(normalize=True)*100"
      ],
      "execution_count": 40,
      "outputs": [
        {
          "output_type": "execute_result",
          "data": {
            "text/plain": [
              "56    1.654001\n",
              "54    1.430487\n",
              "30    1.430487\n",
              "46    1.385785\n",
              "49    1.341082\n",
              "        ...   \n",
              "58    0.670541\n",
              "59    0.625838\n",
              "22    0.581135\n",
              "7     0.536433\n",
              "44    0.491730\n",
              "Name: Recency, Length: 100, dtype: float64"
            ]
          },
          "metadata": {},
          "execution_count": 40
        }
      ]
    },
    {
      "cell_type": "code",
      "metadata": {
        "colab": {
          "base_uri": "https://localhost:8080/"
        },
        "id": "TJpYQb-Ls3MX",
        "outputId": "8d09164e-c5ca-4c91-cb98-c13e48a158a4"
      },
      "source": [
        "df['Recency'].describe()"
      ],
      "execution_count": 41,
      "outputs": [
        {
          "output_type": "execute_result",
          "data": {
            "text/plain": [
              "count    2237.000000\n",
              "mean       49.104604\n",
              "std        28.956073\n",
              "min         0.000000\n",
              "25%        24.000000\n",
              "50%        49.000000\n",
              "75%        74.000000\n",
              "max        99.000000\n",
              "Name: Recency, dtype: float64"
            ]
          },
          "metadata": {},
          "execution_count": 41
        }
      ]
    },
    {
      "cell_type": "markdown",
      "metadata": {
        "id": "Mnq1JShJ1gBN"
      },
      "source": [
        "##Create the df without innecesary columns"
      ]
    },
    {
      "cell_type": "code",
      "metadata": {
        "id": "e2oLniWP1vw1"
      },
      "source": [
        "df_drop = df.drop(columns = ['ID', 'Year_Birth','Dt_Customer','Complain',\t'Z_CostContact',\t'Z_Revenue','sensibility_site web_2','sensibility_site web','Year2','sensibilidade_campanhas'])"
      ],
      "execution_count": 42,
      "outputs": []
    },
    {
      "cell_type": "code",
      "metadata": {
        "id": "tsqJETXq48CW",
        "colab": {
          "base_uri": "https://localhost:8080/",
          "height": 161
        },
        "outputId": "92b53b23-98bf-4dcf-e7ba-04e0c458c88e"
      },
      "source": [
        "df_drop.sample(3)"
      ],
      "execution_count": 43,
      "outputs": [
        {
          "output_type": "execute_result",
          "data": {
            "text/html": [
              "<div>\n",
              "<style scoped>\n",
              "    .dataframe tbody tr th:only-of-type {\n",
              "        vertical-align: middle;\n",
              "    }\n",
              "\n",
              "    .dataframe tbody tr th {\n",
              "        vertical-align: top;\n",
              "    }\n",
              "\n",
              "    .dataframe thead th {\n",
              "        text-align: right;\n",
              "    }\n",
              "</style>\n",
              "<table border=\"1\" class=\"dataframe\">\n",
              "  <thead>\n",
              "    <tr style=\"text-align: right;\">\n",
              "      <th></th>\n",
              "      <th>Education</th>\n",
              "      <th>Marital_Status</th>\n",
              "      <th>Income</th>\n",
              "      <th>Kidhome</th>\n",
              "      <th>Teenhome</th>\n",
              "      <th>Recency</th>\n",
              "      <th>MntWines</th>\n",
              "      <th>MntFruits</th>\n",
              "      <th>MntMeatProducts</th>\n",
              "      <th>MntFishProducts</th>\n",
              "      <th>MntSweetProducts</th>\n",
              "      <th>MntGoldProds</th>\n",
              "      <th>NumDealsPurchases</th>\n",
              "      <th>NumWebPurchases</th>\n",
              "      <th>NumCatalogPurchases</th>\n",
              "      <th>NumStorePurchases</th>\n",
              "      <th>NumWebVisitsMonth</th>\n",
              "      <th>Campanha_3</th>\n",
              "      <th>Campanha_4</th>\n",
              "      <th>Campanha_5</th>\n",
              "      <th>Campanha_1</th>\n",
              "      <th>Campanha_2</th>\n",
              "      <th>Response</th>\n",
              "      <th>Age_Category</th>\n",
              "    </tr>\n",
              "  </thead>\n",
              "  <tbody>\n",
              "    <tr>\n",
              "      <th>1990</th>\n",
              "      <td>5</td>\n",
              "      <td>4</td>\n",
              "      <td>72968.0</td>\n",
              "      <td>0</td>\n",
              "      <td>0</td>\n",
              "      <td>8</td>\n",
              "      <td>1092</td>\n",
              "      <td>37</td>\n",
              "      <td>592</td>\n",
              "      <td>145</td>\n",
              "      <td>37</td>\n",
              "      <td>55</td>\n",
              "      <td>1</td>\n",
              "      <td>5</td>\n",
              "      <td>5</td>\n",
              "      <td>8</td>\n",
              "      <td>3</td>\n",
              "      <td>0</td>\n",
              "      <td>0</td>\n",
              "      <td>0</td>\n",
              "      <td>1</td>\n",
              "      <td>0</td>\n",
              "      <td>1</td>\n",
              "      <td>3</td>\n",
              "    </tr>\n",
              "    <tr>\n",
              "      <th>2109</th>\n",
              "      <td>2</td>\n",
              "      <td>1</td>\n",
              "      <td>82332.0</td>\n",
              "      <td>0</td>\n",
              "      <td>0</td>\n",
              "      <td>89</td>\n",
              "      <td>830</td>\n",
              "      <td>59</td>\n",
              "      <td>968</td>\n",
              "      <td>51</td>\n",
              "      <td>79</td>\n",
              "      <td>19</td>\n",
              "      <td>1</td>\n",
              "      <td>5</td>\n",
              "      <td>3</td>\n",
              "      <td>12</td>\n",
              "      <td>2</td>\n",
              "      <td>0</td>\n",
              "      <td>0</td>\n",
              "      <td>1</td>\n",
              "      <td>0</td>\n",
              "      <td>0</td>\n",
              "      <td>1</td>\n",
              "      <td>4</td>\n",
              "    </tr>\n",
              "    <tr>\n",
              "      <th>899</th>\n",
              "      <td>2</td>\n",
              "      <td>4</td>\n",
              "      <td>21846.0</td>\n",
              "      <td>1</td>\n",
              "      <td>0</td>\n",
              "      <td>38</td>\n",
              "      <td>7</td>\n",
              "      <td>17</td>\n",
              "      <td>18</td>\n",
              "      <td>6</td>\n",
              "      <td>10</td>\n",
              "      <td>26</td>\n",
              "      <td>4</td>\n",
              "      <td>4</td>\n",
              "      <td>0</td>\n",
              "      <td>3</td>\n",
              "      <td>8</td>\n",
              "      <td>0</td>\n",
              "      <td>0</td>\n",
              "      <td>0</td>\n",
              "      <td>0</td>\n",
              "      <td>0</td>\n",
              "      <td>0</td>\n",
              "      <td>1</td>\n",
              "    </tr>\n",
              "  </tbody>\n",
              "</table>\n",
              "</div>"
            ],
            "text/plain": [
              "      Education  Marital_Status   Income  ...  Campanha_2  Response  Age_Category\n",
              "1990          5               4  72968.0  ...           0         1             3\n",
              "2109          2               1  82332.0  ...           0         1             4\n",
              "899           2               4  21846.0  ...           0         0             1\n",
              "\n",
              "[3 rows x 24 columns]"
            ]
          },
          "metadata": {},
          "execution_count": 43
        }
      ]
    },
    {
      "cell_type": "code",
      "metadata": {
        "colab": {
          "base_uri": "https://localhost:8080/"
        },
        "id": "_XWX3mR8A0lb",
        "outputId": "2b744369-565f-4e28-b2db-0830653e7da2"
      },
      "source": [
        "df_drop.shape"
      ],
      "execution_count": 44,
      "outputs": [
        {
          "output_type": "execute_result",
          "data": {
            "text/plain": [
              "(2237, 24)"
            ]
          },
          "metadata": {},
          "execution_count": 44
        }
      ]
    },
    {
      "cell_type": "code",
      "metadata": {
        "colab": {
          "base_uri": "https://localhost:8080/",
          "height": 1000
        },
        "id": "5Y5Dpvn97KgR",
        "outputId": "28c96ce4-4c23-4374-ebdc-fb0b015d6a18"
      },
      "source": [
        "###f = plt.figure(figsize=(18, 15))\n",
        "###plt.matshow(df_drop.corr(), fignum=f.number)\n",
        "###plt.xticks(range(df_drop.select_dtypes(['number']).shape[1]), df_drop.select_dtypes(['number']).columns, fontsize=14, rotation=45)\n",
        "###plt.yticks(range(df_drop.select_dtypes(['number']).shape[1]), df_drop.select_dtypes(['number']).columns, fontsize=14)\n",
        "###cb = plt.colorbar()\n",
        "###cb.ax.tick_params(labelsize=14)\n",
        "###plt.title('\\n Correlation Matrix  \\n \\n \\n \\n \\n \\n', fontsize=16);\n",
        "\n",
        "\n",
        "corrMatrix = df_drop.corr()\n",
        "plt.figure(figsize=(25, 20))\n",
        "sn.heatmap(corrMatrix, annot=True)\n",
        "plt.show()"
      ],
      "execution_count": 45,
      "outputs": [
        {
          "output_type": "display_data",
          "data": {
            "image/png": "[encoded data removed]",
            "text/plain": [
              "<Figure size 1800x1440 with 2 Axes>"
            ]
          },
          "metadata": {
            "needs_background": "light"
          }
        }
      ]
    },
    {
      "cell_type": "markdown",
      "metadata": {
        "id": "JiVIWlCn9t6j"
      },
      "source": [
        "##Data split"
      ]
    },
    {
      "cell_type": "code",
      "metadata": {
        "id": "YPK9N-sH479w"
      },
      "source": [
        "X = df_drop.drop(columns=['Response'])\n",
        "y = df_drop['Response']\n",
        "\n",
        "from sklearn.model_selection import train_test_split\n",
        "X_train, X_test, y_train, y_test = train_test_split(X, y, test_size=0.3, random_state=42)\n",
        "\n",
        "#X = df_drop.iloc[[:, 0:10],[:, 1:10]]\n",
        "#y = df_drop.iloc[:, 0]\n",
        "\n",
        "#from sklearn.model_selection import train_test_split\n",
        "#X_train, X_test, y_train, y_test = train_test_split(X, y, test_size=0.3, random_state=42)"
      ],
      "execution_count": 46,
      "outputs": []
    },
    {
      "cell_type": "markdown",
      "metadata": {
        "id": "WpY0XmXDB599"
      },
      "source": [
        "##Algoritmo's trainer"
      ]
    },
    {
      "cell_type": "markdown",
      "metadata": {
        "id": "MiTnQpgACRGK"
      },
      "source": [
        "###Model 1 Logic Regression"
      ]
    },
    {
      "cell_type": "code",
      "metadata": {
        "id": "3EvvWAx1gblS",
        "colab": {
          "base_uri": "https://localhost:8080/"
        },
        "outputId": "3fb0281c-f1b4-40bb-83bc-e244022fef5b"
      },
      "source": [
        "from sklearn.linear_model import LogisticRegression\n",
        "\n",
        "reg1 = LogisticRegression()\n",
        "reg1.fit(X_train, y_train)"
      ],
      "execution_count": 47,
      "outputs": [
        {
          "output_type": "execute_result",
          "data": {
            "text/plain": [
              "LogisticRegression(C=1.0, class_weight=None, dual=False, fit_intercept=True,\n",
              "                   intercept_scaling=1, l1_ratio=None, max_iter=100,\n",
              "                   multi_class='auto', n_jobs=None, penalty='l2',\n",
              "                   random_state=None, solver='lbfgs', tol=0.0001, verbose=0,\n",
              "                   warm_start=False)"
            ]
          },
          "metadata": {},
          "execution_count": 47
        }
      ]
    },
    {
      "cell_type": "markdown",
      "metadata": {
        "id": "VOZ5lt_jI4Cu"
      },
      "source": [
        "Model 2 Random Forest\n"
      ]
    },
    {
      "cell_type": "code",
      "metadata": {
        "id": "uz_s05C4GCyO",
        "colab": {
          "base_uri": "https://localhost:8080/"
        },
        "outputId": "9c22688f-05ba-496c-e163-4c839902c280"
      },
      "source": [
        "from sklearn.ensemble import RandomForestClassifier\n",
        "\n",
        "rf = RandomForestClassifier(n_estimators = 1000, random_state = 42)\n",
        "rf.fit(X_train, y_train)\n"
      ],
      "execution_count": 48,
      "outputs": [
        {
          "output_type": "execute_result",
          "data": {
            "text/plain": [
              "RandomForestClassifier(bootstrap=True, ccp_alpha=0.0, class_weight=None,\n",
              "                       criterion='gini', max_depth=None, max_features='auto',\n",
              "                       max_leaf_nodes=None, max_samples=None,\n",
              "                       min_impurity_decrease=0.0, min_impurity_split=None,\n",
              "                       min_samples_leaf=1, min_samples_split=2,\n",
              "                       min_weight_fraction_leaf=0.0, n_estimators=1000,\n",
              "                       n_jobs=None, oob_score=False, random_state=42, verbose=0,\n",
              "                       warm_start=False)"
            ]
          },
          "metadata": {},
          "execution_count": 48
        }
      ]
    },
    {
      "cell_type": "markdown",
      "metadata": {
        "id": "MRjP5GAkJSnd"
      },
      "source": [
        "#Predictions"
      ]
    },
    {
      "cell_type": "markdown",
      "metadata": {
        "id": "5LVqRfBLJYti"
      },
      "source": [
        "####Model 1"
      ]
    },
    {
      "cell_type": "code",
      "metadata": {
        "id": "hgmedOeQIfGf",
        "colab": {
          "base_uri": "https://localhost:8080/"
        },
        "outputId": "45ba28ff-cb82-4fe2-d30a-c74df37f89a6"
      },
      "source": [
        "reg1.predict(X_test)"
      ],
      "execution_count": 49,
      "outputs": [
        {
          "output_type": "execute_result",
          "data": {
            "text/plain": [
              "array([0, 0, 0, 0, 0, 0, 0, 0, 0, 0, 0, 0, 0, 0, 0, 0, 0, 0, 0, 0, 0, 0,\n",
              "       0, 0, 0, 0, 0, 0, 1, 0, 0, 0, 0, 0, 0, 0, 0, 0, 1, 0, 0, 0, 0, 0,\n",
              "       0, 0, 0, 0, 0, 0, 0, 0, 0, 0, 0, 0, 0, 0, 0, 0, 0, 0, 0, 0, 0, 0,\n",
              "       0, 1, 0, 0, 1, 0, 0, 0, 0, 0, 0, 0, 0, 0, 0, 0, 0, 0, 0, 0, 1, 0,\n",
              "       0, 0, 0, 1, 0, 0, 0, 0, 0, 0, 0, 0, 0, 0, 0, 0, 0, 0, 1, 0, 0, 0,\n",
              "       0, 0, 0, 0, 0, 0, 0, 0, 0, 0, 0, 0, 0, 0, 0, 0, 0, 0, 0, 0, 0, 0,\n",
              "       0, 0, 0, 0, 0, 1, 0, 0, 0, 0, 0, 0, 0, 0, 0, 0, 0, 0, 0, 0, 0, 0,\n",
              "       0, 0, 0, 0, 0, 1, 0, 0, 0, 0, 0, 0, 0, 0, 0, 0, 0, 0, 0, 0, 0, 0,\n",
              "       0, 0, 0, 0, 0, 0, 0, 0, 0, 0, 0, 0, 0, 0, 0, 0, 0, 0, 0, 0, 1, 0,\n",
              "       0, 0, 0, 0, 0, 0, 0, 0, 0, 0, 0, 0, 0, 0, 0, 0, 0, 0, 1, 0, 0, 0,\n",
              "       1, 0, 1, 0, 0, 0, 0, 1, 0, 0, 0, 0, 0, 0, 0, 0, 0, 0, 0, 0, 0, 1,\n",
              "       0, 0, 0, 0, 0, 0, 0, 0, 0, 0, 0, 0, 0, 0, 0, 0, 0, 0, 0, 0, 1, 0,\n",
              "       0, 1, 1, 0, 0, 0, 0, 0, 0, 0, 0, 0, 0, 0, 0, 0, 0, 0, 0, 0, 0, 0,\n",
              "       0, 0, 0, 0, 1, 0, 0, 0, 0, 0, 0, 0, 0, 1, 0, 0, 0, 0, 0, 0, 0, 0,\n",
              "       0, 0, 0, 0, 0, 1, 0, 0, 0, 0, 0, 0, 0, 0, 0, 0, 1, 0, 0, 0, 0, 0,\n",
              "       0, 0, 0, 0, 0, 0, 0, 0, 0, 0, 0, 0, 0, 0, 0, 0, 0, 0, 0, 0, 0, 0,\n",
              "       0, 0, 0, 0, 0, 0, 0, 0, 0, 0, 0, 0, 0, 1, 0, 0, 0, 0, 0, 0, 0, 0,\n",
              "       0, 0, 0, 0, 0, 1, 0, 1, 0, 0, 0, 0, 0, 0, 0, 0, 0, 0, 0, 0, 0, 0,\n",
              "       0, 0, 0, 0, 0, 0, 0, 0, 1, 0, 0, 0, 0, 0, 0, 0, 0, 0, 0, 0, 0, 0,\n",
              "       0, 1, 0, 0, 0, 0, 0, 0, 0, 0, 0, 0, 0, 0, 0, 0, 0, 0, 0, 0, 0, 0,\n",
              "       0, 0, 0, 0, 0, 0, 1, 0, 0, 0, 0, 0, 0, 0, 0, 0, 0, 0, 0, 0, 0, 0,\n",
              "       0, 0, 0, 0, 0, 0, 0, 0, 0, 0, 0, 0, 0, 0, 0, 0, 0, 0, 0, 0, 0, 0,\n",
              "       0, 0, 0, 0, 0, 0, 0, 0, 0, 0, 1, 0, 0, 0, 0, 0, 0, 0, 0, 0, 0, 0,\n",
              "       0, 0, 0, 0, 0, 0, 0, 0, 0, 0, 0, 0, 0, 0, 0, 0, 0, 0, 0, 0, 0, 0,\n",
              "       0, 0, 0, 0, 0, 0, 0, 0, 0, 0, 0, 0, 0, 0, 0, 0, 0, 0, 0, 0, 0, 0,\n",
              "       0, 0, 0, 0, 0, 0, 0, 0, 0, 0, 0, 0, 0, 0, 0, 0, 0, 0, 0, 0, 0, 0,\n",
              "       0, 0, 0, 0, 0, 0, 0, 0, 0, 0, 0, 0, 0, 0, 0, 0, 0, 0, 0, 0, 0, 0,\n",
              "       0, 0, 0, 0, 0, 0, 0, 0, 0, 0, 0, 0, 0, 0, 0, 0, 0, 0, 0, 0, 1, 0,\n",
              "       0, 0, 0, 0, 0, 0, 0, 1, 0, 0, 0, 0, 0, 0, 0, 0, 0, 0, 0, 0, 0, 0,\n",
              "       0, 0, 0, 0, 0, 0, 0, 1, 0, 0, 0, 0, 1, 0, 0, 0, 0, 0, 0, 0, 0, 0,\n",
              "       0, 0, 0, 0, 0, 0, 0, 0, 0, 0, 0, 0])"
            ]
          },
          "metadata": {},
          "execution_count": 49
        }
      ]
    },
    {
      "cell_type": "code",
      "metadata": {
        "id": "97L4rvAhMXas"
      },
      "source": [
        "Prob_reg = reg1.predict_proba(X_test)[:,1]*1000\n"
      ],
      "execution_count": 50,
      "outputs": []
    },
    {
      "cell_type": "markdown",
      "metadata": {
        "id": "KSZGp-HnKIWg"
      },
      "source": [
        "####Model 2"
      ]
    },
    {
      "cell_type": "code",
      "metadata": {
        "id": "N63K-JbfIfgc",
        "colab": {
          "base_uri": "https://localhost:8080/"
        },
        "outputId": "4b56925f-8624-47c5-efd4-d172a96842e7"
      },
      "source": [
        "rf.predict(X_test)"
      ],
      "execution_count": 51,
      "outputs": [
        {
          "output_type": "execute_result",
          "data": {
            "text/plain": [
              "array([0, 0, 0, 1, 0, 0, 0, 0, 0, 0, 1, 0, 0, 0, 0, 0, 0, 0, 0, 0, 0, 0,\n",
              "       0, 0, 0, 0, 0, 0, 0, 0, 0, 0, 0, 0, 0, 0, 0, 0, 1, 0, 0, 0, 0, 0,\n",
              "       0, 0, 0, 0, 0, 0, 0, 0, 0, 0, 0, 0, 0, 0, 0, 0, 0, 0, 0, 0, 0, 0,\n",
              "       0, 0, 0, 0, 1, 0, 0, 0, 0, 0, 0, 0, 0, 0, 0, 0, 0, 0, 0, 0, 0, 0,\n",
              "       0, 0, 1, 1, 0, 0, 0, 0, 0, 0, 0, 0, 0, 0, 1, 0, 0, 0, 0, 0, 0, 0,\n",
              "       0, 0, 0, 1, 0, 0, 0, 0, 0, 0, 0, 0, 0, 0, 1, 0, 0, 0, 0, 0, 0, 0,\n",
              "       0, 0, 0, 0, 0, 0, 0, 0, 0, 0, 0, 0, 0, 0, 0, 0, 0, 0, 0, 1, 1, 0,\n",
              "       0, 0, 0, 0, 0, 0, 0, 0, 0, 0, 0, 0, 0, 0, 0, 0, 1, 0, 0, 0, 0, 0,\n",
              "       0, 0, 0, 1, 0, 0, 0, 0, 0, 0, 0, 0, 0, 0, 0, 0, 0, 0, 0, 0, 0, 0,\n",
              "       0, 0, 0, 0, 0, 0, 0, 0, 0, 0, 0, 0, 0, 0, 0, 0, 0, 0, 1, 0, 0, 0,\n",
              "       0, 0, 0, 0, 0, 0, 0, 0, 0, 0, 0, 1, 0, 0, 0, 0, 0, 1, 0, 0, 0, 1,\n",
              "       0, 0, 0, 0, 0, 0, 0, 0, 0, 0, 0, 0, 0, 0, 0, 0, 0, 0, 0, 1, 0, 0,\n",
              "       0, 1, 0, 1, 0, 0, 0, 0, 0, 0, 0, 0, 0, 0, 0, 0, 0, 0, 0, 0, 0, 0,\n",
              "       0, 0, 0, 0, 1, 0, 1, 0, 0, 0, 0, 1, 0, 0, 0, 0, 0, 0, 0, 0, 0, 0,\n",
              "       0, 0, 0, 0, 0, 1, 0, 0, 0, 1, 0, 0, 0, 0, 0, 0, 1, 0, 0, 0, 0, 0,\n",
              "       0, 0, 0, 0, 0, 0, 0, 0, 0, 0, 0, 0, 0, 1, 0, 0, 0, 0, 0, 0, 0, 0,\n",
              "       0, 0, 0, 0, 0, 0, 0, 0, 0, 0, 0, 0, 0, 0, 0, 0, 0, 0, 0, 1, 0, 0,\n",
              "       0, 0, 1, 0, 0, 0, 0, 1, 0, 0, 0, 0, 0, 0, 0, 0, 0, 0, 0, 0, 0, 0,\n",
              "       0, 0, 0, 0, 0, 0, 0, 0, 0, 1, 0, 0, 0, 0, 0, 0, 0, 0, 0, 0, 0, 0,\n",
              "       0, 0, 0, 0, 0, 0, 0, 0, 0, 0, 0, 0, 0, 0, 0, 0, 0, 0, 0, 0, 0, 0,\n",
              "       0, 0, 0, 1, 0, 0, 1, 0, 0, 0, 0, 0, 1, 0, 0, 0, 0, 0, 0, 0, 0, 0,\n",
              "       0, 0, 0, 0, 0, 0, 0, 0, 1, 0, 0, 0, 0, 0, 0, 0, 0, 0, 0, 0, 0, 0,\n",
              "       0, 0, 0, 0, 0, 0, 0, 0, 0, 0, 1, 0, 0, 0, 0, 0, 0, 0, 0, 0, 0, 0,\n",
              "       0, 0, 0, 0, 0, 1, 1, 0, 0, 0, 0, 0, 0, 0, 0, 0, 0, 0, 1, 0, 0, 0,\n",
              "       0, 0, 0, 0, 0, 0, 0, 1, 0, 1, 0, 0, 0, 0, 0, 0, 0, 0, 0, 0, 0, 0,\n",
              "       0, 0, 0, 0, 0, 0, 0, 0, 0, 1, 0, 0, 0, 1, 0, 0, 0, 0, 0, 0, 0, 0,\n",
              "       0, 0, 0, 0, 0, 0, 0, 1, 0, 0, 0, 0, 0, 0, 0, 0, 0, 0, 0, 0, 0, 0,\n",
              "       0, 0, 0, 0, 0, 0, 0, 0, 0, 0, 0, 0, 1, 0, 0, 0, 0, 0, 0, 0, 1, 0,\n",
              "       0, 0, 0, 0, 0, 0, 0, 0, 1, 0, 0, 1, 0, 0, 0, 0, 1, 0, 0, 0, 0, 0,\n",
              "       0, 0, 0, 0, 0, 0, 0, 1, 0, 1, 0, 0, 0, 0, 0, 0, 0, 0, 0, 0, 0, 0,\n",
              "       0, 0, 0, 0, 0, 0, 0, 0, 0, 0, 0, 1])"
            ]
          },
          "metadata": {},
          "execution_count": 51
        }
      ]
    },
    {
      "cell_type": "code",
      "metadata": {
        "id": "aSMPPN28IfcU"
      },
      "source": [
        "Prob_rf = rf.predict_proba(X_test)[:,1]"
      ],
      "execution_count": 52,
      "outputs": []
    },
    {
      "cell_type": "markdown",
      "metadata": {
        "id": "xY5GjVMxKee1"
      },
      "source": [
        "#Model's Validation"
      ]
    },
    {
      "cell_type": "markdown",
      "metadata": {
        "id": "Lsxy7fueKuhq"
      },
      "source": [
        "#### Acurancia model 1\n",
        "\n"
      ]
    },
    {
      "cell_type": "code",
      "metadata": {
        "colab": {
          "base_uri": "https://localhost:8080/"
        },
        "id": "HXtZy97zKavc",
        "outputId": "5a723b5d-6539-4f88-beef-517839285f52"
      },
      "source": [
        "from sklearn.metrics import accuracy_score\n",
        "\n",
        "print(accuracy_score(y_test, reg1.predict(X_test)))"
      ],
      "execution_count": 53,
      "outputs": [
        {
          "output_type": "stream",
          "name": "stdout",
          "text": [
            "0.8407738095238095\n"
          ]
        }
      ]
    },
    {
      "cell_type": "markdown",
      "metadata": {
        "id": "AXC7XLgai5vU"
      },
      "source": [
        "#### Acurancia model 2"
      ]
    },
    {
      "cell_type": "code",
      "metadata": {
        "colab": {
          "base_uri": "https://localhost:8080/"
        },
        "id": "981ToXM6Katx",
        "outputId": "25f818a1-9a76-4b52-f0f3-ca6c803d507e"
      },
      "source": [
        "print(accuracy_score(y_test,rf.predict(X_test)))"
      ],
      "execution_count": 54,
      "outputs": [
        {
          "output_type": "stream",
          "name": "stdout",
          "text": [
            "0.8720238095238095\n"
          ]
        }
      ]
    },
    {
      "cell_type": "markdown",
      "metadata": {
        "id": "M17lo2trjNnM"
      },
      "source": [
        "####F1 model 1"
      ]
    },
    {
      "cell_type": "code",
      "metadata": {
        "colab": {
          "base_uri": "https://localhost:8080/"
        },
        "id": "52JsWbxxjNQr",
        "outputId": "25a7f036-f5f0-4a3e-9bc9-120fc4ed77d8"
      },
      "source": [
        "from sklearn.metrics import classification_report\n",
        "\n",
        "target_names = ['No Acept', 'Acept']\n",
        "print(classification_report(y_test, reg1.predict(X_test), target_names=target_names))"
      ],
      "execution_count": 55,
      "outputs": [
        {
          "output_type": "stream",
          "name": "stdout",
          "text": [
            "              precision    recall  f1-score   support\n",
            "\n",
            "    No Acept       0.85      0.98      0.91       558\n",
            "       Acept       0.61      0.18      0.27       114\n",
            "\n",
            "    accuracy                           0.84       672\n",
            "   macro avg       0.73      0.58      0.59       672\n",
            "weighted avg       0.81      0.84      0.80       672\n",
            "\n"
          ]
        }
      ]
    },
    {
      "cell_type": "markdown",
      "metadata": {
        "id": "o0UX8Ajwnoit"
      },
      "source": [
        "####F1 model 2"
      ]
    },
    {
      "cell_type": "code",
      "metadata": {
        "colab": {
          "base_uri": "https://localhost:8080/"
        },
        "id": "_DQPcbilKarX",
        "outputId": "a8d3898d-9e2d-4059-935b-4608bcbd428e"
      },
      "source": [
        "print(classification_report(y_test, rf.predict(X_test), target_names=target_names))"
      ],
      "execution_count": 56,
      "outputs": [
        {
          "output_type": "stream",
          "name": "stdout",
          "text": [
            "              precision    recall  f1-score   support\n",
            "\n",
            "    No Acept       0.88      0.98      0.93       558\n",
            "       Acept       0.77      0.35      0.48       114\n",
            "\n",
            "    accuracy                           0.87       672\n",
            "   macro avg       0.82      0.66      0.70       672\n",
            "weighted avg       0.86      0.87      0.85       672\n",
            "\n"
          ]
        }
      ]
    },
    {
      "cell_type": "markdown",
      "metadata": {
        "id": "OGvNekMKDc3T"
      },
      "source": [
        "##Curva ROC"
      ]
    },
    {
      "cell_type": "markdown",
      "metadata": {
        "id": "BkleIbAoO2kw"
      },
      "source": [
        "####Model 1"
      ]
    },
    {
      "cell_type": "code",
      "metadata": {
        "id": "69jeclO5DVA9"
      },
      "source": [
        "from sklearn.metrics import roc_curve\n",
        "fpr_mod1, tpr_mod1,thresholds_mod1 = roc_curve(y_test,Prob_reg)\n"
      ],
      "execution_count": 57,
      "outputs": []
    },
    {
      "cell_type": "code",
      "metadata": {
        "colab": {
          "base_uri": "https://localhost:8080/",
          "height": 265
        },
        "id": "Nq-axE4HKapQ",
        "outputId": "68b9c81d-0564-4704-88b3-7d096cb3f74a"
      },
      "source": [
        "\n",
        "plt.scatter(fpr_mod1, tpr_mod1)\n",
        "plt.show()"
      ],
      "execution_count": 58,
      "outputs": [
        {
          "output_type": "display_data",
          "data": {
            "image/png": "[encoded data removed]",
            "text/plain": [
              "<Figure size 432x288 with 1 Axes>"
            ]
          },
          "metadata": {
            "needs_background": "light"
          }
        }
      ]
    },
    {
      "cell_type": "markdown",
      "metadata": {
        "id": "jdnacT85SJtP"
      },
      "source": [
        "####Model 2"
      ]
    },
    {
      "cell_type": "code",
      "metadata": {
        "id": "Dm0rBhBzKajP"
      },
      "source": [
        "fpr_mod2, tpr_mod2,thresholds_mod2 = roc_curve(y_test,Prob_rf)\n"
      ],
      "execution_count": 59,
      "outputs": []
    },
    {
      "cell_type": "code",
      "metadata": {
        "colab": {
          "base_uri": "https://localhost:8080/",
          "height": 265
        },
        "id": "EbhERp7FKagp",
        "outputId": "eb8d4a5d-4dad-4e90-ead2-0f8d18bcbe39"
      },
      "source": [
        "plt.scatter(fpr_mod2, tpr_mod2)\n",
        "plt.show()"
      ],
      "execution_count": 60,
      "outputs": [
        {
          "output_type": "display_data",
          "data": {
            "image/png": "[encoded data removed]",
            "text/plain": [
              "<Figure size 432x288 with 1 Axes>"
            ]
          },
          "metadata": {
            "needs_background": "light"
          }
        }
      ]
    },
    {
      "cell_type": "markdown",
      "metadata": {
        "id": "Qc8240T7UeBq"
      },
      "source": [
        "###Curva ROC comparation  of both models"
      ]
    },
    {
      "cell_type": "code",
      "metadata": {
        "colab": {
          "base_uri": "https://localhost:8080/",
          "height": 510
        },
        "id": "hGMwoSjrU0it",
        "outputId": "ef778b14-eca7-4da9-a2b2-05545e304590"
      },
      "source": [
        "plt.figure(figsize=(10,8))\n",
        "plt.plot(fpr_mod1, tpr_mod1, linestyle='-', color=\"blue\", linewidth=2,label = 'Logistic Regretion')\n",
        "plt.plot(fpr_mod2, tpr_mod2, linestyle='-', color=\"red\", linewidth=2,label = 'Randon Forest')\n",
        "##plt.axhline(y=p, color='r', linestyle='--', label = 'Valor teorico')\n",
        "plt.ylabel(\"True Positive Rate\", fontsize=20)\n",
        "plt.xlabel(\"False Positive Rate\", fontsize=20)\n",
        "plt.xlim([0.0, 1.0])\n",
        "plt.ylim([0.0, 1.0])\n",
        "plt.legend()\n",
        "plt.show(True) "
      ],
      "execution_count": 61,
      "outputs": [
        {
          "output_type": "display_data",
          "data": {
            "image/png": "[encoded data removed]",
            "text/plain": [
              "<Figure size 720x576 with 1 Axes>"
            ]
          },
          "metadata": {
            "needs_background": "light"
          }
        }
      ]
    },
    {
      "cell_type": "markdown",
      "metadata": {
        "id": "s_kuJDBgVTVC"
      },
      "source": [
        "Com este grafico consegimos escolher o melhor modelo para ser utilizado, el modelo preditivo escolhido esta feito como Random Forest otendo una acuracia del modelo de 87%"
      ]
    },
    {
      "cell_type": "markdown",
      "metadata": {
        "id": "r7ber2CFU0IZ"
      },
      "source": [
        "##Determination AUC"
      ]
    },
    {
      "cell_type": "markdown",
      "metadata": {
        "id": "OmILwAW7VLQA"
      },
      "source": [
        "####Model 1"
      ]
    },
    {
      "cell_type": "code",
      "metadata": {
        "colab": {
          "base_uri": "https://localhost:8080/"
        },
        "id": "bDuPlIOiVONo",
        "outputId": "77dde841-bba1-4a93-c3f7-cfdeee35430f"
      },
      "source": [
        "from sklearn.metrics import roc_auc_score\n",
        "roc_auc_score(y_test,Prob_reg)"
      ],
      "execution_count": 62,
      "outputs": [
        {
          "output_type": "execute_result",
          "data": {
            "text/plain": [
              "0.7605326039112117"
            ]
          },
          "metadata": {},
          "execution_count": 62
        }
      ]
    },
    {
      "cell_type": "markdown",
      "metadata": {
        "id": "PdqQB6jqVsxU"
      },
      "source": [
        "####Model 2"
      ]
    },
    {
      "cell_type": "code",
      "metadata": {
        "colab": {
          "base_uri": "https://localhost:8080/"
        },
        "id": "0CCLylD8Kaag",
        "outputId": "70d0811a-0b0a-4119-c53b-30c9dc24cdf8"
      },
      "source": [
        "roc_auc_score(y_test,Prob_rf)"
      ],
      "execution_count": 63,
      "outputs": [
        {
          "output_type": "execute_result",
          "data": {
            "text/plain": [
              "0.8815396466075582"
            ]
          },
          "metadata": {},
          "execution_count": 63
        }
      ]
    },
    {
      "cell_type": "markdown",
      "metadata": {
        "id": "jt33V4Rd8g7w"
      },
      "source": [
        "##Normalization the features for use KNeighbors "
      ]
    },
    {
      "cell_type": "code",
      "metadata": {
        "id": "rG9MbrZ19ET_"
      },
      "source": [
        "from sklearn.preprocessing import MinMaxScaler\n",
        "normalizador = MinMaxScaler(feature_range = (0,1))\n",
        "X_normal = normalizador.fit_transform(X)"
      ],
      "execution_count": 64,
      "outputs": []
    },
    {
      "cell_type": "markdown",
      "metadata": {
        "id": "7_lKXTyZAQZA"
      },
      "source": [
        "####Split for Kneighbors"
      ]
    },
    {
      "cell_type": "code",
      "metadata": {
        "id": "mKj-s8R7_nvi"
      },
      "source": [
        "X_Kntrain, X_Kntest, y_Kntrain,  y_Kntest = train_test_split(X_normal,y,test_size = 0.3,random_state = 42)"
      ],
      "execution_count": 65,
      "outputs": []
    },
    {
      "cell_type": "markdown",
      "metadata": {
        "id": "9Gw4eWycBd-A"
      },
      "source": [
        "####Model 3 Kneighbors"
      ]
    },
    {
      "cell_type": "code",
      "metadata": {
        "colab": {
          "base_uri": "https://localhost:8080/"
        },
        "id": "XrI5Quj79XND",
        "outputId": "8bf2f6c5-fcd1-4ee6-a49a-8fa90a58717b"
      },
      "source": [
        "from sklearn.neighbors import KNeighborsClassifier\n",
        "KNN = KNeighborsClassifier(n_neighbors = 3)\n",
        "KNN.fit(X_Kntrain, y_Kntrain)"
      ],
      "execution_count": 66,
      "outputs": [
        {
          "output_type": "execute_result",
          "data": {
            "text/plain": [
              "KNeighborsClassifier(algorithm='auto', leaf_size=30, metric='minkowski',\n",
              "                     metric_params=None, n_jobs=None, n_neighbors=3, p=2,\n",
              "                     weights='uniform')"
            ]
          },
          "metadata": {},
          "execution_count": 66
        }
      ]
    },
    {
      "cell_type": "code",
      "metadata": {
        "colab": {
          "base_uri": "https://localhost:8080/"
        },
        "id": "4g5FIF6WdJG5",
        "outputId": "3625fdd7-d0fb-45ce-fa3b-5f7bffc72f86"
      },
      "source": [
        "KNN.predict(X_Kntest)"
      ],
      "execution_count": 67,
      "outputs": [
        {
          "output_type": "execute_result",
          "data": {
            "text/plain": [
              "array([0, 0, 0, 1, 0, 0, 0, 0, 0, 0, 1, 0, 0, 0, 0, 0, 0, 0, 0, 0, 0, 0,\n",
              "       0, 0, 0, 0, 0, 0, 1, 0, 0, 1, 0, 0, 0, 0, 0, 0, 1, 0, 1, 0, 0, 0,\n",
              "       0, 0, 0, 0, 0, 0, 0, 0, 0, 0, 0, 0, 0, 0, 0, 0, 0, 0, 0, 0, 0, 0,\n",
              "       0, 0, 0, 0, 1, 0, 0, 0, 0, 0, 0, 0, 1, 0, 0, 0, 0, 0, 0, 0, 0, 0,\n",
              "       0, 0, 1, 1, 0, 0, 0, 1, 0, 0, 0, 0, 0, 0, 1, 0, 0, 0, 0, 0, 0, 0,\n",
              "       0, 0, 0, 0, 0, 0, 0, 0, 0, 0, 0, 1, 0, 0, 0, 0, 0, 0, 0, 0, 0, 0,\n",
              "       0, 0, 0, 0, 0, 0, 0, 0, 0, 0, 1, 0, 0, 0, 0, 0, 0, 0, 0, 1, 1, 0,\n",
              "       0, 0, 0, 0, 0, 0, 0, 0, 0, 0, 0, 0, 0, 0, 0, 0, 0, 0, 0, 0, 1, 0,\n",
              "       0, 0, 0, 0, 0, 0, 0, 0, 0, 0, 0, 1, 0, 0, 0, 0, 0, 0, 0, 0, 0, 0,\n",
              "       0, 0, 0, 0, 0, 0, 0, 0, 0, 0, 0, 0, 0, 0, 0, 0, 0, 0, 0, 0, 1, 0,\n",
              "       0, 0, 0, 0, 0, 0, 0, 0, 0, 0, 0, 1, 0, 0, 0, 0, 0, 0, 0, 0, 0, 1,\n",
              "       1, 0, 0, 0, 0, 0, 0, 0, 0, 0, 0, 0, 0, 0, 0, 0, 0, 0, 0, 1, 0, 0,\n",
              "       0, 1, 0, 1, 0, 0, 0, 0, 0, 0, 0, 0, 0, 0, 0, 0, 0, 0, 0, 0, 0, 0,\n",
              "       0, 0, 0, 0, 1, 0, 1, 0, 0, 0, 0, 0, 0, 0, 0, 0, 0, 0, 0, 0, 0, 0,\n",
              "       1, 0, 0, 0, 0, 1, 0, 0, 0, 1, 0, 0, 0, 0, 0, 0, 1, 0, 0, 0, 0, 0,\n",
              "       0, 1, 0, 0, 0, 0, 1, 0, 0, 1, 0, 0, 0, 1, 0, 0, 0, 0, 0, 0, 0, 0,\n",
              "       0, 0, 0, 0, 0, 0, 0, 0, 0, 0, 0, 0, 0, 0, 1, 0, 0, 0, 0, 1, 0, 0,\n",
              "       0, 0, 1, 0, 0, 0, 0, 1, 0, 0, 0, 0, 0, 0, 0, 0, 0, 0, 0, 0, 0, 0,\n",
              "       0, 0, 0, 0, 0, 0, 0, 0, 0, 1, 0, 0, 0, 1, 0, 0, 1, 0, 0, 0, 0, 0,\n",
              "       0, 0, 0, 0, 0, 0, 0, 0, 0, 0, 0, 1, 0, 0, 0, 0, 0, 0, 0, 0, 0, 0,\n",
              "       0, 0, 0, 1, 0, 0, 1, 0, 1, 0, 0, 0, 0, 0, 0, 1, 0, 0, 0, 0, 1, 0,\n",
              "       0, 1, 0, 0, 0, 0, 0, 0, 0, 1, 0, 0, 0, 0, 0, 0, 0, 0, 0, 0, 0, 0,\n",
              "       0, 0, 0, 0, 0, 0, 0, 0, 0, 1, 1, 0, 0, 0, 1, 0, 0, 0, 0, 0, 0, 0,\n",
              "       0, 0, 0, 0, 0, 0, 0, 0, 0, 0, 0, 0, 0, 0, 0, 0, 0, 0, 0, 0, 0, 1,\n",
              "       0, 0, 0, 0, 0, 0, 0, 1, 0, 0, 0, 0, 0, 0, 0, 0, 0, 0, 0, 0, 0, 0,\n",
              "       0, 0, 0, 0, 0, 0, 0, 0, 0, 1, 0, 0, 0, 0, 0, 0, 0, 0, 0, 0, 0, 0,\n",
              "       0, 0, 0, 0, 0, 0, 0, 0, 0, 0, 0, 0, 0, 0, 0, 0, 0, 0, 0, 0, 0, 0,\n",
              "       0, 0, 1, 0, 0, 0, 0, 0, 0, 0, 0, 0, 1, 0, 1, 0, 0, 0, 0, 0, 1, 0,\n",
              "       0, 1, 0, 0, 0, 0, 1, 0, 0, 0, 0, 0, 0, 0, 0, 0, 0, 0, 0, 0, 0, 0,\n",
              "       0, 0, 0, 0, 0, 1, 0, 1, 0, 1, 0, 0, 1, 0, 0, 0, 0, 0, 0, 0, 0, 0,\n",
              "       0, 0, 0, 0, 0, 0, 0, 0, 0, 0, 0, 1])"
            ]
          },
          "metadata": {},
          "execution_count": 67
        }
      ]
    },
    {
      "cell_type": "code",
      "metadata": {
        "id": "HfXeUbA8dwzT"
      },
      "source": [
        "Prob_KNN = KNN.predict_proba(X_Kntest)[:,1]*1000\n",
        "##rf.predict_proba(X_test)[:,1]"
      ],
      "execution_count": 68,
      "outputs": []
    },
    {
      "cell_type": "code",
      "metadata": {
        "colab": {
          "base_uri": "https://localhost:8080/"
        },
        "id": "dPoBJh4DgcQk",
        "outputId": "93e04cf7-5885-4a38-dc2b-5721161d474d"
      },
      "source": [
        "Prob_KNN"
      ],
      "execution_count": 69,
      "outputs": [
        {
          "output_type": "execute_result",
          "data": {
            "text/plain": [
              "array([ 333.33333333,    0.        ,  333.33333333, 1000.        ,\n",
              "          0.        ,    0.        ,  333.33333333,    0.        ,\n",
              "          0.        ,    0.        , 1000.        ,    0.        ,\n",
              "        333.33333333,  333.33333333,    0.        ,    0.        ,\n",
              "          0.        ,    0.        ,  333.33333333,    0.        ,\n",
              "          0.        ,    0.        ,  333.33333333,  333.33333333,\n",
              "          0.        ,    0.        ,    0.        ,    0.        ,\n",
              "        666.66666667,    0.        ,  333.33333333, 1000.        ,\n",
              "          0.        ,  333.33333333,    0.        ,    0.        ,\n",
              "          0.        ,    0.        , 1000.        ,  333.33333333,\n",
              "        666.66666667,    0.        ,    0.        ,    0.        ,\n",
              "          0.        ,  333.33333333,    0.        ,    0.        ,\n",
              "          0.        ,  333.33333333,    0.        ,    0.        ,\n",
              "        333.33333333,    0.        ,    0.        ,    0.        ,\n",
              "          0.        ,    0.        ,    0.        ,  333.33333333,\n",
              "          0.        ,    0.        ,    0.        ,    0.        ,\n",
              "          0.        ,  333.33333333,    0.        ,    0.        ,\n",
              "          0.        ,    0.        , 1000.        ,    0.        ,\n",
              "          0.        ,    0.        ,    0.        ,    0.        ,\n",
              "          0.        ,  333.33333333, 1000.        ,    0.        ,\n",
              "        333.33333333,  333.33333333,    0.        ,    0.        ,\n",
              "          0.        ,    0.        ,    0.        ,  333.33333333,\n",
              "          0.        ,    0.        ,  666.66666667,  666.66666667,\n",
              "        333.33333333,    0.        ,    0.        , 1000.        ,\n",
              "        333.33333333,  333.33333333,    0.        ,  333.33333333,\n",
              "          0.        ,    0.        ,  666.66666667,  333.33333333,\n",
              "          0.        ,    0.        ,    0.        ,    0.        ,\n",
              "        333.33333333,  333.33333333,    0.        ,    0.        ,\n",
              "          0.        ,  333.33333333,    0.        ,    0.        ,\n",
              "        333.33333333,    0.        ,    0.        ,  333.33333333,\n",
              "        333.33333333,  666.66666667,    0.        ,    0.        ,\n",
              "        333.33333333,  333.33333333,  333.33333333,    0.        ,\n",
              "          0.        ,  333.33333333,    0.        ,    0.        ,\n",
              "          0.        ,    0.        ,    0.        ,    0.        ,\n",
              "          0.        ,    0.        ,    0.        ,    0.        ,\n",
              "          0.        ,  333.33333333,  666.66666667,    0.        ,\n",
              "          0.        ,    0.        ,    0.        ,    0.        ,\n",
              "          0.        ,    0.        ,    0.        , 1000.        ,\n",
              "        666.66666667,    0.        ,    0.        ,    0.        ,\n",
              "          0.        ,  333.33333333,    0.        ,  333.33333333,\n",
              "        333.33333333,    0.        ,    0.        ,    0.        ,\n",
              "        333.33333333,    0.        ,    0.        ,    0.        ,\n",
              "          0.        ,    0.        ,  333.33333333,    0.        ,\n",
              "          0.        ,    0.        ,  666.66666667,    0.        ,\n",
              "          0.        ,    0.        ,    0.        ,  333.33333333,\n",
              "          0.        ,    0.        ,    0.        ,    0.        ,\n",
              "          0.        ,    0.        ,    0.        ,  666.66666667,\n",
              "          0.        ,    0.        ,    0.        ,  333.33333333,\n",
              "          0.        ,    0.        ,    0.        ,    0.        ,\n",
              "          0.        ,  333.33333333,    0.        ,    0.        ,\n",
              "          0.        ,  333.33333333,    0.        ,    0.        ,\n",
              "          0.        ,  333.33333333,    0.        ,    0.        ,\n",
              "          0.        ,  333.33333333,    0.        ,    0.        ,\n",
              "          0.        ,    0.        ,    0.        ,    0.        ,\n",
              "        333.33333333,    0.        ,  666.66666667,    0.        ,\n",
              "        333.33333333,    0.        ,  333.33333333,    0.        ,\n",
              "          0.        ,    0.        ,    0.        ,  333.33333333,\n",
              "          0.        ,    0.        ,    0.        ,  666.66666667,\n",
              "          0.        ,    0.        ,    0.        ,    0.        ,\n",
              "          0.        ,  333.33333333,    0.        ,    0.        ,\n",
              "          0.        ,  666.66666667,  666.66666667,    0.        ,\n",
              "          0.        ,    0.        ,    0.        ,    0.        ,\n",
              "        333.33333333,    0.        ,  333.33333333,    0.        ,\n",
              "          0.        ,    0.        ,    0.        ,    0.        ,\n",
              "          0.        ,  333.33333333,    0.        ,    0.        ,\n",
              "          0.        ,  666.66666667,    0.        ,    0.        ,\n",
              "          0.        ,  666.66666667,  333.33333333,  666.66666667,\n",
              "          0.        ,    0.        ,  333.33333333,    0.        ,\n",
              "          0.        ,    0.        ,    0.        ,    0.        ,\n",
              "          0.        ,    0.        ,    0.        ,    0.        ,\n",
              "          0.        ,    0.        ,    0.        ,  333.33333333,\n",
              "          0.        ,    0.        ,    0.        ,  333.33333333,\n",
              "          0.        ,    0.        ,  666.66666667,  333.33333333,\n",
              "        666.66666667,    0.        ,    0.        ,    0.        ,\n",
              "          0.        ,    0.        ,  333.33333333,  333.33333333,\n",
              "          0.        ,    0.        ,    0.        ,    0.        ,\n",
              "          0.        ,    0.        ,    0.        ,    0.        ,\n",
              "        666.66666667,    0.        ,    0.        ,  333.33333333,\n",
              "        333.33333333, 1000.        ,    0.        ,  333.33333333,\n",
              "        333.33333333, 1000.        ,    0.        ,  333.33333333,\n",
              "          0.        ,    0.        ,    0.        ,    0.        ,\n",
              "        666.66666667,    0.        ,  333.33333333,    0.        ,\n",
              "          0.        ,    0.        ,  333.33333333,  666.66666667,\n",
              "          0.        ,    0.        ,    0.        ,  333.33333333,\n",
              "        666.66666667,    0.        ,  333.33333333,  666.66666667,\n",
              "          0.        ,    0.        ,    0.        , 1000.        ,\n",
              "          0.        ,    0.        ,  333.33333333,    0.        ,\n",
              "          0.        ,    0.        ,    0.        ,    0.        ,\n",
              "        333.33333333,    0.        ,  333.33333333,    0.        ,\n",
              "          0.        ,    0.        ,    0.        ,    0.        ,\n",
              "          0.        ,    0.        ,    0.        ,    0.        ,\n",
              "          0.        ,  333.33333333,  666.66666667,    0.        ,\n",
              "          0.        ,  333.33333333,  333.33333333,  666.66666667,\n",
              "          0.        ,  333.33333333,    0.        ,    0.        ,\n",
              "        666.66666667,    0.        ,    0.        ,    0.        ,\n",
              "          0.        ,  666.66666667,    0.        ,    0.        ,\n",
              "          0.        ,    0.        ,    0.        ,  333.33333333,\n",
              "          0.        ,    0.        ,    0.        ,  333.33333333,\n",
              "          0.        ,    0.        ,    0.        ,    0.        ,\n",
              "          0.        ,    0.        ,    0.        ,    0.        ,\n",
              "          0.        ,  333.33333333,  333.33333333,    0.        ,\n",
              "        333.33333333,  666.66666667,    0.        ,    0.        ,\n",
              "          0.        ,  666.66666667,    0.        ,  333.33333333,\n",
              "       1000.        ,    0.        ,    0.        ,    0.        ,\n",
              "          0.        ,    0.        ,    0.        ,  333.33333333,\n",
              "          0.        ,    0.        ,    0.        ,    0.        ,\n",
              "          0.        ,    0.        ,    0.        ,    0.        ,\n",
              "          0.        , 1000.        ,    0.        ,    0.        ,\n",
              "          0.        ,    0.        ,    0.        ,    0.        ,\n",
              "          0.        ,    0.        ,    0.        ,    0.        ,\n",
              "          0.        ,    0.        ,    0.        ,  666.66666667,\n",
              "          0.        ,    0.        , 1000.        ,    0.        ,\n",
              "        666.66666667,    0.        ,    0.        ,    0.        ,\n",
              "        333.33333333,    0.        ,    0.        ,  666.66666667,\n",
              "          0.        ,    0.        ,    0.        ,  333.33333333,\n",
              "        666.66666667,    0.        ,    0.        ,  666.66666667,\n",
              "          0.        ,  333.33333333,    0.        ,    0.        ,\n",
              "          0.        ,  333.33333333,  333.33333333,  666.66666667,\n",
              "          0.        ,    0.        ,  333.33333333,    0.        ,\n",
              "          0.        ,    0.        ,    0.        ,    0.        ,\n",
              "          0.        ,    0.        ,    0.        ,  333.33333333,\n",
              "          0.        ,  333.33333333,    0.        ,    0.        ,\n",
              "          0.        ,  333.33333333,    0.        ,  333.33333333,\n",
              "          0.        ,  666.66666667, 1000.        ,    0.        ,\n",
              "          0.        ,    0.        ,  666.66666667,    0.        ,\n",
              "          0.        ,  333.33333333,    0.        ,    0.        ,\n",
              "          0.        ,    0.        ,  333.33333333,    0.        ,\n",
              "          0.        ,    0.        ,    0.        ,    0.        ,\n",
              "        333.33333333,    0.        ,    0.        ,    0.        ,\n",
              "          0.        ,    0.        ,    0.        ,    0.        ,\n",
              "          0.        ,    0.        ,    0.        ,    0.        ,\n",
              "        333.33333333,    0.        ,    0.        ,  666.66666667,\n",
              "          0.        ,    0.        ,    0.        ,    0.        ,\n",
              "          0.        ,    0.        ,    0.        ,  666.66666667,\n",
              "          0.        ,  333.33333333,    0.        ,    0.        ,\n",
              "          0.        ,    0.        ,    0.        ,    0.        ,\n",
              "          0.        ,    0.        ,    0.        ,  333.33333333,\n",
              "        333.33333333,    0.        ,    0.        ,    0.        ,\n",
              "        333.33333333,    0.        ,    0.        ,    0.        ,\n",
              "          0.        ,  333.33333333,    0.        ,  666.66666667,\n",
              "          0.        ,    0.        ,    0.        ,  333.33333333,\n",
              "        333.33333333,    0.        ,    0.        ,    0.        ,\n",
              "          0.        ,    0.        ,    0.        ,    0.        ,\n",
              "          0.        ,    0.        ,    0.        ,  333.33333333,\n",
              "          0.        ,    0.        ,    0.        ,  333.33333333,\n",
              "          0.        ,    0.        ,    0.        ,  333.33333333,\n",
              "          0.        ,    0.        ,    0.        ,    0.        ,\n",
              "          0.        ,    0.        ,    0.        ,  333.33333333,\n",
              "          0.        ,    0.        ,    0.        ,    0.        ,\n",
              "        666.66666667,    0.        ,  333.33333333,    0.        ,\n",
              "          0.        ,    0.        ,    0.        ,  333.33333333,\n",
              "          0.        ,  333.33333333, 1000.        ,  333.33333333,\n",
              "        666.66666667,    0.        ,  333.33333333,  333.33333333,\n",
              "          0.        ,    0.        ,  666.66666667,  333.33333333,\n",
              "          0.        ,  666.66666667,    0.        ,    0.        ,\n",
              "          0.        ,    0.        , 1000.        ,  333.33333333,\n",
              "        333.33333333,    0.        ,    0.        ,  333.33333333,\n",
              "          0.        ,  333.33333333,    0.        ,    0.        ,\n",
              "        333.33333333,    0.        ,  333.33333333,    0.        ,\n",
              "          0.        ,  333.33333333,    0.        ,    0.        ,\n",
              "          0.        ,    0.        ,    0.        ,  666.66666667,\n",
              "          0.        ,  666.66666667,    0.        ,  666.66666667,\n",
              "          0.        ,    0.        ,  666.66666667,    0.        ,\n",
              "          0.        ,    0.        ,    0.        ,  333.33333333,\n",
              "        333.33333333,    0.        ,    0.        ,  333.33333333,\n",
              "          0.        ,  333.33333333,    0.        ,  333.33333333,\n",
              "          0.        ,    0.        ,    0.        ,    0.        ,\n",
              "        333.33333333,    0.        ,  333.33333333,  666.66666667])"
            ]
          },
          "metadata": {},
          "execution_count": 69
        }
      ]
    },
    {
      "cell_type": "code",
      "metadata": {
        "colab": {
          "base_uri": "https://localhost:8080/"
        },
        "id": "q5bzzpmaescS",
        "outputId": "f4c99715-cc8f-4ab3-e1c6-e38b78d9e6ee"
      },
      "source": [
        "print(accuracy_score(y_Kntest, KNN.predict(X_Kntest)))\n",
        "##TAMBEM SE PODE UTILIZAR PARA ACURACIAS = modelo.score(X_Kntest,y_Kntest ) "
      ],
      "execution_count": 70,
      "outputs": [
        {
          "output_type": "stream",
          "name": "stdout",
          "text": [
            "0.8675595238095238\n"
          ]
        }
      ]
    },
    {
      "cell_type": "code",
      "metadata": {
        "colab": {
          "base_uri": "https://localhost:8080/"
        },
        "id": "TnugCo7mfW3v",
        "outputId": "fa509574-0658-4ed8-c5db-111b978df3cf"
      },
      "source": [
        "print(classification_report(y_Kntest, KNN.predict(X_Kntest), target_names=target_names))"
      ],
      "execution_count": 71,
      "outputs": [
        {
          "output_type": "stream",
          "name": "stdout",
          "text": [
            "              precision    recall  f1-score   support\n",
            "\n",
            "    No Acept       0.89      0.96      0.92       558\n",
            "       Acept       0.69      0.40      0.51       114\n",
            "\n",
            "    accuracy                           0.87       672\n",
            "   macro avg       0.79      0.68      0.72       672\n",
            "weighted avg       0.85      0.87      0.85       672\n",
            "\n"
          ]
        }
      ]
    },
    {
      "cell_type": "code",
      "metadata": {
        "colab": {
          "base_uri": "https://localhost:8080/",
          "height": 265
        },
        "id": "AVS_WheQfdmN",
        "outputId": "59561e63-4b55-4f44-a37c-f88745d83d6c"
      },
      "source": [
        "fpr_mod3, tpr_mod3,thresholds_mod3 = roc_curve(y_Kntest,Prob_KNN)\n",
        "plt.scatter(fpr_mod3, tpr_mod3)\n",
        "plt.show()\n"
      ],
      "execution_count": 72,
      "outputs": [
        {
          "output_type": "display_data",
          "data": {
            "image/png": "[encoded data removed]",
            "text/plain": [
              "<Figure size 432x288 with 1 Axes>"
            ]
          },
          "metadata": {
            "needs_background": "light"
          }
        }
      ]
    },
    {
      "cell_type": "markdown",
      "metadata": {
        "id": "ZxXpWdL24iqN"
      },
      "source": [
        "###KNN com ajuste de parâmetros"
      ]
    },
    {
      "cell_type": "code",
      "metadata": {
        "id": "ALtaF_g5gKHC"
      },
      "source": [
        "from sklearn.model_selection import GridSearchCV\n"
      ],
      "execution_count": 73,
      "outputs": []
    },
    {
      "cell_type": "markdown",
      "metadata": {
        "id": "5B7TzUii5Rs4"
      },
      "source": [
        "####Definimos os valores que serão testados "
      ]
    },
    {
      "cell_type": "code",
      "metadata": {
        "id": "Ap2M0GMJ5Qrz"
      },
      "source": [
        "valores_K = np.array([3, 5, 7, 9, 11])\n",
        "calculo_distancia =['minkowski','chebyshev']\n",
        "valores_p = np.array([1,2,3,4])\n",
        "valores_grid = {'n_neighbors':valores_K, 'metric':calculo_distancia, 'p':valores_p}"
      ],
      "execution_count": 74,
      "outputs": []
    },
    {
      "cell_type": "markdown",
      "metadata": {
        "id": "fjRYnWtt74lc"
      },
      "source": [
        "####Criação do modelo"
      ]
    },
    {
      "cell_type": "code",
      "metadata": {
        "id": "GfGEN4b_4_lI"
      },
      "source": [
        "modelo_ajustado_KNN = KNeighborsClassifier()"
      ],
      "execution_count": 75,
      "outputs": []
    },
    {
      "cell_type": "markdown",
      "metadata": {
        "id": "cvMJD5f18JCG"
      },
      "source": [
        "####Criando os grids"
      ]
    },
    {
      "cell_type": "code",
      "metadata": {
        "id": "A8c6-1gW7U8z"
      },
      "source": [
        "gridKN = GridSearchCV(estimator = modelo_ajustado_KNN, param_grid = valores_grid, cv=5)\n"
      ],
      "execution_count": 76,
      "outputs": []
    },
    {
      "cell_type": "code",
      "metadata": {
        "colab": {
          "base_uri": "https://localhost:8080/"
        },
        "id": "OquHrlfz-gH-",
        "outputId": "6d22ba71-477b-44f9-b45f-6b7f8b77d5e3"
      },
      "source": [
        "##gridKN.fit(X_Kntrain, y_Kntrain)\n",
        "gridKN.fit(X_Kntrain, y_Kntrain)"
      ],
      "execution_count": 77,
      "outputs": [
        {
          "output_type": "execute_result",
          "data": {
            "text/plain": [
              "GridSearchCV(cv=5, error_score=nan,\n",
              "             estimator=KNeighborsClassifier(algorithm='auto', leaf_size=30,\n",
              "                                            metric='minkowski',\n",
              "                                            metric_params=None, n_jobs=None,\n",
              "                                            n_neighbors=5, p=2,\n",
              "                                            weights='uniform'),\n",
              "             iid='deprecated', n_jobs=None,\n",
              "             param_grid={'metric': ['minkowski', 'chebyshev'],\n",
              "                         'n_neighbors': array([ 3,  5,  7,  9, 11]),\n",
              "                         'p': array([1, 2, 3, 4])},\n",
              "             pre_dispatch='2*n_jobs', refit=True, return_train_score=False,\n",
              "             scoring=None, verbose=0)"
            ]
          },
          "metadata": {},
          "execution_count": 77
        }
      ]
    },
    {
      "cell_type": "code",
      "metadata": {
        "colab": {
          "base_uri": "https://localhost:8080/"
        },
        "id": "VK73DMAS9N0M",
        "outputId": "f8b028db-4199-477a-e3e8-1f6ac1b0b9c6"
      },
      "source": [
        "print('Melhor acerácia:', gridKN.best_score_)\n",
        "print('Melhor K:', gridKN.best_estimator_.n_neighbors)\n",
        "print('Melhor distância:', gridKN.best_estimator_.metric)\n",
        "print('Melhor p:', gridKN.best_estimator_.p)"
      ],
      "execution_count": 78,
      "outputs": [
        {
          "output_type": "stream",
          "name": "stdout",
          "text": [
            "Melhor acerácia: 0.8702875399361023\n",
            "Melhor K: 11\n",
            "Melhor distância: minkowski\n",
            "Melhor p: 2\n"
          ]
        }
      ]
    },
    {
      "cell_type": "markdown",
      "metadata": {
        "id": "-pjDIp2-ZOlO"
      },
      "source": [
        "Se faze a utilizaçao do modelo KNN as não deu uma boa acurancia"
      ]
    },
    {
      "cell_type": "markdown",
      "metadata": {
        "id": "gPNwNJgCeFou"
      },
      "source": [
        "#A conclução do caso\n",
        "Depois de fazer o analize descriptivo, se detetó que a grande parte de os clientes compran mediante los tres canais en um mismo periodo de tempo, eso poderia demostrar certa fidelización, ademais se detectou que o canal Catalogo é el menos utilizado pelos clientes. Por outro lado, se analizou que o producto com mayor proporção de vendas é o vinho, abarcando um 50% del total de productos; em este mesmo contexto se analizou que o segundo produto com mas volumen de vendas é a carne, com um 27%.\n",
        "Em cuanto ao modelo que se precisa para clasificar a los clientes se realizo um teste com Regeção logistica, Randon Forest e K-neighbor, tendo um melhor resultado de validação de modelo com o Random forest e sendo comprobado empleando a Curva ROC a través do AUC. \n"
      ]
    }
  ]
}